{
 "cells": [
  {
   "cell_type": "code",
   "execution_count": 9,
   "metadata": {},
   "outputs": [],
   "source": [
    "pi = 3.14159\n",
    "def area(radius):\n",
    "    return pi*(radius**2)\n",
    "def circumference(radius):\n",
    "    return 2*pi*radius"
   ]
  },
  {
   "cell_type": "code",
   "execution_count": 10,
   "metadata": {},
   "outputs": [
    {
     "name": "stdout",
     "output_type": "stream",
     "text": [
      "3.14159\n"
     ]
    }
   ],
   "source": [
    "print (pi)"
   ]
  },
  {
   "cell_type": "code",
   "execution_count": 11,
   "metadata": {},
   "outputs": [
    {
     "name": "stdout",
     "output_type": "stream",
     "text": [
      "314.159\n"
     ]
    }
   ],
   "source": [
    "print (area(10))"
   ]
  },
  {
   "cell_type": "code",
   "execution_count": 12,
   "metadata": {},
   "outputs": [
    {
     "name": "stdout",
     "output_type": "stream",
     "text": [
      "18.849539999999998\n"
     ]
    }
   ],
   "source": [
    "print (circumference(3))"
   ]
  },
  {
   "cell_type": "code",
   "execution_count": 13,
   "metadata": {},
   "outputs": [],
   "source": [
    "# without using magic function\n",
    "# pip install ipython-sql"
   ]
  },
  {
   "cell_type": "code",
   "execution_count": 14,
   "metadata": {},
   "outputs": [],
   "source": [
    "import sqlite3"
   ]
  },
  {
   "cell_type": "code",
   "execution_count": 15,
   "metadata": {},
   "outputs": [],
   "source": [
    "connection = sqlite3.connect(\"db_univ7_new.db\")"
   ]
  },
  {
   "cell_type": "code",
   "execution_count": 16,
   "metadata": {},
   "outputs": [],
   "source": [
    "cursor = connection.cursor()"
   ]
  },
  {
   "cell_type": "code",
   "execution_count": 17,
   "metadata": {},
   "outputs": [],
   "source": [
    "with connection:\n",
    "    cursor.execute(\"select * from student\")"
   ]
  },
  {
   "cell_type": "code",
   "execution_count": 18,
   "metadata": {},
   "outputs": [],
   "source": [
    "rows = cursor.fetchall()"
   ]
  },
  {
   "cell_type": "code",
   "execution_count": 19,
   "metadata": {},
   "outputs": [
    {
     "name": "stdout",
     "output_type": "stream",
     "text": [
      "00128 Zhang Comp. Sci. 102\n",
      "12345 Shankar Comp. Sci. 32\n",
      "19991 Brandt History 80\n",
      "23121 Chavez Finance 110\n",
      "44553 Peltier Physics 56\n",
      "45678 Levy Physics 46\n",
      "54321 Williams Comp. Sci. 54\n",
      "55739 Sanchez Music 38\n",
      "70557 Snow Physics 0\n",
      "76543 Brown Comp. Sci. 58\n",
      "76653 Aoi Elec. Eng. 60\n",
      "98765 Bourikas Elec. Eng. 98\n",
      "98988 Tanaka Biology 120\n",
      "44444 John History 10\n"
     ]
    }
   ],
   "source": [
    "for row in rows:\n",
    "    print(row[0], row[1], row[2], row[3])"
   ]
  },
  {
   "cell_type": "code",
   "execution_count": 20,
   "metadata": {},
   "outputs": [
    {
     "ename": "IntegrityError",
     "evalue": "UNIQUE constraint failed: student.ID",
     "output_type": "error",
     "traceback": [
      "\u001b[1;31m---------------------------------------------------------------------------\u001b[0m",
      "\u001b[1;31mIntegrityError\u001b[0m                            Traceback (most recent call last)",
      "\u001b[1;32mc:\\Users\\12nov\\OneDrive - GIST\\gist\\2022 FALL\\[DB]\\Database22F\\Chapter5_Without_Magic_Function_new.ipynb 셀 12\u001b[0m in \u001b[0;36m<cell line: 1>\u001b[1;34m()\u001b[0m\n\u001b[1;32m----> <a href='vscode-notebook-cell:/c%3A/Users/12nov/OneDrive%20-%20GIST/gist/2022%20FALL/%5BDB%5D/Database22F/Chapter5_Without_Magic_Function_new.ipynb#X14sZmlsZQ%3D%3D?line=0'>1</a>\u001b[0m cursor\u001b[39m.\u001b[39;49mexecute(\u001b[39m\"\u001b[39;49m\u001b[39mINSERT INTO student values (\u001b[39;49m\u001b[39m'\u001b[39;49m\u001b[39m44444\u001b[39;49m\u001b[39m'\u001b[39;49m\u001b[39m, \u001b[39;49m\u001b[39m'\u001b[39;49m\u001b[39mJohn\u001b[39;49m\u001b[39m'\u001b[39;49m\u001b[39m, \u001b[39;49m\u001b[39m'\u001b[39;49m\u001b[39mHistory\u001b[39;49m\u001b[39m'\u001b[39;49m\u001b[39m, 10)\u001b[39;49m\u001b[39m\"\u001b[39;49m)\n",
      "\u001b[1;31mIntegrityError\u001b[0m: UNIQUE constraint failed: student.ID"
     ]
    }
   ],
   "source": [
    "cursor.execute(\"INSERT INTO student values ('44444', 'John', 'History', 10)\")"
   ]
  },
  {
   "cell_type": "code",
   "execution_count": 21,
   "metadata": {},
   "outputs": [],
   "source": [
    "with connection:\n",
    "    cursor.execute(\"select * from student\")"
   ]
  },
  {
   "cell_type": "code",
   "execution_count": 22,
   "metadata": {},
   "outputs": [],
   "source": [
    "rows = cursor.fetchall()"
   ]
  },
  {
   "cell_type": "code",
   "execution_count": 23,
   "metadata": {},
   "outputs": [
    {
     "name": "stdout",
     "output_type": "stream",
     "text": [
      "00128 Zhang Comp. Sci. 102\n",
      "12345 Shankar Comp. Sci. 32\n",
      "19991 Brandt History 80\n",
      "23121 Chavez Finance 110\n",
      "44553 Peltier Physics 56\n",
      "45678 Levy Physics 46\n",
      "54321 Williams Comp. Sci. 54\n",
      "55739 Sanchez Music 38\n",
      "70557 Snow Physics 0\n",
      "76543 Brown Comp. Sci. 58\n",
      "76653 Aoi Elec. Eng. 60\n",
      "98765 Bourikas Elec. Eng. 98\n",
      "98988 Tanaka Biology 120\n",
      "44444 John History 10\n"
     ]
    }
   ],
   "source": [
    "for row in rows:\n",
    "    print(row[0], row[1], row[2], row[3])"
   ]
  },
  {
   "cell_type": "code",
   "execution_count": 24,
   "metadata": {},
   "outputs": [],
   "source": [
    "sID='33344'"
   ]
  },
  {
   "cell_type": "code",
   "execution_count": 25,
   "metadata": {},
   "outputs": [],
   "source": [
    "sname='Maria'"
   ]
  },
  {
   "cell_type": "code",
   "execution_count": 26,
   "metadata": {},
   "outputs": [
    {
     "data": {
      "text/plain": [
       "<sqlite3.Cursor at 0x1c3c07abe30>"
      ]
     },
     "execution_count": 26,
     "metadata": {},
     "output_type": "execute_result"
    }
   ],
   "source": [
    "cursor.execute(\"INSERT INTO student values (?, ?, 'History', 40)\",(sID,sname))\n",
    "# variable도 가능"
   ]
  },
  {
   "cell_type": "code",
   "execution_count": 27,
   "metadata": {},
   "outputs": [],
   "source": [
    "with connection:\n",
    "    cursor.execute(\"select * from student\")"
   ]
  },
  {
   "cell_type": "code",
   "execution_count": 28,
   "metadata": {},
   "outputs": [],
   "source": [
    "rows = cursor.fetchall()"
   ]
  },
  {
   "cell_type": "code",
   "execution_count": 29,
   "metadata": {},
   "outputs": [
    {
     "name": "stdout",
     "output_type": "stream",
     "text": [
      "00128 Zhang Comp. Sci. 102\n",
      "12345 Shankar Comp. Sci. 32\n",
      "19991 Brandt History 80\n",
      "23121 Chavez Finance 110\n",
      "44553 Peltier Physics 56\n",
      "45678 Levy Physics 46\n",
      "54321 Williams Comp. Sci. 54\n",
      "55739 Sanchez Music 38\n",
      "70557 Snow Physics 0\n",
      "76543 Brown Comp. Sci. 58\n",
      "76653 Aoi Elec. Eng. 60\n",
      "98765 Bourikas Elec. Eng. 98\n",
      "98988 Tanaka Biology 120\n",
      "44444 John History 10\n",
      "33344 Maria History 40\n"
     ]
    }
   ],
   "source": [
    "for row in rows:\n",
    "    print(row[0], row[1], row[2], row[3])"
   ]
  },
  {
   "cell_type": "code",
   "execution_count": 22,
   "metadata": {},
   "outputs": [],
   "source": [
    "import statistics"
   ]
  },
  {
   "cell_type": "code",
   "execution_count": 31,
   "metadata": {},
   "outputs": [],
   "source": [
    "from_db = []"
   ]
  },
  {
   "cell_type": "code",
   "execution_count": 32,
   "metadata": {},
   "outputs": [
    {
     "name": "stdout",
     "output_type": "stream",
     "text": [
      "00128 Zhang Comp. Sci. 102\n",
      "12345 Shankar Comp. Sci. 32\n",
      "19991 Brandt History 80\n",
      "23121 Chavez Finance 110\n",
      "44553 Peltier Physics 56\n",
      "45678 Levy Physics 46\n",
      "54321 Williams Comp. Sci. 54\n",
      "55739 Sanchez Music 38\n",
      "70557 Snow Physics 0\n",
      "76543 Brown Comp. Sci. 58\n",
      "76653 Aoi Elec. Eng. 60\n",
      "98765 Bourikas Elec. Eng. 98\n",
      "98988 Tanaka Biology 120\n",
      "44444 John History 10\n",
      "33344 Maria History 40\n"
     ]
    }
   ],
   "source": [
    "for row in rows:\n",
    "    print(row[0], row[1], row[2], row[3]);\n",
    "    from_db.append(row[3]);"
   ]
  },
  {
   "cell_type": "code",
   "execution_count": 33,
   "metadata": {},
   "outputs": [
    {
     "name": "stdout",
     "output_type": "stream",
     "text": [
      "[102, 32, 80, 110, 56, 46, 54, 38, 0, 58, 60, 98, 120, 10, 40]\n"
     ]
    }
   ],
   "source": [
    "print (from_db)"
   ]
  },
  {
   "cell_type": "code",
   "execution_count": 34,
   "metadata": {},
   "outputs": [
    {
     "ename": "NameError",
     "evalue": "name 'statistics' is not defined",
     "output_type": "error",
     "traceback": [
      "\u001b[1;31m---------------------------------------------------------------------------\u001b[0m",
      "\u001b[1;31mNameError\u001b[0m                                 Traceback (most recent call last)",
      "\u001b[1;32mc:\\Users\\12nov\\OneDrive - GIST\\gist\\2022 FALL\\[DB]\\Database22F\\Chapter5_Without_Magic_Function_new.ipynb 셀 26\u001b[0m in \u001b[0;36m<cell line: 1>\u001b[1;34m()\u001b[0m\n\u001b[1;32m----> <a href='vscode-notebook-cell:/c%3A/Users/12nov/OneDrive%20-%20GIST/gist/2022%20FALL/%5BDB%5D/Database22F/Chapter5_Without_Magic_Function_new.ipynb#X34sZmlsZQ%3D%3D?line=0'>1</a>\u001b[0m statistics\u001b[39m.\u001b[39mmean(from_db)\n",
      "\u001b[1;31mNameError\u001b[0m: name 'statistics' is not defined"
     ]
    }
   ],
   "source": [
    "statistics.mean(from_db)"
   ]
  },
  {
   "cell_type": "code",
   "execution_count": 35,
   "metadata": {},
   "outputs": [
    {
     "ename": "NameError",
     "evalue": "name 'statistics' is not defined",
     "output_type": "error",
     "traceback": [
      "\u001b[1;31m---------------------------------------------------------------------------\u001b[0m",
      "\u001b[1;31mNameError\u001b[0m                                 Traceback (most recent call last)",
      "\u001b[1;32mc:\\Users\\12nov\\OneDrive - GIST\\gist\\2022 FALL\\[DB]\\Database22F\\Chapter5_Without_Magic_Function_new.ipynb 셀 27\u001b[0m in \u001b[0;36m<cell line: 1>\u001b[1;34m()\u001b[0m\n\u001b[1;32m----> <a href='vscode-notebook-cell:/c%3A/Users/12nov/OneDrive%20-%20GIST/gist/2022%20FALL/%5BDB%5D/Database22F/Chapter5_Without_Magic_Function_new.ipynb#X35sZmlsZQ%3D%3D?line=0'>1</a>\u001b[0m statistics\u001b[39m.\u001b[39mstdev(from_db)\n",
      "\u001b[1;31mNameError\u001b[0m: name 'statistics' is not defined"
     ]
    }
   ],
   "source": [
    "statistics.stdev(from_db)"
   ]
  },
  {
   "cell_type": "code",
   "execution_count": 30,
   "metadata": {},
   "outputs": [
    {
     "ename": "SyntaxError",
     "evalue": "invalid syntax (713714506.py, line 1)",
     "output_type": "error",
     "traceback": [
      "\u001b[1;36m  Input \u001b[1;32mIn [30]\u001b[1;36m\u001b[0m\n\u001b[1;33m    type rows\u001b[0m\n\u001b[1;37m         ^\u001b[0m\n\u001b[1;31mSyntaxError\u001b[0m\u001b[1;31m:\u001b[0m invalid syntax\n"
     ]
    }
   ],
   "source": [
    "type rows"
   ]
  },
  {
   "cell_type": "code",
   "execution_count": 24,
   "metadata": {},
   "outputs": [
    {
     "ename": "TypeError",
     "evalue": "can't convert type 'str' to numerator/denominator",
     "output_type": "error",
     "traceback": [
      "\u001b[1;31m---------------------------------------------------------------------------\u001b[0m",
      "\u001b[1;31mTypeError\u001b[0m                                 Traceback (most recent call last)",
      "Input \u001b[1;32mIn [24]\u001b[0m, in \u001b[0;36m<cell line: 1>\u001b[1;34m()\u001b[0m\n\u001b[1;32m----> 1\u001b[0m \u001b[43mstatistics\u001b[49m\u001b[38;5;241;43m.\u001b[39;49m\u001b[43mmean\u001b[49m\u001b[43m(\u001b[49m\u001b[43mrows\u001b[49m\u001b[43m[\u001b[49m\u001b[38;5;241;43m3\u001b[39;49m\u001b[43m]\u001b[49m\u001b[43m)\u001b[49m\n",
      "File \u001b[1;32m~\\anaconda3_2022\\lib\\statistics.py:316\u001b[0m, in \u001b[0;36mmean\u001b[1;34m(data)\u001b[0m\n\u001b[0;32m    314\u001b[0m \u001b[38;5;28;01mif\u001b[39;00m n \u001b[38;5;241m<\u001b[39m \u001b[38;5;241m1\u001b[39m:\n\u001b[0;32m    315\u001b[0m     \u001b[38;5;28;01mraise\u001b[39;00m StatisticsError(\u001b[38;5;124m'\u001b[39m\u001b[38;5;124mmean requires at least one data point\u001b[39m\u001b[38;5;124m'\u001b[39m)\n\u001b[1;32m--> 316\u001b[0m T, total, count \u001b[38;5;241m=\u001b[39m \u001b[43m_sum\u001b[49m\u001b[43m(\u001b[49m\u001b[43mdata\u001b[49m\u001b[43m)\u001b[49m\n\u001b[0;32m    317\u001b[0m \u001b[38;5;28;01massert\u001b[39;00m count \u001b[38;5;241m==\u001b[39m n\n\u001b[0;32m    318\u001b[0m \u001b[38;5;28;01mreturn\u001b[39;00m _convert(total \u001b[38;5;241m/\u001b[39m n, T)\n",
      "File \u001b[1;32m~\\anaconda3_2022\\lib\\statistics.py:166\u001b[0m, in \u001b[0;36m_sum\u001b[1;34m(data, start)\u001b[0m\n\u001b[0;32m    164\u001b[0m \u001b[38;5;28;01mfor\u001b[39;00m typ, values \u001b[38;5;129;01min\u001b[39;00m groupby(data, \u001b[38;5;28mtype\u001b[39m):\n\u001b[0;32m    165\u001b[0m     T \u001b[38;5;241m=\u001b[39m _coerce(T, typ)  \u001b[38;5;66;03m# or raise TypeError\u001b[39;00m\n\u001b[1;32m--> 166\u001b[0m     \u001b[38;5;28;01mfor\u001b[39;00m n, d \u001b[38;5;129;01min\u001b[39;00m \u001b[38;5;28mmap\u001b[39m(_exact_ratio, values):\n\u001b[0;32m    167\u001b[0m         count \u001b[38;5;241m+\u001b[39m\u001b[38;5;241m=\u001b[39m \u001b[38;5;241m1\u001b[39m\n\u001b[0;32m    168\u001b[0m         partials[d] \u001b[38;5;241m=\u001b[39m partials_get(d, \u001b[38;5;241m0\u001b[39m) \u001b[38;5;241m+\u001b[39m n\n",
      "File \u001b[1;32m~\\anaconda3_2022\\lib\\statistics.py:248\u001b[0m, in \u001b[0;36m_exact_ratio\u001b[1;34m(x)\u001b[0m\n\u001b[0;32m    246\u001b[0m     \u001b[38;5;28;01mreturn\u001b[39;00m (x, \u001b[38;5;28;01mNone\u001b[39;00m)\n\u001b[0;32m    247\u001b[0m msg \u001b[38;5;241m=\u001b[39m \u001b[38;5;124m\"\u001b[39m\u001b[38;5;124mcan\u001b[39m\u001b[38;5;124m'\u001b[39m\u001b[38;5;124mt convert type \u001b[39m\u001b[38;5;124m'\u001b[39m\u001b[38;5;132;01m{}\u001b[39;00m\u001b[38;5;124m'\u001b[39m\u001b[38;5;124m to numerator/denominator\u001b[39m\u001b[38;5;124m\"\u001b[39m\n\u001b[1;32m--> 248\u001b[0m \u001b[38;5;28;01mraise\u001b[39;00m \u001b[38;5;167;01mTypeError\u001b[39;00m(msg\u001b[38;5;241m.\u001b[39mformat(\u001b[38;5;28mtype\u001b[39m(x)\u001b[38;5;241m.\u001b[39m\u001b[38;5;18m__name__\u001b[39m))\n",
      "\u001b[1;31mTypeError\u001b[0m: can't convert type 'str' to numerator/denominator"
     ]
    }
   ],
   "source": [
    "statistics.mean(rows[3])"
   ]
  }
 ],
 "metadata": {
  "kernelspec": {
   "display_name": "Python 3.8.12 ('gist20205149')",
   "language": "python",
   "name": "python3"
  },
  "language_info": {
   "codemirror_mode": {
    "name": "ipython",
    "version": 3
   },
   "file_extension": ".py",
   "mimetype": "text/x-python",
   "name": "python",
   "nbconvert_exporter": "python",
   "pygments_lexer": "ipython3",
   "version": "3.8.12"
  },
  "vscode": {
   "interpreter": {
    "hash": "ba02f23ef6e070bdbb723ad4c7c7640c7db25ebc23c87a47c19da5eb76547fba"
   }
  }
 },
 "nbformat": 4,
 "nbformat_minor": 2
}
