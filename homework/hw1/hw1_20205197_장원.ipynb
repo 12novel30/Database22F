{
 "cells": [
  {
   "cell_type": "code",
   "execution_count": 2,
   "metadata": {},
   "outputs": [],
   "source": [
    "%load_ext sql"
   ]
  },
  {
   "cell_type": "code",
   "execution_count": 3,
   "metadata": {},
   "outputs": [],
   "source": [
    "%sql sqlite:///hw_1.db"
   ]
  },
  {
   "cell_type": "code",
   "execution_count": 4,
   "metadata": {},
   "outputs": [
    {
     "name": "stdout",
     "output_type": "stream",
     "text": [
      " * sqlite:///hw_1.db\n",
      "Done.\n"
     ]
    },
    {
     "data": {
      "text/plain": [
       "[]"
      ]
     },
     "execution_count": 4,
     "metadata": {},
     "output_type": "execute_result"
    }
   ],
   "source": [
    "%sql PRAGMA foreign_keys = ON;"
   ]
  },
  {
   "cell_type": "code",
   "execution_count": 9,
   "metadata": {},
   "outputs": [
    {
     "name": "stdout",
     "output_type": "stream",
     "text": [
      " * sqlite:///hw_1.db\n",
      "Done.\n",
      "Done.\n",
      "Done.\n",
      "Done.\n",
      "Done.\n",
      "Done.\n"
     ]
    },
    {
     "data": {
      "text/plain": [
       "[]"
      ]
     },
     "execution_count": 9,
     "metadata": {},
     "output_type": "execute_result"
    }
   ],
   "source": [
    "%%sql -- Problem 1 \n",
    "\n",
    "create table branch(\n",
    "    branch_name varchar(20),\n",
    "    branch_city varchar(30) not null,\n",
    "    assets numeric(10,2),\n",
    "    primary key(branch_name)\n",
    ");\n",
    "\n",
    "create table account (\n",
    "    account_number char(5),\n",
    "    branch_name varchar(20),\n",
    "    balance numeric(8,2),\n",
    "    primary key(account_number),\n",
    "    foreign key(branch_name) references branch on delete cascade\n",
    ");\n",
    "\n",
    "create table customer(\n",
    "    customer_name varchar(20),\n",
    "    customer_street varchar(30) not null,\n",
    "    customer_city varchar(30) not null,\n",
    "    primary key (customer_name)\n",
    ");\n",
    "\n",
    "create table depositor(\n",
    "    customer_name varchar(20),\n",
    "    account_number char(5),\n",
    "    primary key (customer_name, account_number),\n",
    "    foreign key (customer_name) references customer on delete cascade,\n",
    "    foreign key (account_number) references account on delete cascade\n",
    ");\n",
    "\n",
    "create table loan (\n",
    "    loan_number char(7),\n",
    "    branch_name varchar(20),\n",
    "    amount numeric(8,2),\n",
    "    primary key (loan_number),\n",
    "    foreign key (branch_name) references branch on delete cascade\n",
    ");\n",
    "\n",
    "create table borrower(\n",
    "    customer_name varchar(20),\n",
    "    loan_number char(7),\n",
    "    primary key (customer_name, loan_number),\n",
    "    foreign key (customer_name) references customer on delete cascade,\n",
    "    foreign key (loan_number) references loan on delete cascade\n",
    ");"
   ]
  },
  {
   "cell_type": "code",
   "execution_count": 10,
   "metadata": {},
   "outputs": [
    {
     "name": "stdout",
     "output_type": "stream",
     "text": [
      " * sqlite:///hw_1.db\n",
      "7 rows affected.\n",
      "17 rows affected.\n",
      "20 rows affected.\n",
      "17 rows affected.\n",
      "19 rows affected.\n",
      "19 rows affected.\n"
     ]
    },
    {
     "data": {
      "text/plain": [
       "[]"
      ]
     },
     "execution_count": 10,
     "metadata": {},
     "output_type": "execute_result"
    }
   ],
   "source": [
    "%%sql -- Problem 2 - (1)\n",
    "insert into branch values('BNU','Busan',90000),\n",
    "                        ('GIST','Gwangju',65000),\n",
    "                        ('SNU','Seoul',75000),\n",
    "                        ('GNU','Gwangju',35000),\n",
    "                        ('Chumdan','Gwangju',50000),\n",
    "                        ('Suwan','Gwangju',85000),\n",
    "                        ('Kaist','Daejeon',60000);\n",
    "                        \n",
    "insert into loan values ('L-20141','GIST',1000),\n",
    "                        ('L-20114','GIST',500),\n",
    "                        ('L-20112','GIST',3800),\n",
    "                        ('L-20143','GIST',1400),\n",
    "                        ('L-30188','SNU',200),\n",
    "                        ('L-30163','SNU',2700),\n",
    "                        ('L-30179','SNU',1200),\n",
    "                        ('L-30175','SNU',3900),\n",
    "                        ('L-40144','BNU',2600),\n",
    "                        ('L-40183','BNU',3600),\n",
    "                        ('L-40120','BNU',7200),\n",
    "                        ('L-20201','GIST',73000),\n",
    "                        ('L-20210','GIST',78000),\n",
    "                        ('L-20831','GIST',71500),\n",
    "                        ('L-30195','SNU',70600),\n",
    "                        ('L-40450','BNU',79500),\n",
    "                        ('L-40710','BNU',73400);\n",
    "                        \n",
    "insert into customer values\n",
    "    ('James','gyungsu','seoul'),\n",
    "    ('Choi','paldal','seoul'),\n",
    "    ('Smith','gwagi','seoul'),\n",
    "    ('Lee','gwagi','anyang'),\n",
    "    ('Jung','chumdan','ulsan'),\n",
    "    ('Kim','chumdan','gwangju'),\n",
    "    ('Hwang','chumdan','gwangu'),\n",
    "    \n",
    "    \n",
    "    ('Jang','doro','daegu'),\n",
    "    ('Won','sugu','busan'),\n",
    "    ('Sun','gumnam','daejun'),\n",
    "    ('Hye','saga','daejun'),\n",
    "    \n",
    "    ('Hae','chumdan','gwangju'),\n",
    "    ('Eun','chumdan','gwangju'),\n",
    "    ('Myeong','bundang','Sungnam'),\n",
    "    ('Ill','treeroad','Seoul'),\n",
    "    ('Sung','gyeungsu','anyang'),\n",
    "    ('Man','gyeungsu','anyang'),\n",
    "    ('Gang','jiduck','anyang'),\n",
    "    ('Suek','Eun','busan'),\n",
    "    ('Hyo','Eun','busan');\n",
    "    \n",
    "insert into borrower values ('Jung','L-20112'),\n",
    "('Lee','L-20143'),\n",
    "('Kim','L-20114'),\n",
    "('Hwang','L-20141'),\n",
    "('James','L-30188'),\n",
    "('Choi','L-30163'),\n",
    "('Smith','L-30179'),\n",
    "('Jang','L-30175'),\n",
    "('Won','L-40144'),\n",
    "('Sun','L-40183'),\n",
    "('Hye','L-40120'),\n",
    "('Jung','L-20201'),\n",
    "('Jung','L-20210'),\n",
    "('Hwang','L-20831'),\n",
    "('Smith','L-30195'),\n",
    "('Sun','L-40450'),\n",
    "('Hye','L-40710');\n",
    "\n",
    "insert into account values\n",
    "    ('10001','Kaist',990),\n",
    "    ('40001','BNU',1400),\n",
    "    ('20001','GIST',1330),\n",
    "    ('10002','Kaist',1430),\n",
    "    ('20002','GIST',920),\n",
    "    ('20003','GIST',1020),\n",
    "    ('60001','Chumdan',960),\n",
    "    ('30001','SNU',1030),\n",
    "    ('30002','SNU',1260),\n",
    "    ('20004','GIST',870),\n",
    "    ('50001','Suwan',1060),\n",
    "    ('50002','Suwan',860),\n",
    "    ('50003','Suwan',1290),\n",
    "    \n",
    "    ('70001','GNU',1320),\n",
    "    ('60002','Chumdan',1580),\n",
    "    ('50004','Suwan',1145),\n",
    "    \n",
    "    ('70002','GNU',1400),\n",
    "    ('60003','Chumdan',1120),\n",
    "    ('50005','Suwan',920);\n",
    "    \n",
    "insert into depositor values\n",
    "    ('Jang','10001'),\n",
    "    ('Won','40001'),\n",
    "    ('Sun','20001'),\n",
    "    ('Hye','10002'),\n",
    "    ('Hae','20002'),\n",
    "    ('Eun','20003'),\n",
    "    ('Myeong','60001'),\n",
    "    ('Ill','30001'),\n",
    "    ('Sung','30002'),\n",
    "    ('Man','20004'),\n",
    "    ('Gang','50001'),\n",
    "    ('Suek','50002'),\n",
    "    ('Hyo','50003'),\n",
    "    \n",
    "    ('Sun','70001'),\n",
    "    ('Sun','60002'),\n",
    "    ('Sun','50004'),\n",
    "    \n",
    "    ('Eun','70002'),\n",
    "    ('Eun','60003'),\n",
    "    ('Eun','50005');\n",
    "    "
   ]
  },
  {
   "cell_type": "code",
   "execution_count": 11,
   "metadata": {},
   "outputs": [
    {
     "name": "stdout",
     "output_type": "stream",
     "text": [
      " * sqlite:///hw_1.db\n",
      "Done.\n"
     ]
    },
    {
     "data": {
      "text/html": [
       "<table>\n",
       "    <tr>\n",
       "        <th>branch_name</th>\n",
       "        <th>branch_city</th>\n",
       "        <th>assets</th>\n",
       "    </tr>\n",
       "    <tr>\n",
       "        <td>BNU</td>\n",
       "        <td>Busan</td>\n",
       "        <td>90000</td>\n",
       "    </tr>\n",
       "    <tr>\n",
       "        <td>GIST</td>\n",
       "        <td>Gwangju</td>\n",
       "        <td>65000</td>\n",
       "    </tr>\n",
       "    <tr>\n",
       "        <td>SNU</td>\n",
       "        <td>Seoul</td>\n",
       "        <td>75000</td>\n",
       "    </tr>\n",
       "    <tr>\n",
       "        <td>GNU</td>\n",
       "        <td>Gwangju</td>\n",
       "        <td>35000</td>\n",
       "    </tr>\n",
       "    <tr>\n",
       "        <td>Chumdan</td>\n",
       "        <td>Gwangju</td>\n",
       "        <td>50000</td>\n",
       "    </tr>\n",
       "    <tr>\n",
       "        <td>Suwan</td>\n",
       "        <td>Gwangju</td>\n",
       "        <td>85000</td>\n",
       "    </tr>\n",
       "    <tr>\n",
       "        <td>Kaist</td>\n",
       "        <td>Daejeon</td>\n",
       "        <td>60000</td>\n",
       "    </tr>\n",
       "</table>"
      ],
      "text/plain": [
       "[('BNU', 'Busan', 90000),\n",
       " ('GIST', 'Gwangju', 65000),\n",
       " ('SNU', 'Seoul', 75000),\n",
       " ('GNU', 'Gwangju', 35000),\n",
       " ('Chumdan', 'Gwangju', 50000),\n",
       " ('Suwan', 'Gwangju', 85000),\n",
       " ('Kaist', 'Daejeon', 60000)]"
      ]
     },
     "execution_count": 11,
     "metadata": {},
     "output_type": "execute_result"
    }
   ],
   "source": [
    "%%sql -- Problem 2 - (2)\n",
    "select *\n",
    "from branch"
   ]
  },
  {
   "cell_type": "code",
   "execution_count": 12,
   "metadata": {},
   "outputs": [
    {
     "name": "stdout",
     "output_type": "stream",
     "text": [
      " * sqlite:///hw_1.db\n",
      "Done.\n"
     ]
    },
    {
     "data": {
      "text/html": [
       "<table>\n",
       "    <tr>\n",
       "        <th>customer_name</th>\n",
       "        <th>customer_street</th>\n",
       "        <th>customer_city</th>\n",
       "    </tr>\n",
       "    <tr>\n",
       "        <td>James</td>\n",
       "        <td>gyungsu</td>\n",
       "        <td>seoul</td>\n",
       "    </tr>\n",
       "    <tr>\n",
       "        <td>Choi</td>\n",
       "        <td>paldal</td>\n",
       "        <td>seoul</td>\n",
       "    </tr>\n",
       "    <tr>\n",
       "        <td>Smith</td>\n",
       "        <td>gwagi</td>\n",
       "        <td>seoul</td>\n",
       "    </tr>\n",
       "    <tr>\n",
       "        <td>Lee</td>\n",
       "        <td>gwagi</td>\n",
       "        <td>anyang</td>\n",
       "    </tr>\n",
       "    <tr>\n",
       "        <td>Jung</td>\n",
       "        <td>chumdan</td>\n",
       "        <td>ulsan</td>\n",
       "    </tr>\n",
       "    <tr>\n",
       "        <td>Kim</td>\n",
       "        <td>chumdan</td>\n",
       "        <td>gwangju</td>\n",
       "    </tr>\n",
       "    <tr>\n",
       "        <td>Hwang</td>\n",
       "        <td>chumdan</td>\n",
       "        <td>gwangu</td>\n",
       "    </tr>\n",
       "    <tr>\n",
       "        <td>Jang</td>\n",
       "        <td>doro</td>\n",
       "        <td>daegu</td>\n",
       "    </tr>\n",
       "    <tr>\n",
       "        <td>Won</td>\n",
       "        <td>sugu</td>\n",
       "        <td>busan</td>\n",
       "    </tr>\n",
       "    <tr>\n",
       "        <td>Sun</td>\n",
       "        <td>gumnam</td>\n",
       "        <td>daejun</td>\n",
       "    </tr>\n",
       "    <tr>\n",
       "        <td>Hye</td>\n",
       "        <td>saga</td>\n",
       "        <td>daejun</td>\n",
       "    </tr>\n",
       "    <tr>\n",
       "        <td>Hae</td>\n",
       "        <td>chumdan</td>\n",
       "        <td>gwangju</td>\n",
       "    </tr>\n",
       "    <tr>\n",
       "        <td>Eun</td>\n",
       "        <td>chumdan</td>\n",
       "        <td>gwangju</td>\n",
       "    </tr>\n",
       "    <tr>\n",
       "        <td>Myeong</td>\n",
       "        <td>bundang</td>\n",
       "        <td>Sungnam</td>\n",
       "    </tr>\n",
       "    <tr>\n",
       "        <td>Ill</td>\n",
       "        <td>treeroad</td>\n",
       "        <td>Seoul</td>\n",
       "    </tr>\n",
       "    <tr>\n",
       "        <td>Sung</td>\n",
       "        <td>gyeungsu</td>\n",
       "        <td>anyang</td>\n",
       "    </tr>\n",
       "    <tr>\n",
       "        <td>Man</td>\n",
       "        <td>gyeungsu</td>\n",
       "        <td>anyang</td>\n",
       "    </tr>\n",
       "    <tr>\n",
       "        <td>Gang</td>\n",
       "        <td>jiduck</td>\n",
       "        <td>anyang</td>\n",
       "    </tr>\n",
       "    <tr>\n",
       "        <td>Suek</td>\n",
       "        <td>Eun</td>\n",
       "        <td>busan</td>\n",
       "    </tr>\n",
       "    <tr>\n",
       "        <td>Hyo</td>\n",
       "        <td>Eun</td>\n",
       "        <td>busan</td>\n",
       "    </tr>\n",
       "</table>"
      ],
      "text/plain": [
       "[('James', 'gyungsu', 'seoul'),\n",
       " ('Choi', 'paldal', 'seoul'),\n",
       " ('Smith', 'gwagi', 'seoul'),\n",
       " ('Lee', 'gwagi', 'anyang'),\n",
       " ('Jung', 'chumdan', 'ulsan'),\n",
       " ('Kim', 'chumdan', 'gwangju'),\n",
       " ('Hwang', 'chumdan', 'gwangu'),\n",
       " ('Jang', 'doro', 'daegu'),\n",
       " ('Won', 'sugu', 'busan'),\n",
       " ('Sun', 'gumnam', 'daejun'),\n",
       " ('Hye', 'saga', 'daejun'),\n",
       " ('Hae', 'chumdan', 'gwangju'),\n",
       " ('Eun', 'chumdan', 'gwangju'),\n",
       " ('Myeong', 'bundang', 'Sungnam'),\n",
       " ('Ill', 'treeroad', 'Seoul'),\n",
       " ('Sung', 'gyeungsu', 'anyang'),\n",
       " ('Man', 'gyeungsu', 'anyang'),\n",
       " ('Gang', 'jiduck', 'anyang'),\n",
       " ('Suek', 'Eun', 'busan'),\n",
       " ('Hyo', 'Eun', 'busan')]"
      ]
     },
     "execution_count": 12,
     "metadata": {},
     "output_type": "execute_result"
    }
   ],
   "source": [
    "%%sql -- Problem 2 - (3)\n",
    "select *\n",
    "from customer"
   ]
  },
  {
   "cell_type": "code",
   "execution_count": 13,
   "metadata": {},
   "outputs": [
    {
     "name": "stdout",
     "output_type": "stream",
     "text": [
      " * sqlite:///hw_1.db\n",
      "Done.\n"
     ]
    },
    {
     "data": {
      "text/html": [
       "<table>\n",
       "    <tr>\n",
       "        <th>loan_number</th>\n",
       "        <th>branch_name</th>\n",
       "        <th>amount</th>\n",
       "    </tr>\n",
       "    <tr>\n",
       "        <td>L-20141</td>\n",
       "        <td>GIST</td>\n",
       "        <td>1000</td>\n",
       "    </tr>\n",
       "    <tr>\n",
       "        <td>L-20114</td>\n",
       "        <td>GIST</td>\n",
       "        <td>500</td>\n",
       "    </tr>\n",
       "    <tr>\n",
       "        <td>L-20112</td>\n",
       "        <td>GIST</td>\n",
       "        <td>3800</td>\n",
       "    </tr>\n",
       "    <tr>\n",
       "        <td>L-20143</td>\n",
       "        <td>GIST</td>\n",
       "        <td>1400</td>\n",
       "    </tr>\n",
       "    <tr>\n",
       "        <td>L-30188</td>\n",
       "        <td>SNU</td>\n",
       "        <td>200</td>\n",
       "    </tr>\n",
       "    <tr>\n",
       "        <td>L-30163</td>\n",
       "        <td>SNU</td>\n",
       "        <td>2700</td>\n",
       "    </tr>\n",
       "    <tr>\n",
       "        <td>L-30179</td>\n",
       "        <td>SNU</td>\n",
       "        <td>1200</td>\n",
       "    </tr>\n",
       "    <tr>\n",
       "        <td>L-30175</td>\n",
       "        <td>SNU</td>\n",
       "        <td>3900</td>\n",
       "    </tr>\n",
       "    <tr>\n",
       "        <td>L-40144</td>\n",
       "        <td>BNU</td>\n",
       "        <td>2600</td>\n",
       "    </tr>\n",
       "    <tr>\n",
       "        <td>L-40183</td>\n",
       "        <td>BNU</td>\n",
       "        <td>3600</td>\n",
       "    </tr>\n",
       "    <tr>\n",
       "        <td>L-40120</td>\n",
       "        <td>BNU</td>\n",
       "        <td>7200</td>\n",
       "    </tr>\n",
       "    <tr>\n",
       "        <td>L-20201</td>\n",
       "        <td>GIST</td>\n",
       "        <td>73000</td>\n",
       "    </tr>\n",
       "    <tr>\n",
       "        <td>L-20210</td>\n",
       "        <td>GIST</td>\n",
       "        <td>78000</td>\n",
       "    </tr>\n",
       "    <tr>\n",
       "        <td>L-20831</td>\n",
       "        <td>GIST</td>\n",
       "        <td>71500</td>\n",
       "    </tr>\n",
       "    <tr>\n",
       "        <td>L-30195</td>\n",
       "        <td>SNU</td>\n",
       "        <td>70600</td>\n",
       "    </tr>\n",
       "    <tr>\n",
       "        <td>L-40450</td>\n",
       "        <td>BNU</td>\n",
       "        <td>79500</td>\n",
       "    </tr>\n",
       "    <tr>\n",
       "        <td>L-40710</td>\n",
       "        <td>BNU</td>\n",
       "        <td>73400</td>\n",
       "    </tr>\n",
       "</table>"
      ],
      "text/plain": [
       "[('L-20141', 'GIST', 1000),\n",
       " ('L-20114', 'GIST', 500),\n",
       " ('L-20112', 'GIST', 3800),\n",
       " ('L-20143', 'GIST', 1400),\n",
       " ('L-30188', 'SNU', 200),\n",
       " ('L-30163', 'SNU', 2700),\n",
       " ('L-30179', 'SNU', 1200),\n",
       " ('L-30175', 'SNU', 3900),\n",
       " ('L-40144', 'BNU', 2600),\n",
       " ('L-40183', 'BNU', 3600),\n",
       " ('L-40120', 'BNU', 7200),\n",
       " ('L-20201', 'GIST', 73000),\n",
       " ('L-20210', 'GIST', 78000),\n",
       " ('L-20831', 'GIST', 71500),\n",
       " ('L-30195', 'SNU', 70600),\n",
       " ('L-40450', 'BNU', 79500),\n",
       " ('L-40710', 'BNU', 73400)]"
      ]
     },
     "execution_count": 13,
     "metadata": {},
     "output_type": "execute_result"
    }
   ],
   "source": [
    "%%sql -- Problem 2 - (4)\n",
    "select *\n",
    "from loan"
   ]
  },
  {
   "cell_type": "code",
   "execution_count": 14,
   "metadata": {},
   "outputs": [
    {
     "name": "stdout",
     "output_type": "stream",
     "text": [
      " * sqlite:///hw_1.db\n",
      "Done.\n"
     ]
    },
    {
     "data": {
      "text/html": [
       "<table>\n",
       "    <tr>\n",
       "        <th>customer_name</th>\n",
       "        <th>loan_number</th>\n",
       "    </tr>\n",
       "    <tr>\n",
       "        <td>Jung</td>\n",
       "        <td>L-20112</td>\n",
       "    </tr>\n",
       "    <tr>\n",
       "        <td>Lee</td>\n",
       "        <td>L-20143</td>\n",
       "    </tr>\n",
       "    <tr>\n",
       "        <td>Kim</td>\n",
       "        <td>L-20114</td>\n",
       "    </tr>\n",
       "    <tr>\n",
       "        <td>Hwang</td>\n",
       "        <td>L-20141</td>\n",
       "    </tr>\n",
       "    <tr>\n",
       "        <td>James</td>\n",
       "        <td>L-30188</td>\n",
       "    </tr>\n",
       "    <tr>\n",
       "        <td>Choi</td>\n",
       "        <td>L-30163</td>\n",
       "    </tr>\n",
       "    <tr>\n",
       "        <td>Smith</td>\n",
       "        <td>L-30179</td>\n",
       "    </tr>\n",
       "    <tr>\n",
       "        <td>Jang</td>\n",
       "        <td>L-30175</td>\n",
       "    </tr>\n",
       "    <tr>\n",
       "        <td>Won</td>\n",
       "        <td>L-40144</td>\n",
       "    </tr>\n",
       "    <tr>\n",
       "        <td>Sun</td>\n",
       "        <td>L-40183</td>\n",
       "    </tr>\n",
       "    <tr>\n",
       "        <td>Hye</td>\n",
       "        <td>L-40120</td>\n",
       "    </tr>\n",
       "    <tr>\n",
       "        <td>Jung</td>\n",
       "        <td>L-20201</td>\n",
       "    </tr>\n",
       "    <tr>\n",
       "        <td>Jung</td>\n",
       "        <td>L-20210</td>\n",
       "    </tr>\n",
       "    <tr>\n",
       "        <td>Hwang</td>\n",
       "        <td>L-20831</td>\n",
       "    </tr>\n",
       "    <tr>\n",
       "        <td>Smith</td>\n",
       "        <td>L-30195</td>\n",
       "    </tr>\n",
       "    <tr>\n",
       "        <td>Sun</td>\n",
       "        <td>L-40450</td>\n",
       "    </tr>\n",
       "    <tr>\n",
       "        <td>Hye</td>\n",
       "        <td>L-40710</td>\n",
       "    </tr>\n",
       "</table>"
      ],
      "text/plain": [
       "[('Jung', 'L-20112'),\n",
       " ('Lee', 'L-20143'),\n",
       " ('Kim', 'L-20114'),\n",
       " ('Hwang', 'L-20141'),\n",
       " ('James', 'L-30188'),\n",
       " ('Choi', 'L-30163'),\n",
       " ('Smith', 'L-30179'),\n",
       " ('Jang', 'L-30175'),\n",
       " ('Won', 'L-40144'),\n",
       " ('Sun', 'L-40183'),\n",
       " ('Hye', 'L-40120'),\n",
       " ('Jung', 'L-20201'),\n",
       " ('Jung', 'L-20210'),\n",
       " ('Hwang', 'L-20831'),\n",
       " ('Smith', 'L-30195'),\n",
       " ('Sun', 'L-40450'),\n",
       " ('Hye', 'L-40710')]"
      ]
     },
     "execution_count": 14,
     "metadata": {},
     "output_type": "execute_result"
    }
   ],
   "source": [
    "%%sql -- Problem 2 - (5)\n",
    "select *\n",
    "from borrower"
   ]
  },
  {
   "cell_type": "code",
   "execution_count": 15,
   "metadata": {},
   "outputs": [
    {
     "name": "stdout",
     "output_type": "stream",
     "text": [
      " * sqlite:///hw_1.db\n",
      "Done.\n"
     ]
    },
    {
     "data": {
      "text/html": [
       "<table>\n",
       "    <tr>\n",
       "        <th>account_number</th>\n",
       "        <th>branch_name</th>\n",
       "        <th>balance</th>\n",
       "    </tr>\n",
       "    <tr>\n",
       "        <td>10001</td>\n",
       "        <td>Kaist</td>\n",
       "        <td>990</td>\n",
       "    </tr>\n",
       "    <tr>\n",
       "        <td>40001</td>\n",
       "        <td>BNU</td>\n",
       "        <td>1400</td>\n",
       "    </tr>\n",
       "    <tr>\n",
       "        <td>20001</td>\n",
       "        <td>GIST</td>\n",
       "        <td>1330</td>\n",
       "    </tr>\n",
       "    <tr>\n",
       "        <td>10002</td>\n",
       "        <td>Kaist</td>\n",
       "        <td>1430</td>\n",
       "    </tr>\n",
       "    <tr>\n",
       "        <td>20002</td>\n",
       "        <td>GIST</td>\n",
       "        <td>920</td>\n",
       "    </tr>\n",
       "    <tr>\n",
       "        <td>20003</td>\n",
       "        <td>GIST</td>\n",
       "        <td>1020</td>\n",
       "    </tr>\n",
       "    <tr>\n",
       "        <td>60001</td>\n",
       "        <td>Chumdan</td>\n",
       "        <td>960</td>\n",
       "    </tr>\n",
       "    <tr>\n",
       "        <td>30001</td>\n",
       "        <td>SNU</td>\n",
       "        <td>1030</td>\n",
       "    </tr>\n",
       "    <tr>\n",
       "        <td>30002</td>\n",
       "        <td>SNU</td>\n",
       "        <td>1260</td>\n",
       "    </tr>\n",
       "    <tr>\n",
       "        <td>20004</td>\n",
       "        <td>GIST</td>\n",
       "        <td>870</td>\n",
       "    </tr>\n",
       "    <tr>\n",
       "        <td>50001</td>\n",
       "        <td>Suwan</td>\n",
       "        <td>1060</td>\n",
       "    </tr>\n",
       "    <tr>\n",
       "        <td>50002</td>\n",
       "        <td>Suwan</td>\n",
       "        <td>860</td>\n",
       "    </tr>\n",
       "    <tr>\n",
       "        <td>50003</td>\n",
       "        <td>Suwan</td>\n",
       "        <td>1290</td>\n",
       "    </tr>\n",
       "    <tr>\n",
       "        <td>70001</td>\n",
       "        <td>GNU</td>\n",
       "        <td>1320</td>\n",
       "    </tr>\n",
       "    <tr>\n",
       "        <td>60002</td>\n",
       "        <td>Chumdan</td>\n",
       "        <td>1580</td>\n",
       "    </tr>\n",
       "    <tr>\n",
       "        <td>50004</td>\n",
       "        <td>Suwan</td>\n",
       "        <td>1145</td>\n",
       "    </tr>\n",
       "    <tr>\n",
       "        <td>70002</td>\n",
       "        <td>GNU</td>\n",
       "        <td>1400</td>\n",
       "    </tr>\n",
       "    <tr>\n",
       "        <td>60003</td>\n",
       "        <td>Chumdan</td>\n",
       "        <td>1120</td>\n",
       "    </tr>\n",
       "    <tr>\n",
       "        <td>50005</td>\n",
       "        <td>Suwan</td>\n",
       "        <td>920</td>\n",
       "    </tr>\n",
       "</table>"
      ],
      "text/plain": [
       "[('10001', 'Kaist', 990),\n",
       " ('40001', 'BNU', 1400),\n",
       " ('20001', 'GIST', 1330),\n",
       " ('10002', 'Kaist', 1430),\n",
       " ('20002', 'GIST', 920),\n",
       " ('20003', 'GIST', 1020),\n",
       " ('60001', 'Chumdan', 960),\n",
       " ('30001', 'SNU', 1030),\n",
       " ('30002', 'SNU', 1260),\n",
       " ('20004', 'GIST', 870),\n",
       " ('50001', 'Suwan', 1060),\n",
       " ('50002', 'Suwan', 860),\n",
       " ('50003', 'Suwan', 1290),\n",
       " ('70001', 'GNU', 1320),\n",
       " ('60002', 'Chumdan', 1580),\n",
       " ('50004', 'Suwan', 1145),\n",
       " ('70002', 'GNU', 1400),\n",
       " ('60003', 'Chumdan', 1120),\n",
       " ('50005', 'Suwan', 920)]"
      ]
     },
     "execution_count": 15,
     "metadata": {},
     "output_type": "execute_result"
    }
   ],
   "source": [
    "%%sql -- Problem 2 - (6)\n",
    "select *\n",
    "from account"
   ]
  },
  {
   "cell_type": "code",
   "execution_count": 16,
   "metadata": {},
   "outputs": [
    {
     "name": "stdout",
     "output_type": "stream",
     "text": [
      " * sqlite:///hw_1.db\n",
      "Done.\n"
     ]
    },
    {
     "data": {
      "text/html": [
       "<table>\n",
       "    <tr>\n",
       "        <th>customer_name</th>\n",
       "        <th>account_number</th>\n",
       "    </tr>\n",
       "    <tr>\n",
       "        <td>Jang</td>\n",
       "        <td>10001</td>\n",
       "    </tr>\n",
       "    <tr>\n",
       "        <td>Won</td>\n",
       "        <td>40001</td>\n",
       "    </tr>\n",
       "    <tr>\n",
       "        <td>Sun</td>\n",
       "        <td>20001</td>\n",
       "    </tr>\n",
       "    <tr>\n",
       "        <td>Hye</td>\n",
       "        <td>10002</td>\n",
       "    </tr>\n",
       "    <tr>\n",
       "        <td>Hae</td>\n",
       "        <td>20002</td>\n",
       "    </tr>\n",
       "    <tr>\n",
       "        <td>Eun</td>\n",
       "        <td>20003</td>\n",
       "    </tr>\n",
       "    <tr>\n",
       "        <td>Myeong</td>\n",
       "        <td>60001</td>\n",
       "    </tr>\n",
       "    <tr>\n",
       "        <td>Ill</td>\n",
       "        <td>30001</td>\n",
       "    </tr>\n",
       "    <tr>\n",
       "        <td>Sung</td>\n",
       "        <td>30002</td>\n",
       "    </tr>\n",
       "    <tr>\n",
       "        <td>Man</td>\n",
       "        <td>20004</td>\n",
       "    </tr>\n",
       "    <tr>\n",
       "        <td>Gang</td>\n",
       "        <td>50001</td>\n",
       "    </tr>\n",
       "    <tr>\n",
       "        <td>Suek</td>\n",
       "        <td>50002</td>\n",
       "    </tr>\n",
       "    <tr>\n",
       "        <td>Hyo</td>\n",
       "        <td>50003</td>\n",
       "    </tr>\n",
       "    <tr>\n",
       "        <td>Sun</td>\n",
       "        <td>70001</td>\n",
       "    </tr>\n",
       "    <tr>\n",
       "        <td>Sun</td>\n",
       "        <td>60002</td>\n",
       "    </tr>\n",
       "    <tr>\n",
       "        <td>Sun</td>\n",
       "        <td>50004</td>\n",
       "    </tr>\n",
       "    <tr>\n",
       "        <td>Eun</td>\n",
       "        <td>70002</td>\n",
       "    </tr>\n",
       "    <tr>\n",
       "        <td>Eun</td>\n",
       "        <td>60003</td>\n",
       "    </tr>\n",
       "    <tr>\n",
       "        <td>Eun</td>\n",
       "        <td>50005</td>\n",
       "    </tr>\n",
       "</table>"
      ],
      "text/plain": [
       "[('Jang', '10001'),\n",
       " ('Won', '40001'),\n",
       " ('Sun', '20001'),\n",
       " ('Hye', '10002'),\n",
       " ('Hae', '20002'),\n",
       " ('Eun', '20003'),\n",
       " ('Myeong', '60001'),\n",
       " ('Ill', '30001'),\n",
       " ('Sung', '30002'),\n",
       " ('Man', '20004'),\n",
       " ('Gang', '50001'),\n",
       " ('Suek', '50002'),\n",
       " ('Hyo', '50003'),\n",
       " ('Sun', '70001'),\n",
       " ('Sun', '60002'),\n",
       " ('Sun', '50004'),\n",
       " ('Eun', '70002'),\n",
       " ('Eun', '60003'),\n",
       " ('Eun', '50005')]"
      ]
     },
     "execution_count": 16,
     "metadata": {},
     "output_type": "execute_result"
    }
   ],
   "source": [
    "%%sql -- Problem 2 - (7)\n",
    "select *\n",
    "from depositor"
   ]
  },
  {
   "cell_type": "code",
   "execution_count": 58,
   "metadata": {},
   "outputs": [
    {
     "name": "stdout",
     "output_type": "stream",
     "text": [
      " * sqlite:///hw_1.db\n",
      "Done.\n"
     ]
    },
    {
     "data": {
      "text/html": [
       "<table>\n",
       "    <tr>\n",
       "        <th>loan_number</th>\n",
       "    </tr>\n",
       "    <tr>\n",
       "        <td>L-20112</td>\n",
       "    </tr>\n",
       "    <tr>\n",
       "        <td>L-20201</td>\n",
       "    </tr>\n",
       "    <tr>\n",
       "        <td>L-20210</td>\n",
       "    </tr>\n",
       "    <tr>\n",
       "        <td>L-20831</td>\n",
       "    </tr>\n",
       "</table>"
      ],
      "text/plain": [
       "[('L-20112',), ('L-20201',), ('L-20210',), ('L-20831',)]"
      ]
     },
     "execution_count": 58,
     "metadata": {},
     "output_type": "execute_result"
    }
   ],
   "source": [
    "%%sql -- Problem 3\n",
    "select loan_number\n",
    "from loan\n",
    "where branch_name = 'GIST' and amount > 2000"
   ]
  },
  {
   "cell_type": "code",
   "execution_count": 17,
   "metadata": {},
   "outputs": [
    {
     "name": "stdout",
     "output_type": "stream",
     "text": [
      " * sqlite:///hw_1.db\n",
      "Done.\n"
     ]
    },
    {
     "data": {
      "text/html": [
       "<table>\n",
       "    <tr>\n",
       "        <th>customer_name</th>\n",
       "        <th>customer_street</th>\n",
       "        <th>customer_city</th>\n",
       "    </tr>\n",
       "    <tr>\n",
       "        <td>Hwang</td>\n",
       "        <td>chumdan</td>\n",
       "        <td>gwangu</td>\n",
       "    </tr>\n",
       "    <tr>\n",
       "        <td>Jung</td>\n",
       "        <td>chumdan</td>\n",
       "        <td>ulsan</td>\n",
       "    </tr>\n",
       "    <tr>\n",
       "        <td>Kim</td>\n",
       "        <td>chumdan</td>\n",
       "        <td>gwangju</td>\n",
       "    </tr>\n",
       "    <tr>\n",
       "        <td>Lee</td>\n",
       "        <td>gwagi</td>\n",
       "        <td>anyang</td>\n",
       "    </tr>\n",
       "</table>"
      ],
      "text/plain": [
       "[('Hwang', 'chumdan', 'gwangu'),\n",
       " ('Jung', 'chumdan', 'ulsan'),\n",
       " ('Kim', 'chumdan', 'gwangju'),\n",
       " ('Lee', 'gwagi', 'anyang')]"
      ]
     },
     "execution_count": 17,
     "metadata": {},
     "output_type": "execute_result"
    }
   ],
   "source": [
    "%%sql -- Problem 4\n",
    "select *\n",
    "from customer\n",
    "where customer_name in (\n",
    "select distinct customer_name\n",
    "from borrower, loan\n",
    "where borrower.loan_number = loan.loan_number and branch_name = 'GIST')\n",
    "order by customer_name"
   ]
  },
  {
   "cell_type": "code",
   "execution_count": 18,
   "metadata": {},
   "outputs": [
    {
     "name": "stdout",
     "output_type": "stream",
     "text": [
      " * sqlite:///hw_1.db\n",
      "Done.\n"
     ]
    },
    {
     "data": {
      "text/html": [
       "<table>\n",
       "    <tr>\n",
       "        <th>loan_number</th>\n",
       "    </tr>\n",
       "    <tr>\n",
       "        <td>L-20201</td>\n",
       "    </tr>\n",
       "    <tr>\n",
       "        <td>L-20210</td>\n",
       "    </tr>\n",
       "    <tr>\n",
       "        <td>L-20831</td>\n",
       "    </tr>\n",
       "    <tr>\n",
       "        <td>L-30195</td>\n",
       "    </tr>\n",
       "    <tr>\n",
       "        <td>L-40450</td>\n",
       "    </tr>\n",
       "    <tr>\n",
       "        <td>L-40710</td>\n",
       "    </tr>\n",
       "</table>"
      ],
      "text/plain": [
       "[('L-20201',),\n",
       " ('L-20210',),\n",
       " ('L-20831',),\n",
       " ('L-30195',),\n",
       " ('L-40450',),\n",
       " ('L-40710',)]"
      ]
     },
     "execution_count": 18,
     "metadata": {},
     "output_type": "execute_result"
    }
   ],
   "source": [
    "%%sql -- Problem 5\n",
    "select loan_number\n",
    "from loan\n",
    "where amount between 70000 and 80000"
   ]
  },
  {
   "cell_type": "code",
   "execution_count": 22,
   "metadata": {},
   "outputs": [
    {
     "name": "stdout",
     "output_type": "stream",
     "text": [
      " * sqlite:///hw_1.db\n",
      "Done.\n"
     ]
    },
    {
     "data": {
      "text/html": [
       "<table>\n",
       "    <tr>\n",
       "        <th>branch_name</th>\n",
       "    </tr>\n",
       "    <tr>\n",
       "        <td>BNU</td>\n",
       "    </tr>\n",
       "    <tr>\n",
       "        <td>Chumdan</td>\n",
       "    </tr>\n",
       "    <tr>\n",
       "        <td>GIST</td>\n",
       "    </tr>\n",
       "    <tr>\n",
       "        <td>Kaist</td>\n",
       "    </tr>\n",
       "    <tr>\n",
       "        <td>SNU</td>\n",
       "    </tr>\n",
       "    <tr>\n",
       "        <td>Suwan</td>\n",
       "    </tr>\n",
       "</table>"
      ],
      "text/plain": [
       "[('BNU',), ('Chumdan',), ('GIST',), ('Kaist',), ('SNU',), ('Suwan',)]"
      ]
     },
     "execution_count": 22,
     "metadata": {},
     "output_type": "execute_result"
    }
   ],
   "source": [
    "%%sql -- Problem 6\n",
    "select distinct T.branch_name\n",
    "from branch as T, branch as S\n",
    "where S.branch_city = 'Gwangju' and T.assets > S.assets"
   ]
  },
  {
   "cell_type": "code",
   "execution_count": 19,
   "metadata": {},
   "outputs": [
    {
     "name": "stdout",
     "output_type": "stream",
     "text": [
      " * sqlite:///hw_1.db\n",
      "Done.\n"
     ]
    },
    {
     "data": {
      "text/html": [
       "<table>\n",
       "    <tr>\n",
       "        <th>customer_name</th>\n",
       "        <th>customer_street</th>\n",
       "        <th>customer_city</th>\n",
       "    </tr>\n",
       "    <tr>\n",
       "        <td>Eun</td>\n",
       "        <td>chumdan</td>\n",
       "        <td>gwangju</td>\n",
       "    </tr>\n",
       "    <tr>\n",
       "        <td>Gang</td>\n",
       "        <td>jiduck</td>\n",
       "        <td>anyang</td>\n",
       "    </tr>\n",
       "    <tr>\n",
       "        <td>Hae</td>\n",
       "        <td>chumdan</td>\n",
       "        <td>gwangju</td>\n",
       "    </tr>\n",
       "    <tr>\n",
       "        <td>Hyo</td>\n",
       "        <td>Eun</td>\n",
       "        <td>busan</td>\n",
       "    </tr>\n",
       "    <tr>\n",
       "        <td>Ill</td>\n",
       "        <td>treeroad</td>\n",
       "        <td>Seoul</td>\n",
       "    </tr>\n",
       "    <tr>\n",
       "        <td>Man</td>\n",
       "        <td>gyeungsu</td>\n",
       "        <td>anyang</td>\n",
       "    </tr>\n",
       "    <tr>\n",
       "        <td>Myeong</td>\n",
       "        <td>bundang</td>\n",
       "        <td>Sungnam</td>\n",
       "    </tr>\n",
       "    <tr>\n",
       "        <td>Suek</td>\n",
       "        <td>Eun</td>\n",
       "        <td>busan</td>\n",
       "    </tr>\n",
       "    <tr>\n",
       "        <td>Sung</td>\n",
       "        <td>gyeungsu</td>\n",
       "        <td>anyang</td>\n",
       "    </tr>\n",
       "</table>"
      ],
      "text/plain": [
       "[('Eun', 'chumdan', 'gwangju'),\n",
       " ('Gang', 'jiduck', 'anyang'),\n",
       " ('Hae', 'chumdan', 'gwangju'),\n",
       " ('Hyo', 'Eun', 'busan'),\n",
       " ('Ill', 'treeroad', 'Seoul'),\n",
       " ('Man', 'gyeungsu', 'anyang'),\n",
       " ('Myeong', 'bundang', 'Sungnam'),\n",
       " ('Suek', 'Eun', 'busan'),\n",
       " ('Sung', 'gyeungsu', 'anyang')]"
      ]
     },
     "execution_count": 19,
     "metadata": {},
     "output_type": "execute_result"
    }
   ],
   "source": [
    "%%sql -- Problem 7\n",
    "select *\n",
    "from customer\n",
    "where customer_name in (\n",
    "    select customer_name\n",
    "    from depositor\n",
    "    where customer_name not in (\n",
    "        select customer_name\n",
    "        from borrower\n",
    "    ))"
   ]
  },
  {
   "cell_type": "code",
   "execution_count": 24,
   "metadata": {},
   "outputs": [
    {
     "name": "stdout",
     "output_type": "stream",
     "text": [
      " * sqlite:///hw_1.db\n",
      "Done.\n"
     ]
    },
    {
     "data": {
      "text/html": [
       "<table>\n",
       "    <tr>\n",
       "        <th>branch_name</th>\n",
       "        <th>avg(balance)</th>\n",
       "    </tr>\n",
       "    <tr>\n",
       "        <td>BNU</td>\n",
       "        <td>1400.0</td>\n",
       "    </tr>\n",
       "    <tr>\n",
       "        <td>Chumdan</td>\n",
       "        <td>1220.0</td>\n",
       "    </tr>\n",
       "    <tr>\n",
       "        <td>GIST</td>\n",
       "        <td>1035.0</td>\n",
       "    </tr>\n",
       "    <tr>\n",
       "        <td>GNU</td>\n",
       "        <td>1360.0</td>\n",
       "    </tr>\n",
       "    <tr>\n",
       "        <td>Kaist</td>\n",
       "        <td>1210.0</td>\n",
       "    </tr>\n",
       "    <tr>\n",
       "        <td>SNU</td>\n",
       "        <td>1145.0</td>\n",
       "    </tr>\n",
       "    <tr>\n",
       "        <td>Suwan</td>\n",
       "        <td>1055.0</td>\n",
       "    </tr>\n",
       "</table>"
      ],
      "text/plain": [
       "[('BNU', 1400.0),\n",
       " ('Chumdan', 1220.0),\n",
       " ('GIST', 1035.0),\n",
       " ('GNU', 1360.0),\n",
       " ('Kaist', 1210.0),\n",
       " ('SNU', 1145.0),\n",
       " ('Suwan', 1055.0)]"
      ]
     },
     "execution_count": 24,
     "metadata": {},
     "output_type": "execute_result"
    }
   ],
   "source": [
    "%%sql -- Problem 8\n",
    "select branch_name, avg(balance)\n",
    "from account\n",
    "group by branch_name"
   ]
  },
  {
   "cell_type": "code",
   "execution_count": 60,
   "metadata": {},
   "outputs": [
    {
     "name": "stdout",
     "output_type": "stream",
     "text": [
      " * sqlite:///hw_1.db\n",
      "Done.\n"
     ]
    },
    {
     "data": {
      "text/html": [
       "<table>\n",
       "    <tr>\n",
       "        <th>branch_name</th>\n",
       "        <th>count(distinct customer_name)</th>\n",
       "    </tr>\n",
       "    <tr>\n",
       "        <td>BNU</td>\n",
       "        <td>3</td>\n",
       "    </tr>\n",
       "    <tr>\n",
       "        <td>GIST</td>\n",
       "        <td>4</td>\n",
       "    </tr>\n",
       "    <tr>\n",
       "        <td>SNU</td>\n",
       "        <td>4</td>\n",
       "    </tr>\n",
       "</table>"
      ],
      "text/plain": [
       "[('BNU', 3), ('GIST', 4), ('SNU', 4)]"
      ]
     },
     "execution_count": 60,
     "metadata": {},
     "output_type": "execute_result"
    }
   ],
   "source": [
    "%%sql -- Problem 9\n",
    "select branch_name, count(distinct customer_name)\n",
    "from loan, borrower\n",
    "where loan.loan_number = borrower.loan_number\n",
    "group by branch_name"
   ]
  },
  {
   "cell_type": "code",
   "execution_count": 21,
   "metadata": {},
   "outputs": [
    {
     "name": "stdout",
     "output_type": "stream",
     "text": [
      " * sqlite:///hw_1.db\n",
      "Done.\n"
     ]
    },
    {
     "data": {
      "text/html": [
       "<table>\n",
       "    <tr>\n",
       "        <th>branch_name</th>\n",
       "    </tr>\n",
       "    <tr>\n",
       "        <td>BNU</td>\n",
       "    </tr>\n",
       "    <tr>\n",
       "        <td>Chumdan</td>\n",
       "    </tr>\n",
       "    <tr>\n",
       "        <td>GNU</td>\n",
       "    </tr>\n",
       "    <tr>\n",
       "        <td>Kaist</td>\n",
       "    </tr>\n",
       "</table>"
      ],
      "text/plain": [
       "[('BNU',), ('Chumdan',), ('GNU',), ('Kaist',)]"
      ]
     },
     "execution_count": 21,
     "metadata": {},
     "output_type": "execute_result"
    }
   ],
   "source": [
    "%%sql -- Problem 10\n",
    "select branch_name\n",
    "from account\n",
    "group by branch_name\n",
    "having avg(balance) > 1200"
   ]
  },
  {
   "cell_type": "code",
   "execution_count": 22,
   "metadata": {},
   "outputs": [
    {
     "name": "stdout",
     "output_type": "stream",
     "text": [
      " * sqlite:///hw_1.db\n",
      "Done.\n"
     ]
    },
    {
     "data": {
      "text/html": [
       "<table>\n",
       "    <tr>\n",
       "        <th>customer_name</th>\n",
       "        <th>customer_street</th>\n",
       "        <th>customer_city</th>\n",
       "    </tr>\n",
       "    <tr>\n",
       "        <td>Eun</td>\n",
       "        <td>chumdan</td>\n",
       "        <td>gwangju</td>\n",
       "    </tr>\n",
       "    <tr>\n",
       "        <td>Sun</td>\n",
       "        <td>gumnam</td>\n",
       "        <td>daejun</td>\n",
       "    </tr>\n",
       "</table>"
      ],
      "text/plain": [
       "[('Eun', 'chumdan', 'gwangju'), ('Sun', 'gumnam', 'daejun')]"
      ]
     },
     "execution_count": 22,
     "metadata": {},
     "output_type": "execute_result"
    }
   ],
   "source": [
    "%%sql -- Problem 11\n",
    "select distinct S.customer_name, S.customer_street, S.customer_city\n",
    "from customer as S\n",
    "where not exists (\n",
    "    select branch_name\n",
    "    from branch\n",
    "    where branch_city = 'Gwangju'\n",
    " except \n",
    "    select R.branch_name\n",
    "    from depositor as T, account as R\n",
    "    where T.account_number = R.account_number and\n",
    "        S.customer_name = T.customer_name\n",
    ");"
   ]
  },
  {
   "cell_type": "code",
   "execution_count": 23,
   "metadata": {},
   "outputs": [
    {
     "name": "stdout",
     "output_type": "stream",
     "text": [
      " * sqlite:///hw_1.db\n",
      "Done.\n"
     ]
    },
    {
     "data": {
      "text/html": [
       "<table>\n",
       "    <tr>\n",
       "        <th>account_number</th>\n",
       "        <th>branch_name</th>\n",
       "        <th>balance</th>\n",
       "        <th>max_balance</th>\n",
       "    </tr>\n",
       "    <tr>\n",
       "        <td>60002</td>\n",
       "        <td>Chumdan</td>\n",
       "        <td>1580</td>\n",
       "        <td>1580</td>\n",
       "    </tr>\n",
       "</table>"
      ],
      "text/plain": [
       "[('60002', 'Chumdan', 1580, 1580)]"
      ]
     },
     "execution_count": 23,
     "metadata": {},
     "output_type": "execute_result"
    }
   ],
   "source": [
    "%%sql -- Problem 12\n",
    "with max_balance(max_balance) as\n",
    "    (select max(balance) from account)\n",
    "select *\n",
    "from account, max_balance\n",
    "where account.balance = max_balance.max_balance;"
   ]
  },
  {
   "cell_type": "code",
   "execution_count": 29,
   "metadata": {},
   "outputs": [
    {
     "name": "stdout",
     "output_type": "stream",
     "text": [
      " * sqlite:///hw_1.db\n",
      "Done.\n"
     ]
    },
    {
     "data": {
      "text/html": [
       "<table>\n",
       "    <tr>\n",
       "        <th>branch_name</th>\n",
       "    </tr>\n",
       "    <tr>\n",
       "        <td>Chumdan</td>\n",
       "    </tr>\n",
       "    <tr>\n",
       "        <td>GIST</td>\n",
       "    </tr>\n",
       "    <tr>\n",
       "        <td>Suwan</td>\n",
       "    </tr>\n",
       "</table>"
      ],
      "text/plain": [
       "[('Chumdan',), ('GIST',), ('Suwan',)]"
      ]
     },
     "execution_count": 29,
     "metadata": {},
     "output_type": "execute_result"
    }
   ],
   "source": [
    "%%sql -- Problem 13\n",
    "with branch_total(branch_name, total_bal) as (\n",
    "    select branch_name, sum(balance)\n",
    "    from account\n",
    "    group by branch_name\n",
    "), avg_total_account (avg_bal) as (\n",
    "    select avg(total_bal)\n",
    "    from branch_total\n",
    ")\n",
    "select branch_name\n",
    "from branch_total, avg_total_account\n",
    "where total_bal > avg_bal"
   ]
  },
  {
   "cell_type": "code",
   "execution_count": 64,
   "metadata": {},
   "outputs": [
    {
     "name": "stdout",
     "output_type": "stream",
     "text": [
      " * sqlite:///hw_1.db\n",
      "(sqlite3.OperationalError) view all_customer already exists\n",
      "[SQL: create view all_customer as\n",
      "    select branch_name, customer_name\n",
      "     from depositor, account\n",
      "     where depositor.account_number = account.account_number\n",
      "    union\n",
      "    select branch_name, customer_name\n",
      "     from borrower, loan\n",
      "     where borrower.loan_number = loan.loan_number]\n",
      "(Background on this error at: https://sqlalche.me/e/14/e3q8)\n"
     ]
    }
   ],
   "source": [
    "%%sql -- Problem 14\n",
    "create view all_customer as\n",
    "    select branch_name, customer_name\n",
    "     from depositor, account\n",
    "     where depositor.account_number = account.account_number\n",
    "    union\n",
    "    select branch_name, customer_name\n",
    "     from borrower, loan\n",
    "     where borrower.loan_number = loan.loan_number"
   ]
  },
  {
   "cell_type": "code",
   "execution_count": 66,
   "metadata": {},
   "outputs": [
    {
     "name": "stdout",
     "output_type": "stream",
     "text": [
      " * sqlite:///hw_1.db\n",
      "14 rows affected.\n"
     ]
    },
    {
     "data": {
      "text/plain": [
       "[]"
      ]
     },
     "execution_count": 66,
     "metadata": {},
     "output_type": "execute_result"
    }
   ],
   "source": [
    "%%sql -- Problem 15\n",
    "delete from account\n",
    "where branch_name in (\n",
    "    select branch_name\n",
    "    from branch\n",
    "    where branch_city = 'Gwangju'\n",
    ");"
   ]
  },
  {
   "cell_type": "code",
   "execution_count": 32,
   "metadata": {},
   "outputs": [
    {
     "name": "stdout",
     "output_type": "stream",
     "text": [
      " * sqlite:///hw_1.db\n",
      "3 rows affected.\n"
     ]
    },
    {
     "data": {
      "text/plain": [
       "[]"
      ]
     },
     "execution_count": 32,
     "metadata": {},
     "output_type": "execute_result"
    }
   ],
   "source": [
    "%%sql -- Problem 16\n",
    "update account\n",
    "set balance = balance * 1.05\n",
    "where balance > (\n",
    "    select avg(balance)\n",
    "    from account\n",
    ");"
   ]
  }
 ],
 "metadata": {
  "kernelspec": {
   "display_name": "Python 3.9.12 ('base')",
   "language": "python",
   "name": "python3"
  },
  "language_info": {
   "codemirror_mode": {
    "name": "ipython",
    "version": 3
   },
   "file_extension": ".py",
   "mimetype": "text/x-python",
   "name": "python",
   "nbconvert_exporter": "python",
   "pygments_lexer": "ipython3",
   "version": "3.9.12"
  },
  "orig_nbformat": 4,
  "vscode": {
   "interpreter": {
    "hash": "8c23a948565a744ea4b3e7d6cf174f93965a959f4df15c5813631ca2562109e4"
   }
  }
 },
 "nbformat": 4,
 "nbformat_minor": 2
}
