{
 "cells": [
  {
   "cell_type": "code",
   "execution_count": 10,
   "metadata": {},
   "outputs": [
    {
     "name": "stdout",
     "output_type": "stream",
     "text": [
      "The sql extension is already loaded. To reload it, use:\n",
      "  %reload_ext sql\n"
     ]
    }
   ],
   "source": [
    "%load_ext sql"
   ]
  },
  {
   "cell_type": "code",
   "execution_count": 11,
   "metadata": {},
   "outputs": [],
   "source": [
    "%sql sqlite:///hw1_20205149.db"
   ]
  },
  {
   "cell_type": "code",
   "execution_count": 12,
   "metadata": {},
   "outputs": [
    {
     "name": "stdout",
     "output_type": "stream",
     "text": [
      " * sqlite:///hw1_20205149.db\n",
      "Done.\n"
     ]
    },
    {
     "data": {
      "text/plain": [
       "[]"
      ]
     },
     "execution_count": 12,
     "metadata": {},
     "output_type": "execute_result"
    }
   ],
   "source": [
    "%sql PRAGMA foreign_keys = ON;"
   ]
  },
  {
   "cell_type": "code",
   "execution_count": 13,
   "metadata": {},
   "outputs": [
    {
     "name": "stdout",
     "output_type": "stream",
     "text": [
      " * sqlite:///hw1_20205149.db\n",
      "(sqlite3.OperationalError) table branch already exists\n",
      "[SQL: create table branch (\n",
      "branch_name varchar(20),\n",
      "branch_city varchar(20),\n",
      "assets INT(11),\n",
      "primary key (branch_name)\n",
      ");]\n",
      "(Background on this error at: https://sqlalche.me/e/14/e3q8)\n"
     ]
    }
   ],
   "source": [
    "%%sql -- Problem 1\n",
    "\n",
    "create table branch (\n",
    "branch_name varchar(20),\n",
    "branch_city varchar(20),\n",
    "assets INT(11),\n",
    "primary key (branch_name)\n",
    ");\n",
    "\n",
    "create table customer (\n",
    "customer_name varchar(20),\n",
    "customer_street varchar(20),\n",
    "customer_city varchar(20),\n",
    "primary key (customer_name)\n",
    "); \n",
    "\n",
    "create table loan (\n",
    "loan_number varchar(20),\n",
    "branch_name varchar(20),\n",
    "amount INT(11),\n",
    "primary key (loan_number),\n",
    "foreign key (branch_name) references branch(branch_name)\n",
    "    on delete cascade\n",
    "); \n",
    "\n",
    "create table borrower (\n",
    "customer_name varchar(20),\n",
    "loan_number varchar(20),\n",
    "primary key (customer_name, loan_number),\n",
    "foreign key (customer_name) references customer(customer_name)\n",
    "    on delete cascade,\n",
    "foreign key (loan_number) references loan(loan_number)\n",
    "    on delete cascade\n",
    "); \n",
    "\n",
    "create table account (\n",
    "account_number varchar(20),\n",
    "branch_name varchar(20),\n",
    "balance INT(11),\n",
    "primary key (account_number),\n",
    "foreign key (branch_name) references branch(branch_name)\n",
    "    on delete cascade\n",
    ");\n",
    "\n",
    "create table depositor (\n",
    "customer_name varchar(20),\n",
    "account_number varchar(20),\n",
    "primary key (customer_name, account_number),\n",
    "foreign key (customer_name) references customer(customer_name)\n",
    "    on delete cascade\n",
    "foreign key (account_number) references account(account_number)\n",
    "    on delete cascade\n",
    ");"
   ]
  },
  {
   "cell_type": "code",
   "execution_count": 14,
   "metadata": {},
   "outputs": [
    {
     "name": "stdout",
     "output_type": "stream",
     "text": [
      " * sqlite:///hw1_20205149.db\n",
      "4 rows affected.\n",
      "6 rows affected.\n",
      "8 rows affected.\n",
      "8 rows affected.\n",
      "8 rows affected.\n",
      "3 rows affected.\n"
     ]
    },
    {
     "data": {
      "text/plain": [
       "[]"
      ]
     },
     "execution_count": 14,
     "metadata": {},
     "output_type": "execute_result"
    }
   ],
   "source": [
    "%%sql -- Problem 2 - (1)\n",
    "insert into branch values\n",
    "    ('GIST','Gwangju', 20205149),\n",
    "    ('GIST1','Gwangju', 20206000),\n",
    "    ('KAIST','Daejeon', 20207000),\n",
    "    ('KAIST1','Daejeon', 20204000);\n",
    "\n",
    "insert into customer values\n",
    "    ('haeun', '123 street', 'cheomdan'),\n",
    "    ('leehaeun', '123 street', 'cheomdan'),\n",
    "    ('lee', '123 street', 'cheomdan'),\n",
    "    ('ha', '123 street', 'cheomdan'),\n",
    "    ('eun', '123 street', 'cheomdan'),\n",
    "    ('lhe', '123 street', 'cheomdan');\n",
    "\n",
    "insert into loan values\n",
    "    ('1', 'GIST', 85000),\n",
    "    ('2', 'GIST', 75000),\n",
    "    ('3', 'GIST', 1999),\n",
    "    ('4', 'GIST1', 1000),\n",
    "    ('5', 'GIST1', 40000),\n",
    "    ('6', 'KAIST', 30000),\n",
    "    ('7', 'KAIST', 73000),\n",
    "    ('8', 'KAIST1', 100000);\n",
    "\n",
    "insert into borrower values\n",
    "    ('haeun', '1'),\n",
    "    ('leehaeun', '2'),\n",
    "    ('haeun', '3'),\n",
    "    ('haeun', '4'),\n",
    "    ('ha', '5'),\n",
    "    ('eun', '6'),\n",
    "    ('ha', '7'),\n",
    "    ('lhe', '8');\n",
    "\n",
    "insert into account values\n",
    "    ('1', 'GIST', 1000),\n",
    "    ('2', 'GIST', 2000),\n",
    "    ('3', 'GIST1', 300),\n",
    "    ('4', 'GIST1', 100),\n",
    "    ('5', 'KAIST', 2000),\n",
    "    ('6', 'KAIST1', 2700),\n",
    "    ('7', 'KAIST1', 200),\n",
    "    ('8', 'KAIST1', 2700);\n",
    "\n",
    "insert into depositor values\n",
    "    ('haeun', '1'),\n",
    "    ('lee', '2'),\n",
    "    ('haeun', '3');\n"
   ]
  },
  {
   "cell_type": "code",
   "execution_count": 15,
   "metadata": {},
   "outputs": [
    {
     "name": "stdout",
     "output_type": "stream",
     "text": [
      " * sqlite:///hw1_20205149.db\n",
      "Done.\n"
     ]
    },
    {
     "data": {
      "text/html": [
       "<table>\n",
       "    <tr>\n",
       "        <th>branch_name</th>\n",
       "        <th>branch_city</th>\n",
       "        <th>assets</th>\n",
       "    </tr>\n",
       "    <tr>\n",
       "        <td>GIST</td>\n",
       "        <td>Gwangju</td>\n",
       "        <td>20205149</td>\n",
       "    </tr>\n",
       "    <tr>\n",
       "        <td>GIST1</td>\n",
       "        <td>Gwangju</td>\n",
       "        <td>20206000</td>\n",
       "    </tr>\n",
       "    <tr>\n",
       "        <td>KAIST</td>\n",
       "        <td>Daejeon</td>\n",
       "        <td>20207000</td>\n",
       "    </tr>\n",
       "    <tr>\n",
       "        <td>KAIST1</td>\n",
       "        <td>Daejeon</td>\n",
       "        <td>20204000</td>\n",
       "    </tr>\n",
       "</table>"
      ],
      "text/plain": [
       "[('GIST', 'Gwangju', 20205149),\n",
       " ('GIST1', 'Gwangju', 20206000),\n",
       " ('KAIST', 'Daejeon', 20207000),\n",
       " ('KAIST1', 'Daejeon', 20204000)]"
      ]
     },
     "execution_count": 15,
     "metadata": {},
     "output_type": "execute_result"
    }
   ],
   "source": [
    "%%sql -- Problem 2 - (2)\n",
    "select *\n",
    "from branch"
   ]
  },
  {
   "cell_type": "code",
   "execution_count": 16,
   "metadata": {},
   "outputs": [
    {
     "name": "stdout",
     "output_type": "stream",
     "text": [
      " * sqlite:///hw1_20205149.db\n",
      "Done.\n"
     ]
    },
    {
     "data": {
      "text/html": [
       "<table>\n",
       "    <tr>\n",
       "        <th>customer_name</th>\n",
       "        <th>customer_street</th>\n",
       "        <th>customer_city</th>\n",
       "    </tr>\n",
       "    <tr>\n",
       "        <td>haeun</td>\n",
       "        <td>123 street</td>\n",
       "        <td>cheomdan</td>\n",
       "    </tr>\n",
       "    <tr>\n",
       "        <td>leehaeun</td>\n",
       "        <td>123 street</td>\n",
       "        <td>cheomdan</td>\n",
       "    </tr>\n",
       "    <tr>\n",
       "        <td>lee</td>\n",
       "        <td>123 street</td>\n",
       "        <td>cheomdan</td>\n",
       "    </tr>\n",
       "    <tr>\n",
       "        <td>ha</td>\n",
       "        <td>123 street</td>\n",
       "        <td>cheomdan</td>\n",
       "    </tr>\n",
       "    <tr>\n",
       "        <td>eun</td>\n",
       "        <td>123 street</td>\n",
       "        <td>cheomdan</td>\n",
       "    </tr>\n",
       "    <tr>\n",
       "        <td>lhe</td>\n",
       "        <td>123 street</td>\n",
       "        <td>cheomdan</td>\n",
       "    </tr>\n",
       "</table>"
      ],
      "text/plain": [
       "[('haeun', '123 street', 'cheomdan'),\n",
       " ('leehaeun', '123 street', 'cheomdan'),\n",
       " ('lee', '123 street', 'cheomdan'),\n",
       " ('ha', '123 street', 'cheomdan'),\n",
       " ('eun', '123 street', 'cheomdan'),\n",
       " ('lhe', '123 street', 'cheomdan')]"
      ]
     },
     "execution_count": 16,
     "metadata": {},
     "output_type": "execute_result"
    }
   ],
   "source": [
    "%%sql -- Problem 2 - (3)\n",
    "select *\n",
    "from customer"
   ]
  },
  {
   "cell_type": "code",
   "execution_count": 17,
   "metadata": {},
   "outputs": [
    {
     "name": "stdout",
     "output_type": "stream",
     "text": [
      " * sqlite:///hw1_20205149.db\n",
      "Done.\n"
     ]
    },
    {
     "data": {
      "text/html": [
       "<table>\n",
       "    <tr>\n",
       "        <th>loan_number</th>\n",
       "        <th>branch_name</th>\n",
       "        <th>amount</th>\n",
       "    </tr>\n",
       "    <tr>\n",
       "        <td>1</td>\n",
       "        <td>GIST</td>\n",
       "        <td>85000</td>\n",
       "    </tr>\n",
       "    <tr>\n",
       "        <td>2</td>\n",
       "        <td>GIST</td>\n",
       "        <td>75000</td>\n",
       "    </tr>\n",
       "    <tr>\n",
       "        <td>3</td>\n",
       "        <td>GIST</td>\n",
       "        <td>1999</td>\n",
       "    </tr>\n",
       "    <tr>\n",
       "        <td>4</td>\n",
       "        <td>GIST1</td>\n",
       "        <td>1000</td>\n",
       "    </tr>\n",
       "    <tr>\n",
       "        <td>5</td>\n",
       "        <td>GIST1</td>\n",
       "        <td>40000</td>\n",
       "    </tr>\n",
       "    <tr>\n",
       "        <td>6</td>\n",
       "        <td>KAIST</td>\n",
       "        <td>30000</td>\n",
       "    </tr>\n",
       "    <tr>\n",
       "        <td>7</td>\n",
       "        <td>KAIST</td>\n",
       "        <td>73000</td>\n",
       "    </tr>\n",
       "    <tr>\n",
       "        <td>8</td>\n",
       "        <td>KAIST1</td>\n",
       "        <td>100000</td>\n",
       "    </tr>\n",
       "</table>"
      ],
      "text/plain": [
       "[('1', 'GIST', 85000),\n",
       " ('2', 'GIST', 75000),\n",
       " ('3', 'GIST', 1999),\n",
       " ('4', 'GIST1', 1000),\n",
       " ('5', 'GIST1', 40000),\n",
       " ('6', 'KAIST', 30000),\n",
       " ('7', 'KAIST', 73000),\n",
       " ('8', 'KAIST1', 100000)]"
      ]
     },
     "execution_count": 17,
     "metadata": {},
     "output_type": "execute_result"
    }
   ],
   "source": [
    "%%sql -- Problem 2 - (4)\n",
    "select *\n",
    "from loan"
   ]
  },
  {
   "cell_type": "code",
   "execution_count": 18,
   "metadata": {},
   "outputs": [
    {
     "name": "stdout",
     "output_type": "stream",
     "text": [
      " * sqlite:///hw1_20205149.db\n",
      "Done.\n"
     ]
    },
    {
     "data": {
      "text/html": [
       "<table>\n",
       "    <tr>\n",
       "        <th>customer_name</th>\n",
       "        <th>loan_number</th>\n",
       "    </tr>\n",
       "    <tr>\n",
       "        <td>haeun</td>\n",
       "        <td>1</td>\n",
       "    </tr>\n",
       "    <tr>\n",
       "        <td>leehaeun</td>\n",
       "        <td>2</td>\n",
       "    </tr>\n",
       "    <tr>\n",
       "        <td>haeun</td>\n",
       "        <td>3</td>\n",
       "    </tr>\n",
       "    <tr>\n",
       "        <td>haeun</td>\n",
       "        <td>4</td>\n",
       "    </tr>\n",
       "    <tr>\n",
       "        <td>ha</td>\n",
       "        <td>5</td>\n",
       "    </tr>\n",
       "    <tr>\n",
       "        <td>eun</td>\n",
       "        <td>6</td>\n",
       "    </tr>\n",
       "    <tr>\n",
       "        <td>ha</td>\n",
       "        <td>7</td>\n",
       "    </tr>\n",
       "    <tr>\n",
       "        <td>lhe</td>\n",
       "        <td>8</td>\n",
       "    </tr>\n",
       "</table>"
      ],
      "text/plain": [
       "[('haeun', '1'),\n",
       " ('leehaeun', '2'),\n",
       " ('haeun', '3'),\n",
       " ('haeun', '4'),\n",
       " ('ha', '5'),\n",
       " ('eun', '6'),\n",
       " ('ha', '7'),\n",
       " ('lhe', '8')]"
      ]
     },
     "execution_count": 18,
     "metadata": {},
     "output_type": "execute_result"
    }
   ],
   "source": [
    "%%sql -- Problem 2 - (5)\n",
    "select *\n",
    "from borrower"
   ]
  },
  {
   "cell_type": "code",
   "execution_count": 19,
   "metadata": {},
   "outputs": [
    {
     "name": "stdout",
     "output_type": "stream",
     "text": [
      " * sqlite:///hw1_20205149.db\n",
      "Done.\n"
     ]
    },
    {
     "data": {
      "text/html": [
       "<table>\n",
       "    <tr>\n",
       "        <th>account_number</th>\n",
       "        <th>branch_name</th>\n",
       "        <th>balance</th>\n",
       "    </tr>\n",
       "    <tr>\n",
       "        <td>1</td>\n",
       "        <td>GIST</td>\n",
       "        <td>1000</td>\n",
       "    </tr>\n",
       "    <tr>\n",
       "        <td>2</td>\n",
       "        <td>GIST</td>\n",
       "        <td>2000</td>\n",
       "    </tr>\n",
       "    <tr>\n",
       "        <td>3</td>\n",
       "        <td>GIST1</td>\n",
       "        <td>300</td>\n",
       "    </tr>\n",
       "    <tr>\n",
       "        <td>4</td>\n",
       "        <td>GIST1</td>\n",
       "        <td>100</td>\n",
       "    </tr>\n",
       "    <tr>\n",
       "        <td>5</td>\n",
       "        <td>KAIST</td>\n",
       "        <td>2000</td>\n",
       "    </tr>\n",
       "    <tr>\n",
       "        <td>6</td>\n",
       "        <td>KAIST1</td>\n",
       "        <td>2700</td>\n",
       "    </tr>\n",
       "    <tr>\n",
       "        <td>7</td>\n",
       "        <td>KAIST1</td>\n",
       "        <td>200</td>\n",
       "    </tr>\n",
       "    <tr>\n",
       "        <td>8</td>\n",
       "        <td>KAIST1</td>\n",
       "        <td>2700</td>\n",
       "    </tr>\n",
       "</table>"
      ],
      "text/plain": [
       "[('1', 'GIST', 1000),\n",
       " ('2', 'GIST', 2000),\n",
       " ('3', 'GIST1', 300),\n",
       " ('4', 'GIST1', 100),\n",
       " ('5', 'KAIST', 2000),\n",
       " ('6', 'KAIST1', 2700),\n",
       " ('7', 'KAIST1', 200),\n",
       " ('8', 'KAIST1', 2700)]"
      ]
     },
     "execution_count": 19,
     "metadata": {},
     "output_type": "execute_result"
    }
   ],
   "source": [
    "%%sql -- Problem 2 - (6)\n",
    "select *\n",
    "from account"
   ]
  },
  {
   "cell_type": "code",
   "execution_count": 20,
   "metadata": {},
   "outputs": [
    {
     "name": "stdout",
     "output_type": "stream",
     "text": [
      " * sqlite:///hw1_20205149.db\n",
      "Done.\n"
     ]
    },
    {
     "data": {
      "text/html": [
       "<table>\n",
       "    <tr>\n",
       "        <th>customer_name</th>\n",
       "        <th>account_number</th>\n",
       "    </tr>\n",
       "    <tr>\n",
       "        <td>haeun</td>\n",
       "        <td>1</td>\n",
       "    </tr>\n",
       "    <tr>\n",
       "        <td>lee</td>\n",
       "        <td>2</td>\n",
       "    </tr>\n",
       "    <tr>\n",
       "        <td>haeun</td>\n",
       "        <td>3</td>\n",
       "    </tr>\n",
       "</table>"
      ],
      "text/plain": [
       "[('haeun', '1'), ('lee', '2'), ('haeun', '3')]"
      ]
     },
     "execution_count": 20,
     "metadata": {},
     "output_type": "execute_result"
    }
   ],
   "source": [
    "%%sql -- Problem 2 - (6)\n",
    "select *\n",
    "from depositor"
   ]
  },
  {
   "cell_type": "code",
   "execution_count": 21,
   "metadata": {},
   "outputs": [
    {
     "name": "stdout",
     "output_type": "stream",
     "text": [
      " * sqlite:///hw1_20205149.db\n",
      "Done.\n"
     ]
    },
    {
     "data": {
      "text/html": [
       "<table>\n",
       "    <tr>\n",
       "        <th>loan_number</th>\n",
       "    </tr>\n",
       "    <tr>\n",
       "        <td>1</td>\n",
       "    </tr>\n",
       "    <tr>\n",
       "        <td>2</td>\n",
       "    </tr>\n",
       "</table>"
      ],
      "text/plain": [
       "[('1',), ('2',)]"
      ]
     },
     "execution_count": 21,
     "metadata": {},
     "output_type": "execute_result"
    }
   ],
   "source": [
    "%%sql -- Problem 3\n",
    "select loan_number\n",
    "from loan\n",
    "where branch_name = 'GIST' and amount > 2000;"
   ]
  },
  {
   "cell_type": "code",
   "execution_count": 22,
   "metadata": {},
   "outputs": [
    {
     "name": "stdout",
     "output_type": "stream",
     "text": [
      " * sqlite:///hw1_20205149.db\n",
      "Done.\n"
     ]
    },
    {
     "data": {
      "text/html": [
       "<table>\n",
       "    <tr>\n",
       "        <th>customer_name</th>\n",
       "        <th>customer_street</th>\n",
       "        <th>customer_city</th>\n",
       "    </tr>\n",
       "    <tr>\n",
       "        <td>haeun</td>\n",
       "        <td>123 street</td>\n",
       "        <td>cheomdan</td>\n",
       "    </tr>\n",
       "    <tr>\n",
       "        <td>leehaeun</td>\n",
       "        <td>123 street</td>\n",
       "        <td>cheomdan</td>\n",
       "    </tr>\n",
       "</table>"
      ],
      "text/plain": [
       "[('haeun', '123 street', 'cheomdan'), ('leehaeun', '123 street', 'cheomdan')]"
      ]
     },
     "execution_count": 22,
     "metadata": {},
     "output_type": "execute_result"
    }
   ],
   "source": [
    "%%sql -- Problem 4\n",
    "select *\n",
    "from customer\n",
    "where customer_name in (select customer_name\n",
    "                        from borrower\n",
    "                        where loan_number in (select loan_number\n",
    "                                              from loan\n",
    "                                              where branch_name = 'GIST'))\n",
    "order by customer_name"
   ]
  },
  {
   "cell_type": "code",
   "execution_count": 23,
   "metadata": {},
   "outputs": [
    {
     "name": "stdout",
     "output_type": "stream",
     "text": [
      " * sqlite:///hw1_20205149.db\n",
      "Done.\n"
     ]
    },
    {
     "data": {
      "text/html": [
       "<table>\n",
       "    <tr>\n",
       "        <th>loan_number</th>\n",
       "    </tr>\n",
       "    <tr>\n",
       "        <td>2</td>\n",
       "    </tr>\n",
       "    <tr>\n",
       "        <td>7</td>\n",
       "    </tr>\n",
       "</table>"
      ],
      "text/plain": [
       "[('2',), ('7',)]"
      ]
     },
     "execution_count": 23,
     "metadata": {},
     "output_type": "execute_result"
    }
   ],
   "source": [
    "%%sql -- Problem 5\n",
    "select loan_number\n",
    "from loan\n",
    "where amount >= 70000\n",
    "    and amount <= 80000"
   ]
  },
  {
   "cell_type": "code",
   "execution_count": 24,
   "metadata": {},
   "outputs": [
    {
     "name": "stdout",
     "output_type": "stream",
     "text": [
      " * sqlite:///hw1_20205149.db\n",
      "Done.\n"
     ]
    },
    {
     "data": {
      "text/html": [
       "<table>\n",
       "    <tr>\n",
       "        <th>branch_name</th>\n",
       "    </tr>\n",
       "    <tr>\n",
       "        <td>GIST1</td>\n",
       "    </tr>\n",
       "    <tr>\n",
       "        <td>KAIST</td>\n",
       "    </tr>\n",
       "</table>"
      ],
      "text/plain": [
       "[('GIST1',), ('KAIST',)]"
      ]
     },
     "execution_count": 24,
     "metadata": {},
     "output_type": "execute_result"
    }
   ],
   "source": [
    "%%sql -- Problem 6\n",
    "with Gwangju_branch(assets)\n",
    "    as (select assets\n",
    "        from branch\n",
    "        where branch_city = 'Gwangju')\n",
    "select distinct branch_name\n",
    "from branch, Gwangju_branch\n",
    "where branch.assets > Gwangju_branch.assets"
   ]
  },
  {
   "cell_type": "code",
   "execution_count": 25,
   "metadata": {},
   "outputs": [
    {
     "name": "stdout",
     "output_type": "stream",
     "text": [
      " * sqlite:///hw1_20205149.db\n",
      "Done.\n"
     ]
    },
    {
     "data": {
      "text/html": [
       "<table>\n",
       "    <tr>\n",
       "        <th>customer_name</th>\n",
       "        <th>customer_street</th>\n",
       "        <th>customer_city</th>\n",
       "    </tr>\n",
       "    <tr>\n",
       "        <td>lee</td>\n",
       "        <td>123 street</td>\n",
       "        <td>cheomdan</td>\n",
       "    </tr>\n",
       "</table>"
      ],
      "text/plain": [
       "[('lee', '123 street', 'cheomdan')]"
      ]
     },
     "execution_count": 25,
     "metadata": {},
     "output_type": "execute_result"
    }
   ],
   "source": [
    "%%sql -- Problem 7\n",
    "select *\n",
    "from customer\n",
    "where customer_name in (select customer_name\n",
    "                        from depositor\n",
    "                        where account_number in (select account_number\n",
    "                                                 from account))\n",
    "    and customer_name not in (select customer_name\n",
    "                              from borrower\n",
    "                              where loan_number in (select loan_number\n",
    "                                                    from loan))"
   ]
  },
  {
   "cell_type": "code",
   "execution_count": 26,
   "metadata": {},
   "outputs": [
    {
     "name": "stdout",
     "output_type": "stream",
     "text": [
      " * sqlite:///hw1_20205149.db\n",
      "Done.\n"
     ]
    },
    {
     "data": {
      "text/html": [
       "<table>\n",
       "    <tr>\n",
       "        <th>branch_name</th>\n",
       "        <th>avg(balance)</th>\n",
       "    </tr>\n",
       "    <tr>\n",
       "        <td>GIST</td>\n",
       "        <td>1500.0</td>\n",
       "    </tr>\n",
       "    <tr>\n",
       "        <td>GIST1</td>\n",
       "        <td>200.0</td>\n",
       "    </tr>\n",
       "    <tr>\n",
       "        <td>KAIST</td>\n",
       "        <td>2000.0</td>\n",
       "    </tr>\n",
       "    <tr>\n",
       "        <td>KAIST1</td>\n",
       "        <td>1866.6666666666667</td>\n",
       "    </tr>\n",
       "</table>"
      ],
      "text/plain": [
       "[('GIST', 1500.0),\n",
       " ('GIST1', 200.0),\n",
       " ('KAIST', 2000.0),\n",
       " ('KAIST1', 1866.6666666666667)]"
      ]
     },
     "execution_count": 26,
     "metadata": {},
     "output_type": "execute_result"
    }
   ],
   "source": [
    "%%sql -- Problem 8\n",
    "select branch_name, avg(balance)\n",
    "from account\n",
    "group by branch_name"
   ]
  },
  {
   "cell_type": "code",
   "execution_count": 27,
   "metadata": {},
   "outputs": [
    {
     "name": "stdout",
     "output_type": "stream",
     "text": [
      " * sqlite:///hw1_20205149.db\n",
      "Done.\n"
     ]
    },
    {
     "data": {
      "text/html": [
       "<table>\n",
       "    <tr>\n",
       "        <th>branch_name</th>\n",
       "        <th>count(distinct customer_name)</th>\n",
       "    </tr>\n",
       "    <tr>\n",
       "        <td>GIST</td>\n",
       "        <td>2</td>\n",
       "    </tr>\n",
       "    <tr>\n",
       "        <td>GIST1</td>\n",
       "        <td>2</td>\n",
       "    </tr>\n",
       "    <tr>\n",
       "        <td>KAIST</td>\n",
       "        <td>2</td>\n",
       "    </tr>\n",
       "    <tr>\n",
       "        <td>KAIST1</td>\n",
       "        <td>1</td>\n",
       "    </tr>\n",
       "</table>"
      ],
      "text/plain": [
       "[('GIST', 2), ('GIST1', 2), ('KAIST', 2), ('KAIST1', 1)]"
      ]
     },
     "execution_count": 27,
     "metadata": {},
     "output_type": "execute_result"
    }
   ],
   "source": [
    "%%sql -- Problem 9\n",
    "select branch_name, count(distinct customer_name)\n",
    "from loan join borrower\n",
    "    on loan.loan_number = borrower.loan_number\n",
    "group by branch_name"
   ]
  },
  {
   "cell_type": "code",
   "execution_count": 28,
   "metadata": {},
   "outputs": [
    {
     "name": "stdout",
     "output_type": "stream",
     "text": [
      " * sqlite:///hw1_20205149.db\n",
      "Done.\n"
     ]
    },
    {
     "data": {
      "text/html": [
       "<table>\n",
       "    <tr>\n",
       "        <th>branch_name</th>\n",
       "    </tr>\n",
       "    <tr>\n",
       "        <td>GIST</td>\n",
       "    </tr>\n",
       "    <tr>\n",
       "        <td>KAIST</td>\n",
       "    </tr>\n",
       "    <tr>\n",
       "        <td>KAIST1</td>\n",
       "    </tr>\n",
       "</table>"
      ],
      "text/plain": [
       "[('GIST',), ('KAIST',), ('KAIST1',)]"
      ]
     },
     "execution_count": 28,
     "metadata": {},
     "output_type": "execute_result"
    }
   ],
   "source": [
    "%%sql -- Problem 10\n",
    "select branch_name\n",
    "from branch\n",
    "where branch_name in (select branch_name\n",
    "                      from account\n",
    "                      group by branch_name\n",
    "                      having avg(balance) > 1200)"
   ]
  },
  {
   "cell_type": "code",
   "execution_count": 29,
   "metadata": {},
   "outputs": [
    {
     "name": "stdout",
     "output_type": "stream",
     "text": [
      " * sqlite:///hw1_20205149.db\n",
      "Done.\n"
     ]
    },
    {
     "data": {
      "text/html": [
       "<table>\n",
       "    <tr>\n",
       "        <th>customer_name</th>\n",
       "        <th>customer_street</th>\n",
       "        <th>customer_city</th>\n",
       "    </tr>\n",
       "    <tr>\n",
       "        <td>haeun</td>\n",
       "        <td>123 street</td>\n",
       "        <td>cheomdan</td>\n",
       "    </tr>\n",
       "    <tr>\n",
       "        <td>lee</td>\n",
       "        <td>123 street</td>\n",
       "        <td>cheomdan</td>\n",
       "    </tr>\n",
       "</table>"
      ],
      "text/plain": [
       "[('haeun', '123 street', 'cheomdan'), ('lee', '123 street', 'cheomdan')]"
      ]
     },
     "execution_count": 29,
     "metadata": {},
     "output_type": "execute_result"
    }
   ],
   "source": [
    "%%sql -- Problem 11\n",
    "select *\n",
    "from customer\n",
    "where customer_name in (select customer_name\n",
    "                        from depositor\n",
    "                        where account_number\n",
    "                            in (select account_number\n",
    "                                from account\n",
    "                                where branch_name in\n",
    "                                    (select branch_name\n",
    "                                     from branch\n",
    "                                     where branch_city = 'Gwangju')))"
   ]
  },
  {
   "cell_type": "code",
   "execution_count": 30,
   "metadata": {},
   "outputs": [
    {
     "name": "stdout",
     "output_type": "stream",
     "text": [
      " * sqlite:///hw1_20205149.db\n",
      "Done.\n"
     ]
    },
    {
     "data": {
      "text/html": [
       "<table>\n",
       "    <tr>\n",
       "        <th>account_number</th>\n",
       "        <th>branch_name</th>\n",
       "        <th>balance</th>\n",
       "        <th>balance_1</th>\n",
       "    </tr>\n",
       "    <tr>\n",
       "        <td>6</td>\n",
       "        <td>KAIST1</td>\n",
       "        <td>2700</td>\n",
       "        <td>2700</td>\n",
       "    </tr>\n",
       "    <tr>\n",
       "        <td>8</td>\n",
       "        <td>KAIST1</td>\n",
       "        <td>2700</td>\n",
       "        <td>2700</td>\n",
       "    </tr>\n",
       "</table>"
      ],
      "text/plain": [
       "[('6', 'KAIST1', 2700, 2700), ('8', 'KAIST1', 2700, 2700)]"
      ]
     },
     "execution_count": 30,
     "metadata": {},
     "output_type": "execute_result"
    }
   ],
   "source": [
    "%%sql -- Problem 12\n",
    "with max_balance(balance)\n",
    "    as (select max(balance)\n",
    "        from account) \n",
    "select * \n",
    "from account, max_balance \n",
    "where account.balance = max_balance.balance;"
   ]
  },
  {
   "cell_type": "code",
   "execution_count": 31,
   "metadata": {},
   "outputs": [
    {
     "name": "stdout",
     "output_type": "stream",
     "text": [
      " * sqlite:///hw1_20205149.db\n",
      "Done.\n"
     ]
    },
    {
     "data": {
      "text/html": [
       "<table>\n",
       "    <tr>\n",
       "        <th>branch_name</th>\n",
       "    </tr>\n",
       "    <tr>\n",
       "        <td>GIST</td>\n",
       "    </tr>\n",
       "    <tr>\n",
       "        <td>KAIST1</td>\n",
       "    </tr>\n",
       "</table>"
      ],
      "text/plain": [
       "[('GIST',), ('KAIST1',)]"
      ]
     },
     "execution_count": 31,
     "metadata": {},
     "output_type": "execute_result"
    }
   ],
   "source": [
    "%%sql -- Problem 13\n",
    "with sum_balance(branch_name, total)\n",
    "    as (select branch_name, sum(balance)\n",
    "        from account\n",
    "        group by branch_name),\n",
    "    avg_sum_balance(value)\n",
    "    as (select avg(total)\n",
    "        from sum_balance)\n",
    "select sum_balance.branch_name\n",
    "from sum_balance, avg_sum_balance\n",
    "where sum_balance.total > avg_sum_balance.value;"
   ]
  },
  {
   "cell_type": "code",
   "execution_count": 33,
   "metadata": {},
   "outputs": [
    {
     "name": "stdout",
     "output_type": "stream",
     "text": [
      " * sqlite:///hw1_20205149.db\n",
      "(sqlite3.OperationalError) table account_depositor already exists\n",
      "[SQL: create view account_depositor(branch_name, customer_name1) as\n",
      "select branch_name, customer_name\n",
      "from account, depositor\n",
      "where account.account_number = depositor.account_number;]\n",
      "(Background on this error at: https://sqlalche.me/e/14/e3q8)\n"
     ]
    }
   ],
   "source": [
    "%%sql -- Problem 14\n",
    "create view account_depositor(branch_name, customer_name1) as\n",
    "select branch_name, customer_name\n",
    "from account, depositor\n",
    "where account.account_number = depositor.account_number;\n",
    "\n",
    "create view loan_borrower(branch_name, customer_name2) as\n",
    "select loan.branch_name, borrower.customer_name\n",
    "from loan, borrower\n",
    "where loan.loan_number = borrower.loan_number;\n",
    "\n",
    "create view all_customer(branch_name, customer_name) as\n",
    "select distinct branch.branch_name, customer_name\n",
    "from branch, customer, account_depositor, loan_borrower \n",
    "where (branch.branch_name = account_depositor.branch_name \n",
    "       and customer.customer_name = account_depositor.customer_name1) or\n",
    "    (branch.branch_name = loan_borrower.branch_name \n",
    "     and customer.customer_name = loan_borrower.customer_name2);"
   ]
  },
  {
   "cell_type": "code",
   "execution_count": 57,
   "metadata": {},
   "outputs": [
    {
     "name": "stdout",
     "output_type": "stream",
     "text": [
      " * sqlite:///hw1_20205149.db\n",
      "Done.\n"
     ]
    },
    {
     "data": {
      "text/html": [
       "<table>\n",
       "    <tr>\n",
       "        <th>account_number</th>\n",
       "        <th>branch_name</th>\n",
       "        <th>balance</th>\n",
       "    </tr>\n",
       "    <tr>\n",
       "        <td>1</td>\n",
       "        <td>GIST</td>\n",
       "        <td>1000</td>\n",
       "    </tr>\n",
       "    <tr>\n",
       "        <td>2</td>\n",
       "        <td>GIST</td>\n",
       "        <td>2000</td>\n",
       "    </tr>\n",
       "    <tr>\n",
       "        <td>3</td>\n",
       "        <td>GIST1</td>\n",
       "        <td>300</td>\n",
       "    </tr>\n",
       "    <tr>\n",
       "        <td>4</td>\n",
       "        <td>GIST1</td>\n",
       "        <td>100</td>\n",
       "    </tr>\n",
       "    <tr>\n",
       "        <td>5</td>\n",
       "        <td>KAIST</td>\n",
       "        <td>2000</td>\n",
       "    </tr>\n",
       "    <tr>\n",
       "        <td>6</td>\n",
       "        <td>KAIST1</td>\n",
       "        <td>2700</td>\n",
       "    </tr>\n",
       "    <tr>\n",
       "        <td>7</td>\n",
       "        <td>KAIST1</td>\n",
       "        <td>200</td>\n",
       "    </tr>\n",
       "    <tr>\n",
       "        <td>8</td>\n",
       "        <td>KAIST1</td>\n",
       "        <td>2700</td>\n",
       "    </tr>\n",
       "</table>"
      ],
      "text/plain": [
       "[('1', 'GIST', 1000),\n",
       " ('2', 'GIST', 2000),\n",
       " ('3', 'GIST1', 300),\n",
       " ('4', 'GIST1', 100),\n",
       " ('5', 'KAIST', 2000),\n",
       " ('6', 'KAIST1', 2700),\n",
       " ('7', 'KAIST1', 200),\n",
       " ('8', 'KAIST1', 2700)]"
      ]
     },
     "execution_count": 57,
     "metadata": {},
     "output_type": "execute_result"
    }
   ],
   "source": [
    "%%sql\n",
    "select *\n",
    "from account;"
   ]
  },
  {
   "cell_type": "code",
   "execution_count": 58,
   "metadata": {},
   "outputs": [
    {
     "name": "stdout",
     "output_type": "stream",
     "text": [
      " * sqlite:///hw1_20205149.db\n",
      "Done.\n"
     ]
    },
    {
     "data": {
      "text/html": [
       "<table>\n",
       "    <tr>\n",
       "        <th>customer_name</th>\n",
       "        <th>account_number</th>\n",
       "    </tr>\n",
       "    <tr>\n",
       "        <td>haeun</td>\n",
       "        <td>1</td>\n",
       "    </tr>\n",
       "    <tr>\n",
       "        <td>lee</td>\n",
       "        <td>2</td>\n",
       "    </tr>\n",
       "    <tr>\n",
       "        <td>haeun</td>\n",
       "        <td>3</td>\n",
       "    </tr>\n",
       "</table>"
      ],
      "text/plain": [
       "[('haeun', '1'), ('lee', '2'), ('haeun', '3')]"
      ]
     },
     "execution_count": 58,
     "metadata": {},
     "output_type": "execute_result"
    }
   ],
   "source": [
    "%%sql\n",
    "select *\n",
    "from depositor;"
   ]
  },
  {
   "cell_type": "code",
   "execution_count": 59,
   "metadata": {},
   "outputs": [
    {
     "name": "stdout",
     "output_type": "stream",
     "text": [
      " * sqlite:///hw1_20205149.db\n",
      "4 rows affected.\n"
     ]
    },
    {
     "data": {
      "text/plain": [
       "[]"
      ]
     },
     "execution_count": 59,
     "metadata": {},
     "output_type": "execute_result"
    }
   ],
   "source": [
    "%%sql -- Problem 15\n",
    "delete\n",
    "from account\n",
    "where branch_name in (select branch_name\n",
    "                      from branch\n",
    "                      where branch_city = 'Gwangju');"
   ]
  },
  {
   "cell_type": "code",
   "execution_count": 60,
   "metadata": {},
   "outputs": [
    {
     "name": "stdout",
     "output_type": "stream",
     "text": [
      " * sqlite:///hw1_20205149.db\n",
      "Done.\n"
     ]
    },
    {
     "data": {
      "text/html": [
       "<table>\n",
       "    <tr>\n",
       "        <th>account_number</th>\n",
       "        <th>branch_name</th>\n",
       "        <th>balance</th>\n",
       "    </tr>\n",
       "    <tr>\n",
       "        <td>5</td>\n",
       "        <td>KAIST</td>\n",
       "        <td>2000</td>\n",
       "    </tr>\n",
       "    <tr>\n",
       "        <td>6</td>\n",
       "        <td>KAIST1</td>\n",
       "        <td>2700</td>\n",
       "    </tr>\n",
       "    <tr>\n",
       "        <td>7</td>\n",
       "        <td>KAIST1</td>\n",
       "        <td>200</td>\n",
       "    </tr>\n",
       "    <tr>\n",
       "        <td>8</td>\n",
       "        <td>KAIST1</td>\n",
       "        <td>2700</td>\n",
       "    </tr>\n",
       "</table>"
      ],
      "text/plain": [
       "[('5', 'KAIST', 2000),\n",
       " ('6', 'KAIST1', 2700),\n",
       " ('7', 'KAIST1', 200),\n",
       " ('8', 'KAIST1', 2700)]"
      ]
     },
     "execution_count": 60,
     "metadata": {},
     "output_type": "execute_result"
    }
   ],
   "source": [
    "%%sql\n",
    "select *\n",
    "from account;"
   ]
  },
  {
   "cell_type": "code",
   "execution_count": 61,
   "metadata": {},
   "outputs": [
    {
     "name": "stdout",
     "output_type": "stream",
     "text": [
      " * sqlite:///hw1_20205149.db\n",
      "Done.\n"
     ]
    },
    {
     "data": {
      "text/html": [
       "<table>\n",
       "    <tr>\n",
       "        <th>customer_name</th>\n",
       "        <th>account_number</th>\n",
       "    </tr>\n",
       "</table>"
      ],
      "text/plain": [
       "[]"
      ]
     },
     "execution_count": 61,
     "metadata": {},
     "output_type": "execute_result"
    }
   ],
   "source": [
    "%%sql\n",
    "select *\n",
    "from depositor;"
   ]
  },
  {
   "cell_type": "code",
   "execution_count": 62,
   "metadata": {},
   "outputs": [
    {
     "name": "stdout",
     "output_type": "stream",
     "text": [
      " * sqlite:///hw1_20205149.db\n",
      "Done.\n"
     ]
    },
    {
     "data": {
      "text/html": [
       "<table>\n",
       "    <tr>\n",
       "        <th>account_number</th>\n",
       "        <th>branch_name</th>\n",
       "        <th>balance</th>\n",
       "    </tr>\n",
       "    <tr>\n",
       "        <td>5</td>\n",
       "        <td>KAIST</td>\n",
       "        <td>2000</td>\n",
       "    </tr>\n",
       "    <tr>\n",
       "        <td>6</td>\n",
       "        <td>KAIST1</td>\n",
       "        <td>2700</td>\n",
       "    </tr>\n",
       "    <tr>\n",
       "        <td>7</td>\n",
       "        <td>KAIST1</td>\n",
       "        <td>200</td>\n",
       "    </tr>\n",
       "    <tr>\n",
       "        <td>8</td>\n",
       "        <td>KAIST1</td>\n",
       "        <td>2700</td>\n",
       "    </tr>\n",
       "</table>"
      ],
      "text/plain": [
       "[('5', 'KAIST', 2000),\n",
       " ('6', 'KAIST1', 2700),\n",
       " ('7', 'KAIST1', 200),\n",
       " ('8', 'KAIST1', 2700)]"
      ]
     },
     "execution_count": 62,
     "metadata": {},
     "output_type": "execute_result"
    }
   ],
   "source": [
    "%%sql\n",
    "select *\n",
    "from account"
   ]
  },
  {
   "cell_type": "code",
   "execution_count": 63,
   "metadata": {},
   "outputs": [
    {
     "name": "stdout",
     "output_type": "stream",
     "text": [
      " * sqlite:///hw1_20205149.db\n",
      "3 rows affected.\n"
     ]
    },
    {
     "data": {
      "text/plain": [
       "[]"
      ]
     },
     "execution_count": 63,
     "metadata": {},
     "output_type": "execute_result"
    }
   ],
   "source": [
    "%%sql -- Problem 16\n",
    "update account\n",
    "set balance = balance * 1.05\n",
    "where balance > (select avg(balance) from account);"
   ]
  },
  {
   "cell_type": "code",
   "execution_count": 64,
   "metadata": {},
   "outputs": [
    {
     "name": "stdout",
     "output_type": "stream",
     "text": [
      " * sqlite:///hw1_20205149.db\n",
      "Done.\n"
     ]
    },
    {
     "data": {
      "text/html": [
       "<table>\n",
       "    <tr>\n",
       "        <th>account_number</th>\n",
       "        <th>branch_name</th>\n",
       "        <th>balance</th>\n",
       "    </tr>\n",
       "    <tr>\n",
       "        <td>5</td>\n",
       "        <td>KAIST</td>\n",
       "        <td>2100</td>\n",
       "    </tr>\n",
       "    <tr>\n",
       "        <td>6</td>\n",
       "        <td>KAIST1</td>\n",
       "        <td>2835</td>\n",
       "    </tr>\n",
       "    <tr>\n",
       "        <td>7</td>\n",
       "        <td>KAIST1</td>\n",
       "        <td>200</td>\n",
       "    </tr>\n",
       "    <tr>\n",
       "        <td>8</td>\n",
       "        <td>KAIST1</td>\n",
       "        <td>2835</td>\n",
       "    </tr>\n",
       "</table>"
      ],
      "text/plain": [
       "[('5', 'KAIST', 2100),\n",
       " ('6', 'KAIST1', 2835),\n",
       " ('7', 'KAIST1', 200),\n",
       " ('8', 'KAIST1', 2835)]"
      ]
     },
     "execution_count": 64,
     "metadata": {},
     "output_type": "execute_result"
    }
   ],
   "source": [
    "%%sql\n",
    "select *\n",
    "from account"
   ]
  }
 ],
 "metadata": {
  "kernelspec": {
   "display_name": "Python 3.8.12 ('gist20205149')",
   "language": "python",
   "name": "python3"
  },
  "language_info": {
   "codemirror_mode": {
    "name": "ipython",
    "version": 3
   },
   "file_extension": ".py",
   "mimetype": "text/x-python",
   "name": "python",
   "nbconvert_exporter": "python",
   "pygments_lexer": "ipython3",
   "version": "3.8.12"
  },
  "orig_nbformat": 4,
  "vscode": {
   "interpreter": {
    "hash": "ba02f23ef6e070bdbb723ad4c7c7640c7db25ebc23c87a47c19da5eb76547fba"
   }
  }
 },
 "nbformat": 4,
 "nbformat_minor": 2
}
