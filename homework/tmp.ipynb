{
 "cells": [
  {
   "cell_type": "code",
   "execution_count": null,
   "metadata": {},
   "outputs": [],
   "source": [
    "%%sql\n",
    "drop table depositor;\n",
    "drop table branch;\n",
    "drop table customer;\n",
    "drop table loan;\n",
    "drop table borrower;\n",
    "drop table account;"
   ]
  },
  {
   "cell_type": "code",
   "execution_count": null,
   "metadata": {},
   "outputs": [],
   "source": [
    "%%sql\n",
    "drop view account_depositor;\n",
    "drop view loan_borrower;\n",
    "drop view all_customer;"
   ]
  }
 ],
 "metadata": {
  "kernelspec": {
   "display_name": "Python 3.8.12 ('gist20205149')",
   "language": "python",
   "name": "python3"
  },
  "language_info": {
   "name": "python",
   "version": "3.8.12"
  },
  "orig_nbformat": 4,
  "vscode": {
   "interpreter": {
    "hash": "ba02f23ef6e070bdbb723ad4c7c7640c7db25ebc23c87a47c19da5eb76547fba"
   }
  }
 },
 "nbformat": 4,
 "nbformat_minor": 2
}
