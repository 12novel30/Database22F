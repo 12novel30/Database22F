{
 "cells": [
  {
   "cell_type": "code",
   "execution_count": null,
   "metadata": {},
   "outputs": [],
   "source": [
    "%%sql\n",
    "drop table depositor;\n",
    "drop table branch;\n",
    "drop table customer;\n",
    "drop table loan;\n",
    "drop table borrower;\n",
    "drop table account;"
   ]
  },
  {
   "cell_type": "code",
   "execution_count": null,
   "metadata": {},
   "outputs": [],
   "source": [
    "%%sql\n",
    "drop view account_depositor;\n",
    "drop view loan_borrower;\n",
    "drop view all_customer;"
   ]
  }
 ],
 "metadata": {
  "language_info": {
   "name": "python"
  },
  "orig_nbformat": 4
 },
 "nbformat": 4,
 "nbformat_minor": 2
}
