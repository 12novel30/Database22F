{
 "cells": [
  {
   "cell_type": "code",
   "execution_count": 1,
   "metadata": {},
   "outputs": [],
   "source": [
    "%load_ext sql"
   ]
  },
  {
   "cell_type": "code",
   "execution_count": 2,
   "metadata": {},
   "outputs": [],
   "source": [
    "%sql sqlite:///Homework2_20205149.db"
   ]
  },
  {
   "cell_type": "markdown",
   "metadata": {},
   "source": [
    "# problem 3"
   ]
  },
  {
   "cell_type": "code",
   "execution_count": 59,
   "metadata": {},
   "outputs": [
    {
     "name": "stdout",
     "output_type": "stream",
     "text": [
      " * sqlite:///Homework2_20205149.db\n",
      "Done.\n",
      "Done.\n",
      "Done.\n",
      "Done.\n",
      "Done.\n",
      "Done.\n"
     ]
    },
    {
     "data": {
      "text/plain": [
       "[]"
      ]
     },
     "execution_count": 59,
     "metadata": {},
     "output_type": "execute_result"
    }
   ],
   "source": [
    "%%sql -- Problem 3\n",
    "\n",
    "create table station (\n",
    "    station_ID char(5),\n",
    "    station_name varchar(20),\n",
    "    primary key (station_ID)\n",
    ");\n",
    "\n",
    "create table route (\n",
    "    departure_station char(5),\n",
    "    arrival_station char(5),\n",
    "    time char(5),\n",
    "    primary key (departure_station, arrival_station),\n",
    "    foreign key (departure_station) references station(station_ID)\n",
    "        on delete set null,\n",
    "    foreign key (arrival_station) references station(station_ID)\n",
    "        on delete set null\n",
    ");\n",
    "\n",
    "create table train (\n",
    "    train_ID char(5),\n",
    "    passenger_limit INT(11),\n",
    "    primary key (train_ID)    \n",
    ");\n",
    "\n",
    "create table schedule (\n",
    "    train_ID char(5),\n",
    "    departure_station char(5),\n",
    "    arrival_station char(5),\n",
    "    departure_time time,\n",
    "    date date,\n",
    "    primary key (train_ID, departure_station, arrival_station, date, departure_time),\n",
    "    foreign key (train_ID) references train(train_ID)\n",
    "        on delete set null,\n",
    "    foreign key (departure_station) references route(departure_station)\n",
    "        on delete set null,\n",
    "    foreign key (arrival_station) references route(arrival_station)\n",
    "        on delete set null\n",
    ");\n",
    "\n",
    "create table passenger (\n",
    "    passenger_ID char(5),\n",
    "    passenger_name varchar(20),\n",
    "    primary key (passenger_ID)\n",
    ");\n",
    "\n",
    "create table ticket (\n",
    "    train_ID char(5),\n",
    "    departure_station char(5),\n",
    "    arrival_station char(5),\n",
    "    departure_time time,\n",
    "    date date,\n",
    "    passenger_ID char(5),\n",
    "    primary key (train_ID, departure_station, arrival_station, date, departure_time, passenger_ID),\n",
    "    foreign key (train_ID) references schedule(train_ID)\n",
    "        on delete set null,\n",
    "    foreign key (departure_station) references schedule(departure_station)\n",
    "        on delete set null,\n",
    "    foreign key (arrival_station) references schedule(arrival_station)\n",
    "        on delete set null,\n",
    "    foreign key (passenger_ID) references passenger(passenger_ID)\n",
    "        on delete set null\n",
    ");"
   ]
  },
  {
   "cell_type": "markdown",
   "metadata": {},
   "source": [
    "# problem 4"
   ]
  },
  {
   "cell_type": "code",
   "execution_count": 60,
   "metadata": {},
   "outputs": [
    {
     "name": "stdout",
     "output_type": "stream",
     "text": [
      " * sqlite:///Homework2_20205149.db\n",
      "3 rows affected.\n",
      "4 rows affected.\n",
      "3 rows affected.\n",
      "14 rows affected.\n",
      "3 rows affected.\n",
      "22 rows affected.\n"
     ]
    },
    {
     "data": {
      "text/plain": [
       "[]"
      ]
     },
     "execution_count": 60,
     "metadata": {},
     "output_type": "execute_result"
    }
   ],
   "source": [
    "%%sql -- Problem 4 - (1)\n",
    "insert into station values\n",
    "    ('1','수서'),\n",
    "    ('2','광주송정'),\n",
    "    ('3','부산');\n",
    "\n",
    "insert into route values\n",
    "    ('1', '3', '2h 29m'),\n",
    "    ('1', '2', '1h 41m'),\n",
    "    ('3', '1', '2h 31m'),\n",
    "    ('2', '1', '1h 39m');\n",
    "\n",
    "insert into train values\n",
    "    ('SRT 613', 5),\n",
    "    ('SRT 622', 5),\n",
    "    ('SRT 662', 8);\n",
    "\n",
    "insert into schedule values\n",
    "    ('SRT 662', '수서', '부산', '06:00:00', '2022-11-02'),\n",
    "    ('SRT 613', '수서', '부산', '10:00:00', '2022-11-02'),\n",
    "    ('SRT 662', '수서', '부산', '22:00:00', '2022-11-02'),\n",
    "    ('SRT 613', '수서', '광주송정', '06:00:00', '2022-11-02'),\n",
    "    ('SRT 622', '수서', '광주송정', '07:00:00', '2022-11-02'),\n",
    "    ('SRT 613', '수서', '광주송정', '08:00:00', '2022-11-02'),\n",
    "    ('SRT 622', '수서', '광주송정', '13:00:00', '2022-11-02'),\n",
    "    ('SRT 662', '수서', '광주송정', '14:00:00', '2022-11-02'),\n",
    "    ('SRT 622', '부산', '수서', '06:00:00', '2022-11-02'),\n",
    "    ('SRT 662', '부산', '수서', '18:00:00', '2022-11-02'),\n",
    "    ('SRT 622', '광주송정', '수서', '12:00:00', '2022-11-02'),\n",
    "    ('SRT 662', '광주송정', '수서', '14:00:00', '2022-11-02'),\n",
    "    ('SRT 622', '광주송정', '수서', '15:00:00', '2022-11-02'),\n",
    "    ('SRT 662', '광주송정', '수서', '19:00:00', '2022-11-02');\n",
    "\n",
    "insert into passenger values\n",
    "    ('1', 'haeun'),\n",
    "    ('2', 'ottz'),\n",
    "    ('3', 'lee');\n",
    "\n",
    "insert into ticket values\n",
    "    ('SRT 662', '수서', '부산', '06:00:00', '2022-11-02', '1'),\n",
    "    ('SRT 613', '수서', '부산', '10:00:00', '2022-11-02', '1'),\n",
    "    ('SRT 613', '수서', '부산', '10:00:00', '2022-11-02', '2'),\n",
    "    ('SRT 613', '수서', '부산', '10:00:00', '2022-11-02', '3'),\n",
    "    ('SRT 662', '수서', '부산', '22:00:00', '2022-11-02', '1'),\n",
    "    ('SRT 613', '수서', '광주송정', '06:00:00', '2022-11-02', '1'),\n",
    "    ('SRT 622', '수서', '광주송정', '07:00:00', '2022-11-02', '1'),\n",
    "    ('SRT 622', '수서', '광주송정', '07:00:00', '2022-11-02', '2'),\n",
    "    ('SRT 622', '수서', '광주송정', '07:00:00', '2022-11-02', '3'),\n",
    "    ('SRT 613', '수서', '광주송정', '08:00:00', '2022-11-02', '1'),\n",
    "    ('SRT 613', '수서', '광주송정', '08:00:00', '2022-11-02', '2'),\n",
    "    ('SRT 622', '수서', '광주송정', '13:00:00', '2022-11-02', '1'),\n",
    "    ('SRT 662', '수서', '광주송정', '14:00:00', '2022-11-02', '1'),\n",
    "    ('SRT 662', '수서', '광주송정', '14:00:00', '2022-11-02', '2'),\n",
    "    ('SRT 622', '부산', '수서', '06:00:00', '2022-11-02', '1'),\n",
    "    ('SRT 622', '부산', '수서', '06:00:00', '2022-11-02', '2'),\n",
    "    ('SRT 662', '부산', '수서', '18:00:00', '2022-11-02', '1'),\n",
    "    ('SRT 622', '광주송정', '수서', '12:00:00', '2022-11-02', '1'),\n",
    "    ('SRT 662', '광주송정', '수서', '14:00:00', '2022-11-02', '1'),\n",
    "    ('SRT 662', '광주송정', '수서', '14:00:00', '2022-11-02', '3'),\n",
    "    ('SRT 622', '광주송정', '수서', '15:00:00', '2022-11-02', '2'),\n",
    "    ('SRT 662', '광주송정', '수서', '19:00:00', '2022-11-02', '3');"
   ]
  },
  {
   "cell_type": "markdown",
   "metadata": {},
   "source": [
    "# problem 5"
   ]
  },
  {
   "cell_type": "markdown",
   "metadata": {},
   "source": [
    "### (1)\t(출발역-도착역) 경로 중, 가장 소요시간이 긴 경로를 select"
   ]
  },
  {
   "cell_type": "code",
   "execution_count": 61,
   "metadata": {},
   "outputs": [
    {
     "name": "stdout",
     "output_type": "stream",
     "text": [
      " * sqlite:///Homework2_20205149.db\n",
      "Done.\n"
     ]
    },
    {
     "data": {
      "text/html": [
       "<table>\n",
       "    <tr>\n",
       "        <th>departure_station_name</th>\n",
       "        <th>arrival_station_name</th>\n",
       "        <th>longest_time</th>\n",
       "    </tr>\n",
       "    <tr>\n",
       "        <td>부산</td>\n",
       "        <td>수서</td>\n",
       "        <td>2h 31m</td>\n",
       "    </tr>\n",
       "</table>"
      ],
      "text/plain": [
       "[('부산', '수서', '2h 31m')]"
      ]
     },
     "execution_count": 61,
     "metadata": {},
     "output_type": "execute_result"
    }
   ],
   "source": [
    "%%sql -- Problem 5 - (1)\n",
    "with max_route(depart_station, arrive_station, time)\n",
    "    as (select departure_station, arrival_station, max(time)\n",
    "        from route)\n",
    "select\n",
    "    depart.station_name as departure_station_name,\n",
    "    arrive.station_name as arrival_station_name,\n",
    "    time as longest_time\n",
    "from max_route, station as depart, station as arrive\n",
    "where\n",
    "    max_route.depart_station = depart.station_id and\n",
    "    max_route.arrive_station = arrive.station_id;"
   ]
  },
  {
   "cell_type": "markdown",
   "metadata": {},
   "source": [
    "### (2) 가장 여러번 운행하는 (출발역-도착역) 경로를 select"
   ]
  },
  {
   "cell_type": "code",
   "execution_count": 62,
   "metadata": {},
   "outputs": [
    {
     "name": "stdout",
     "output_type": "stream",
     "text": [
      " * sqlite:///Homework2_20205149.db\n",
      "Done.\n"
     ]
    },
    {
     "data": {
      "text/html": [
       "<table>\n",
       "    <tr>\n",
       "        <th>departure_station</th>\n",
       "        <th>arrival_station</th>\n",
       "        <th>count</th>\n",
       "    </tr>\n",
       "    <tr>\n",
       "        <td>수서</td>\n",
       "        <td>광주송정</td>\n",
       "        <td>5</td>\n",
       "    </tr>\n",
       "</table>"
      ],
      "text/plain": [
       "[('수서', '광주송정', 5)]"
      ]
     },
     "execution_count": 62,
     "metadata": {},
     "output_type": "execute_result"
    }
   ],
   "source": [
    "%%sql -- Problem 5 - (4)\n",
    "with max_count\n",
    "    as (select count(*) as count, departure_station, arrival_station\n",
    "        from schedule\n",
    "        group by departure_station, arrival_station)\n",
    "select departure_station, arrival_station, max(count) as count\n",
    "from max_count"
   ]
  },
  {
   "cell_type": "markdown",
   "metadata": {},
   "source": [
    "### (3) 각 승객별로 구매한 티켓의 총 개수를 많은 순서대로 정렬하여 select"
   ]
  },
  {
   "cell_type": "code",
   "execution_count": 63,
   "metadata": {},
   "outputs": [
    {
     "name": "stdout",
     "output_type": "stream",
     "text": [
      " * sqlite:///Homework2_20205149.db\n",
      "Done.\n"
     ]
    },
    {
     "data": {
      "text/html": [
       "<table>\n",
       "    <tr>\n",
       "        <th>ticket_count</th>\n",
       "        <th>passenger_name</th>\n",
       "    </tr>\n",
       "    <tr>\n",
       "        <td>12</td>\n",
       "        <td>haeun</td>\n",
       "    </tr>\n",
       "    <tr>\n",
       "        <td>6</td>\n",
       "        <td>ottz</td>\n",
       "    </tr>\n",
       "    <tr>\n",
       "        <td>4</td>\n",
       "        <td>lee</td>\n",
       "    </tr>\n",
       "</table>"
      ],
      "text/plain": [
       "[(12, 'haeun'), (6, 'ottz'), (4, 'lee')]"
      ]
     },
     "execution_count": 63,
     "metadata": {},
     "output_type": "execute_result"
    }
   ],
   "source": [
    "%%sql -- Problem 5 - (3)\n",
    "select count(*) as ticket_count, passenger_name\n",
    "from ticket natural left outer join passenger\n",
    "group by passenger_id\n",
    "order by ticket_count desc"
   ]
  },
  {
   "cell_type": "markdown",
   "metadata": {},
   "source": [
    "### (4) 각 운행 스케줄 별로, 최대 수용 인원, 판매 완료된 티켓 수, 남아있는 자리 수를 select"
   ]
  },
  {
   "cell_type": "code",
   "execution_count": 64,
   "metadata": {},
   "outputs": [
    {
     "name": "stdout",
     "output_type": "stream",
     "text": [
      " * sqlite:///Homework2_20205149.db\n",
      "Done.\n"
     ]
    },
    {
     "data": {
      "text/html": [
       "<table>\n",
       "    <tr>\n",
       "        <th>trainID</th>\n",
       "        <th>departure_station</th>\n",
       "        <th>arrival_station</th>\n",
       "        <th>date</th>\n",
       "        <th>departure_time</th>\n",
       "        <th>limitation</th>\n",
       "        <th>soldout_seat</th>\n",
       "        <th>remaining_seat</th>\n",
       "    </tr>\n",
       "    <tr>\n",
       "        <td>SRT 613</td>\n",
       "        <td>수서</td>\n",
       "        <td>부산</td>\n",
       "        <td>2022-11-02</td>\n",
       "        <td>10:00:00</td>\n",
       "        <td>5</td>\n",
       "        <td>3</td>\n",
       "        <td>2</td>\n",
       "    </tr>\n",
       "    <tr>\n",
       "        <td>SRT 622</td>\n",
       "        <td>수서</td>\n",
       "        <td>광주송정</td>\n",
       "        <td>2022-11-02</td>\n",
       "        <td>07:00:00</td>\n",
       "        <td>5</td>\n",
       "        <td>3</td>\n",
       "        <td>2</td>\n",
       "    </tr>\n",
       "    <tr>\n",
       "        <td>SRT 613</td>\n",
       "        <td>수서</td>\n",
       "        <td>광주송정</td>\n",
       "        <td>2022-11-02</td>\n",
       "        <td>08:00:00</td>\n",
       "        <td>5</td>\n",
       "        <td>2</td>\n",
       "        <td>3</td>\n",
       "    </tr>\n",
       "    <tr>\n",
       "        <td>SRT 622</td>\n",
       "        <td>부산</td>\n",
       "        <td>수서</td>\n",
       "        <td>2022-11-02</td>\n",
       "        <td>06:00:00</td>\n",
       "        <td>5</td>\n",
       "        <td>2</td>\n",
       "        <td>3</td>\n",
       "    </tr>\n",
       "    <tr>\n",
       "        <td>SRT 613</td>\n",
       "        <td>수서</td>\n",
       "        <td>광주송정</td>\n",
       "        <td>2022-11-02</td>\n",
       "        <td>06:00:00</td>\n",
       "        <td>5</td>\n",
       "        <td>1</td>\n",
       "        <td>4</td>\n",
       "    </tr>\n",
       "    <tr>\n",
       "        <td>SRT 622</td>\n",
       "        <td>광주송정</td>\n",
       "        <td>수서</td>\n",
       "        <td>2022-11-02</td>\n",
       "        <td>12:00:00</td>\n",
       "        <td>5</td>\n",
       "        <td>1</td>\n",
       "        <td>4</td>\n",
       "    </tr>\n",
       "    <tr>\n",
       "        <td>SRT 622</td>\n",
       "        <td>광주송정</td>\n",
       "        <td>수서</td>\n",
       "        <td>2022-11-02</td>\n",
       "        <td>15:00:00</td>\n",
       "        <td>5</td>\n",
       "        <td>1</td>\n",
       "        <td>4</td>\n",
       "    </tr>\n",
       "    <tr>\n",
       "        <td>SRT 622</td>\n",
       "        <td>수서</td>\n",
       "        <td>광주송정</td>\n",
       "        <td>2022-11-02</td>\n",
       "        <td>13:00:00</td>\n",
       "        <td>5</td>\n",
       "        <td>1</td>\n",
       "        <td>4</td>\n",
       "    </tr>\n",
       "    <tr>\n",
       "        <td>SRT 662</td>\n",
       "        <td>광주송정</td>\n",
       "        <td>수서</td>\n",
       "        <td>2022-11-02</td>\n",
       "        <td>14:00:00</td>\n",
       "        <td>8</td>\n",
       "        <td>2</td>\n",
       "        <td>6</td>\n",
       "    </tr>\n",
       "    <tr>\n",
       "        <td>SRT 662</td>\n",
       "        <td>수서</td>\n",
       "        <td>광주송정</td>\n",
       "        <td>2022-11-02</td>\n",
       "        <td>14:00:00</td>\n",
       "        <td>8</td>\n",
       "        <td>2</td>\n",
       "        <td>6</td>\n",
       "    </tr>\n",
       "    <tr>\n",
       "        <td>SRT 662</td>\n",
       "        <td>광주송정</td>\n",
       "        <td>수서</td>\n",
       "        <td>2022-11-02</td>\n",
       "        <td>19:00:00</td>\n",
       "        <td>8</td>\n",
       "        <td>1</td>\n",
       "        <td>7</td>\n",
       "    </tr>\n",
       "    <tr>\n",
       "        <td>SRT 662</td>\n",
       "        <td>부산</td>\n",
       "        <td>수서</td>\n",
       "        <td>2022-11-02</td>\n",
       "        <td>18:00:00</td>\n",
       "        <td>8</td>\n",
       "        <td>1</td>\n",
       "        <td>7</td>\n",
       "    </tr>\n",
       "    <tr>\n",
       "        <td>SRT 662</td>\n",
       "        <td>수서</td>\n",
       "        <td>부산</td>\n",
       "        <td>2022-11-02</td>\n",
       "        <td>06:00:00</td>\n",
       "        <td>8</td>\n",
       "        <td>1</td>\n",
       "        <td>7</td>\n",
       "    </tr>\n",
       "    <tr>\n",
       "        <td>SRT 662</td>\n",
       "        <td>수서</td>\n",
       "        <td>부산</td>\n",
       "        <td>2022-11-02</td>\n",
       "        <td>22:00:00</td>\n",
       "        <td>8</td>\n",
       "        <td>1</td>\n",
       "        <td>7</td>\n",
       "    </tr>\n",
       "</table>"
      ],
      "text/plain": [
       "[('SRT 613', '수서', '부산', '2022-11-02', '10:00:00', 5, 3, 2),\n",
       " ('SRT 622', '수서', '광주송정', '2022-11-02', '07:00:00', 5, 3, 2),\n",
       " ('SRT 613', '수서', '광주송정', '2022-11-02', '08:00:00', 5, 2, 3),\n",
       " ('SRT 622', '부산', '수서', '2022-11-02', '06:00:00', 5, 2, 3),\n",
       " ('SRT 613', '수서', '광주송정', '2022-11-02', '06:00:00', 5, 1, 4),\n",
       " ('SRT 622', '광주송정', '수서', '2022-11-02', '12:00:00', 5, 1, 4),\n",
       " ('SRT 622', '광주송정', '수서', '2022-11-02', '15:00:00', 5, 1, 4),\n",
       " ('SRT 622', '수서', '광주송정', '2022-11-02', '13:00:00', 5, 1, 4),\n",
       " ('SRT 662', '광주송정', '수서', '2022-11-02', '14:00:00', 8, 2, 6),\n",
       " ('SRT 662', '수서', '광주송정', '2022-11-02', '14:00:00', 8, 2, 6),\n",
       " ('SRT 662', '광주송정', '수서', '2022-11-02', '19:00:00', 8, 1, 7),\n",
       " ('SRT 662', '부산', '수서', '2022-11-02', '18:00:00', 8, 1, 7),\n",
       " ('SRT 662', '수서', '부산', '2022-11-02', '06:00:00', 8, 1, 7),\n",
       " ('SRT 662', '수서', '부산', '2022-11-02', '22:00:00', 8, 1, 7)]"
      ]
     },
     "execution_count": 64,
     "metadata": {},
     "output_type": "execute_result"
    }
   ],
   "source": [
    "%%sql -- Problem 5 - (2)\n",
    "with limit_and_soldout\n",
    "    as (select train.train_ID as trainID, departure_station, arrival_station, date, departure_time,\n",
    "                train.passenger_limit as limitation, count(passenger_ID) as soldout_seat\n",
    "        from ticket, train\n",
    "        group by train.train_ID, departure_station, arrival_station, date, departure_time\n",
    "        having ticket.train_ID = train.train_ID)\n",
    "select trainID, departure_station, arrival_station, date, departure_time,\n",
    "        limitation, soldout_seat,\n",
    "        limitation - soldout_seat as remaining_seat\n",
    "from limit_and_soldout\n",
    "order by remaining_seat"
   ]
  },
  {
   "cell_type": "markdown",
   "metadata": {},
   "source": [
    "### (5) 탑승객이 가장 적은 열차운행 스케줄을 전부 select"
   ]
  },
  {
   "cell_type": "code",
   "execution_count": 65,
   "metadata": {},
   "outputs": [
    {
     "name": "stdout",
     "output_type": "stream",
     "text": [
      " * sqlite:///Homework2_20205149.db\n",
      "Done.\n"
     ]
    },
    {
     "data": {
      "text/html": [
       "<table>\n",
       "    <tr>\n",
       "        <th>trainID</th>\n",
       "        <th>departure_station</th>\n",
       "        <th>arrival_station</th>\n",
       "        <th>date</th>\n",
       "        <th>departure_time</th>\n",
       "        <th>soldout_seat</th>\n",
       "    </tr>\n",
       "    <tr>\n",
       "        <td>SRT 613</td>\n",
       "        <td>수서</td>\n",
       "        <td>광주송정</td>\n",
       "        <td>2022-11-02</td>\n",
       "        <td>06:00:00</td>\n",
       "        <td>1</td>\n",
       "    </tr>\n",
       "    <tr>\n",
       "        <td>SRT 622</td>\n",
       "        <td>광주송정</td>\n",
       "        <td>수서</td>\n",
       "        <td>2022-11-02</td>\n",
       "        <td>12:00:00</td>\n",
       "        <td>1</td>\n",
       "    </tr>\n",
       "    <tr>\n",
       "        <td>SRT 622</td>\n",
       "        <td>광주송정</td>\n",
       "        <td>수서</td>\n",
       "        <td>2022-11-02</td>\n",
       "        <td>15:00:00</td>\n",
       "        <td>1</td>\n",
       "    </tr>\n",
       "    <tr>\n",
       "        <td>SRT 622</td>\n",
       "        <td>수서</td>\n",
       "        <td>광주송정</td>\n",
       "        <td>2022-11-02</td>\n",
       "        <td>13:00:00</td>\n",
       "        <td>1</td>\n",
       "    </tr>\n",
       "    <tr>\n",
       "        <td>SRT 662</td>\n",
       "        <td>광주송정</td>\n",
       "        <td>수서</td>\n",
       "        <td>2022-11-02</td>\n",
       "        <td>19:00:00</td>\n",
       "        <td>1</td>\n",
       "    </tr>\n",
       "    <tr>\n",
       "        <td>SRT 662</td>\n",
       "        <td>부산</td>\n",
       "        <td>수서</td>\n",
       "        <td>2022-11-02</td>\n",
       "        <td>18:00:00</td>\n",
       "        <td>1</td>\n",
       "    </tr>\n",
       "    <tr>\n",
       "        <td>SRT 662</td>\n",
       "        <td>수서</td>\n",
       "        <td>부산</td>\n",
       "        <td>2022-11-02</td>\n",
       "        <td>06:00:00</td>\n",
       "        <td>1</td>\n",
       "    </tr>\n",
       "    <tr>\n",
       "        <td>SRT 662</td>\n",
       "        <td>수서</td>\n",
       "        <td>부산</td>\n",
       "        <td>2022-11-02</td>\n",
       "        <td>22:00:00</td>\n",
       "        <td>1</td>\n",
       "    </tr>\n",
       "</table>"
      ],
      "text/plain": [
       "[('SRT 613', '수서', '광주송정', '2022-11-02', '06:00:00', 1),\n",
       " ('SRT 622', '광주송정', '수서', '2022-11-02', '12:00:00', 1),\n",
       " ('SRT 622', '광주송정', '수서', '2022-11-02', '15:00:00', 1),\n",
       " ('SRT 622', '수서', '광주송정', '2022-11-02', '13:00:00', 1),\n",
       " ('SRT 662', '광주송정', '수서', '2022-11-02', '19:00:00', 1),\n",
       " ('SRT 662', '부산', '수서', '2022-11-02', '18:00:00', 1),\n",
       " ('SRT 662', '수서', '부산', '2022-11-02', '06:00:00', 1),\n",
       " ('SRT 662', '수서', '부산', '2022-11-02', '22:00:00', 1)]"
      ]
     },
     "execution_count": 65,
     "metadata": {},
     "output_type": "execute_result"
    }
   ],
   "source": [
    "%%sql -- Problem 5 - (5)\n",
    "with soldout_seat\n",
    "    as (select train.train_ID as trainID, departure_station, arrival_station, date, departure_time,\n",
    "                count(passenger_ID) as soldout_seat\n",
    "        from ticket, train\n",
    "        group by train.train_ID, departure_station, arrival_station, date, departure_time\n",
    "        having ticket.train_ID = train.train_ID),\n",
    "    min_soldout_seat(value)\n",
    "    as (select min(soldout_seat)\n",
    "        from soldout_seat)\n",
    "select trainID, departure_station, arrival_station, date, departure_time, soldout_seat\n",
    "from soldout_seat, min_soldout_seat\n",
    "where soldout_seat.soldout_seat = min_soldout_seat.value"
   ]
  }
 ],
 "metadata": {
  "kernelspec": {
   "display_name": "Python 3.8.12 ('gist20205149')",
   "language": "python",
   "name": "python3"
  },
  "language_info": {
   "codemirror_mode": {
    "name": "ipython",
    "version": 3
   },
   "file_extension": ".py",
   "mimetype": "text/x-python",
   "name": "python",
   "nbconvert_exporter": "python",
   "pygments_lexer": "ipython3",
   "version": "3.8.12"
  },
  "orig_nbformat": 4,
  "vscode": {
   "interpreter": {
    "hash": "ba02f23ef6e070bdbb723ad4c7c7640c7db25ebc23c87a47c19da5eb76547fba"
   }
  }
 },
 "nbformat": 4,
 "nbformat_minor": 2
}
