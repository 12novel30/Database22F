{
 "cells": [
  {
   "cell_type": "code",
   "execution_count": 1,
   "metadata": {},
   "outputs": [],
   "source": [
    "pi = 3.14159\n",
    "def area(radius):\n",
    "    return pi*(radius**2)\n",
    "def circumference(radius):\n",
    "    return 2*pi*radius"
   ]
  },
  {
   "cell_type": "code",
   "execution_count": 2,
   "metadata": {},
   "outputs": [
    {
     "name": "stdout",
     "output_type": "stream",
     "text": [
      "3.14159\n"
     ]
    }
   ],
   "source": [
    "print (pi)"
   ]
  },
  {
   "cell_type": "code",
   "execution_count": 3,
   "metadata": {},
   "outputs": [
    {
     "name": "stdout",
     "output_type": "stream",
     "text": [
      "314.159\n"
     ]
    }
   ],
   "source": [
    "print (area(10))"
   ]
  },
  {
   "cell_type": "code",
   "execution_count": 4,
   "metadata": {},
   "outputs": [
    {
     "name": "stdout",
     "output_type": "stream",
     "text": [
      "18.849539999999998\n"
     ]
    }
   ],
   "source": [
    "print (circumference(3))"
   ]
  },
  {
   "cell_type": "code",
   "execution_count": 5,
   "metadata": {},
   "outputs": [],
   "source": [
    "# without using magic function\n",
    "# pip install ipython-sql"
   ]
  },
  {
   "cell_type": "code",
   "execution_count": 7,
   "metadata": {},
   "outputs": [],
   "source": [
    "# 위의 magic function  대신 import\n",
    "import sqlite3"
   ]
  },
  {
   "cell_type": "code",
   "execution_count": 14,
   "metadata": {},
   "outputs": [],
   "source": [
    "connection = sqlite3.connect(\"db_univ7_new.db\")"
   ]
  },
  {
   "cell_type": "code",
   "execution_count": 15,
   "metadata": {},
   "outputs": [],
   "source": [
    "cursor = connection.cursor()"
   ]
  },
  {
   "cell_type": "code",
   "execution_count": 16,
   "metadata": {},
   "outputs": [],
   "source": [
    "with connection:\n",
    "    cursor.execute(\"select * from student\")"
   ]
  },
  {
   "cell_type": "code",
   "execution_count": 17,
   "metadata": {},
   "outputs": [],
   "source": [
    "rows = cursor.fetchall()"
   ]
  },
  {
   "cell_type": "code",
   "execution_count": 18,
   "metadata": {},
   "outputs": [
    {
     "name": "stdout",
     "output_type": "stream",
     "text": [
      "00128 Zhang Comp. Sci. 102\n",
      "12345 Shankar Comp. Sci. 32\n",
      "19991 Brandt History 80\n",
      "23121 Chavez Finance 110\n",
      "44553 Peltier Physics 56\n",
      "45678 Levy Physics 46\n",
      "54321 Williams Comp. Sci. 54\n",
      "55739 Sanchez Music 38\n",
      "70557 Snow Physics 0\n",
      "76543 Brown Comp. Sci. 58\n",
      "76653 Aoi Elec. Eng. 60\n",
      "98765 Bourikas Elec. Eng. 98\n",
      "98988 Tanaka Biology 120\n"
     ]
    }
   ],
   "source": [
    "for row in rows:\n",
    "    print(row[0], row[1], row[2], row[3])"
   ]
  },
  {
   "cell_type": "code",
   "execution_count": 19,
   "metadata": {},
   "outputs": [
    {
     "data": {
      "text/plain": [
       "<sqlite3.Cursor at 0x1a831fe8ea0>"
      ]
     },
     "execution_count": 19,
     "metadata": {},
     "output_type": "execute_result"
    }
   ],
   "source": [
    "cursor.execute(\"INSERT INTO student values ('44444', 'John', 'History', 10)\")"
   ]
  },
  {
   "cell_type": "code",
   "execution_count": 20,
   "metadata": {},
   "outputs": [],
   "source": [
    "with connection:\n",
    "    cursor.execute(\"select * from student\")"
   ]
  },
  {
   "cell_type": "code",
   "execution_count": 21,
   "metadata": {},
   "outputs": [],
   "source": [
    "rows = cursor.fetchall()"
   ]
  },
  {
   "cell_type": "code",
   "execution_count": 22,
   "metadata": {},
   "outputs": [
    {
     "name": "stdout",
     "output_type": "stream",
     "text": [
      "00128 Zhang Comp. Sci. 102\n",
      "12345 Shankar Comp. Sci. 32\n",
      "19991 Brandt History 80\n",
      "23121 Chavez Finance 110\n",
      "44553 Peltier Physics 56\n",
      "45678 Levy Physics 46\n",
      "54321 Williams Comp. Sci. 54\n",
      "55739 Sanchez Music 38\n",
      "70557 Snow Physics 0\n",
      "76543 Brown Comp. Sci. 58\n",
      "76653 Aoi Elec. Eng. 60\n",
      "98765 Bourikas Elec. Eng. 98\n",
      "98988 Tanaka Biology 120\n",
      "44444 John History 10\n"
     ]
    }
   ],
   "source": [
    "for row in rows:\n",
    "    print(row[0], row[1], row[2], row[3])"
   ]
  },
  {
   "cell_type": "code",
   "execution_count": 17,
   "metadata": {},
   "outputs": [],
   "source": [
    "sID='33344'"
   ]
  },
  {
   "cell_type": "code",
   "execution_count": 18,
   "metadata": {},
   "outputs": [],
   "source": [
    "sname='Maria'"
   ]
  },
  {
   "cell_type": "code",
   "execution_count": 19,
   "metadata": {},
   "outputs": [
    {
     "data": {
      "text/plain": [
       "<sqlite3.Cursor at 0x17db1c63b20>"
      ]
     },
     "execution_count": 19,
     "metadata": {},
     "output_type": "execute_result"
    }
   ],
   "source": [
    "cursor.execute(\"INSERT INTO student values (?, ?, 'History', 40)\",(sID,sname))"
   ]
  },
  {
   "cell_type": "code",
   "execution_count": 21,
   "metadata": {},
   "outputs": [],
   "source": [
    "with connection:\n",
    "    cursor.execute(\"select * from student\")"
   ]
  },
  {
   "cell_type": "code",
   "execution_count": 22,
   "metadata": {},
   "outputs": [],
   "source": [
    "rows = cursor.fetchall()"
   ]
  },
  {
   "cell_type": "code",
   "execution_count": 23,
   "metadata": {},
   "outputs": [
    {
     "name": "stdout",
     "output_type": "stream",
     "text": [
      "00128 Zhang Comp. Sci. 102\n",
      "12345 Shankar Comp. Sci. 32\n",
      "19991 Brandt History 80\n",
      "23121 Chavez Finance 110\n",
      "44553 Peltier Physics 56\n",
      "45678 Levy Physics 46\n",
      "54321 Williams Comp. Sci. 54\n",
      "55739 Sanchez Music 38\n",
      "70557 Snow Physics 0\n",
      "76543 Brown Comp. Sci. 58\n",
      "76653 Aoi Elec. Eng. 60\n",
      "98765 Bourikas Elec. Eng. 98\n",
      "98988 Tanaka Biology 120\n",
      "44444 John History 10\n",
      "33344 Maria History 40\n"
     ]
    }
   ],
   "source": [
    "for row in rows:\n",
    "    print(row[0], row[1], row[2], row[3])"
   ]
  }
 ],
 "metadata": {
  "kernelspec": {
   "display_name": "Python 3.8.12 ('gist20205149')",
   "language": "python",
   "name": "python3"
  },
  "language_info": {
   "codemirror_mode": {
    "name": "ipython",
    "version": 3
   },
   "file_extension": ".py",
   "mimetype": "text/x-python",
   "name": "python",
   "nbconvert_exporter": "python",
   "pygments_lexer": "ipython3",
   "version": "3.8.12"
  },
  "vscode": {
   "interpreter": {
    "hash": "ba02f23ef6e070bdbb723ad4c7c7640c7db25ebc23c87a47c19da5eb76547fba"
   }
  }
 },
 "nbformat": 4,
 "nbformat_minor": 2
}
