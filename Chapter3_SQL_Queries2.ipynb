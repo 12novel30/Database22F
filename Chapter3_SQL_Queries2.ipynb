{
 "cells": [
  {
   "cell_type": "markdown",
   "metadata": {},
   "source": [
    "# 22-09-06 Wed in lecture"
   ]
  },
  {
   "cell_type": "markdown",
   "metadata": {},
   "source": [
    "## setting"
   ]
  },
  {
   "cell_type": "code",
   "execution_count": 11,
   "metadata": {},
   "outputs": [],
   "source": [
    "%load_ext sql"
   ]
  },
  {
   "cell_type": "code",
   "execution_count": 12,
   "metadata": {},
   "outputs": [],
   "source": [
    "%sql sqlite:///db_univ7_new.db"
   ]
  },
  {
   "cell_type": "code",
   "execution_count": 13,
   "metadata": {},
   "outputs": [
    {
     "name": "stdout",
     "output_type": "stream",
     "text": [
      " * sqlite:///db_univ7_new.db\n",
      "Done.\n"
     ]
    },
    {
     "data": {
      "text/html": [
       "<table>\n",
       "    <tr>\n",
       "        <th>type</th>\n",
       "        <th>name</th>\n",
       "        <th>tbl_name</th>\n",
       "        <th>rootpage</th>\n",
       "        <th>sql</th>\n",
       "    </tr>\n",
       "    <tr>\n",
       "        <td>table</td>\n",
       "        <td>classroom</td>\n",
       "        <td>classroom</td>\n",
       "        <td>2</td>\n",
       "        <td>CREATE TABLE classroom<br>\t(building\t\tvarchar(15),<br>\t room_number\t\tvarchar(7),<br>\t capacity\t\tnumeric(4,0),<br>\t primary key (building, room_number)<br>\t)</td>\n",
       "    </tr>\n",
       "    <tr>\n",
       "        <td>index</td>\n",
       "        <td>sqlite_autoindex_classroom_1</td>\n",
       "        <td>classroom</td>\n",
       "        <td>3</td>\n",
       "        <td>None</td>\n",
       "    </tr>\n",
       "    <tr>\n",
       "        <td>table</td>\n",
       "        <td>department</td>\n",
       "        <td>department</td>\n",
       "        <td>4</td>\n",
       "        <td>CREATE TABLE department<br>\t(dept_name\t\tvarchar(20), <br>\t building\t\tvarchar(15), <br>\t budget\t\t        numeric(12,2) check (budget &gt; 0),<br>\t primary key (dept_name)<br>\t)</td>\n",
       "    </tr>\n",
       "    <tr>\n",
       "        <td>index</td>\n",
       "        <td>sqlite_autoindex_department_1</td>\n",
       "        <td>department</td>\n",
       "        <td>5</td>\n",
       "        <td>None</td>\n",
       "    </tr>\n",
       "    <tr>\n",
       "        <td>table</td>\n",
       "        <td>course</td>\n",
       "        <td>course</td>\n",
       "        <td>6</td>\n",
       "        <td>CREATE TABLE course<br>\t(course_id\t\tvarchar(8), <br>\t title\t\t\tvarchar(50), <br>\t dept_name\t\tvarchar(20),<br>\t credits\t\tnumeric(2,0) check (credits &gt; 0),<br>\t primary key (course_id),<br>\t foreign key (dept_name) references department (dept_name)<br>\t\ton delete set null<br>\t)</td>\n",
       "    </tr>\n",
       "    <tr>\n",
       "        <td>index</td>\n",
       "        <td>sqlite_autoindex_course_1</td>\n",
       "        <td>course</td>\n",
       "        <td>7</td>\n",
       "        <td>None</td>\n",
       "    </tr>\n",
       "    <tr>\n",
       "        <td>table</td>\n",
       "        <td>instructor</td>\n",
       "        <td>instructor</td>\n",
       "        <td>8</td>\n",
       "        <td>CREATE TABLE instructor<br>\t(ID\t\t\tvarchar(5), <br>\t name\t\t\tvarchar(20) not null, <br>\t dept_name\t\tvarchar(20), <br>\t salary\t\t\tnumeric(8,2) check (salary &gt; 29000),<br>\t primary key (ID),<br>\t foreign key (dept_name) references department (dept_name)<br>\t\ton delete set null<br>\t)</td>\n",
       "    </tr>\n",
       "    <tr>\n",
       "        <td>index</td>\n",
       "        <td>sqlite_autoindex_instructor_1</td>\n",
       "        <td>instructor</td>\n",
       "        <td>9</td>\n",
       "        <td>None</td>\n",
       "    </tr>\n",
       "    <tr>\n",
       "        <td>table</td>\n",
       "        <td>section</td>\n",
       "        <td>section</td>\n",
       "        <td>10</td>\n",
       "        <td>CREATE TABLE section<br>\t(course_id\t\tvarchar(8), <br>         sec_id\t\t\tvarchar(8),<br>\t semester\t\tvarchar(6)<br>\t\tcheck (semester in (&#x27;Fall&#x27;, &#x27;Winter&#x27;, &#x27;Spring&#x27;, &#x27;Summer&#x27;)), <br>\t year\t\t\tnumeric(4,0) check (year &gt; 1701 and year &lt; 2100), <br>\t building\t\tvarchar(15),<br>\t room_number\t\tvarchar(7),<br>\t time_slot_id\t\tvarchar(4),<br>\t primary key (course_id, sec_id, semester, year),<br>\t foreign key (course_id) references course (course_id)<br>\t\ton delete cascade,<br>\t foreign key (building, room_number) references classroom (building, room_number)<br>\t\ton delete set null<br>\t)</td>\n",
       "    </tr>\n",
       "    <tr>\n",
       "        <td>index</td>\n",
       "        <td>sqlite_autoindex_section_1</td>\n",
       "        <td>section</td>\n",
       "        <td>11</td>\n",
       "        <td>None</td>\n",
       "    </tr>\n",
       "    <tr>\n",
       "        <td>table</td>\n",
       "        <td>teaches</td>\n",
       "        <td>teaches</td>\n",
       "        <td>12</td>\n",
       "        <td>CREATE TABLE teaches<br>\t(ID\t\t\tvarchar(5), <br>\t course_id\t\tvarchar(8),<br>\t sec_id\t\t\tvarchar(8), <br>\t semester\t\tvarchar(6),<br>\t year\t\t\tnumeric(4,0),<br>\t primary key (ID, course_id, sec_id, semester, year),<br>\t foreign key (course_id, sec_id, semester, year) references section (course_id, sec_id, semester, year)<br>\t\ton delete cascade,<br>\t foreign key (ID) references instructor (ID)<br>\t\ton delete cascade<br>\t)</td>\n",
       "    </tr>\n",
       "    <tr>\n",
       "        <td>index</td>\n",
       "        <td>sqlite_autoindex_teaches_1</td>\n",
       "        <td>teaches</td>\n",
       "        <td>13</td>\n",
       "        <td>None</td>\n",
       "    </tr>\n",
       "    <tr>\n",
       "        <td>table</td>\n",
       "        <td>student</td>\n",
       "        <td>student</td>\n",
       "        <td>14</td>\n",
       "        <td>CREATE TABLE student<br>\t(ID\t\t\tvarchar(5), <br>\t name\t\t\tvarchar(20) not null, <br>\t dept_name\t\tvarchar(20), <br>\t tot_cred\t\tnumeric(3,0) check (tot_cred &gt;= 0),<br>\t primary key (ID),<br>\t foreign key (dept_name) references department (dept_name)<br>\t\ton delete set null<br>\t)</td>\n",
       "    </tr>\n",
       "    <tr>\n",
       "        <td>index</td>\n",
       "        <td>sqlite_autoindex_student_1</td>\n",
       "        <td>student</td>\n",
       "        <td>15</td>\n",
       "        <td>None</td>\n",
       "    </tr>\n",
       "    <tr>\n",
       "        <td>table</td>\n",
       "        <td>takes</td>\n",
       "        <td>takes</td>\n",
       "        <td>16</td>\n",
       "        <td>CREATE TABLE takes<br>\t(ID\t\t\tvarchar(5), <br>\t course_id\t\tvarchar(8),<br>\t sec_id\t\t\tvarchar(8), <br>\t semester\t\tvarchar(6),<br>\t year\t\t\tnumeric(4,0),<br>\t grade\t\t        varchar(2),<br>\t primary key (ID, course_id, sec_id, semester, year),<br>\t foreign key (course_id, sec_id, semester, year) references section (course_id, sec_id, semester, year)<br>\t\ton delete cascade,<br>\t foreign key (ID) references student (ID)<br>\t\ton delete cascade<br>\t)</td>\n",
       "    </tr>\n",
       "    <tr>\n",
       "        <td>index</td>\n",
       "        <td>sqlite_autoindex_takes_1</td>\n",
       "        <td>takes</td>\n",
       "        <td>17</td>\n",
       "        <td>None</td>\n",
       "    </tr>\n",
       "    <tr>\n",
       "        <td>table</td>\n",
       "        <td>advisor</td>\n",
       "        <td>advisor</td>\n",
       "        <td>18</td>\n",
       "        <td>CREATE TABLE advisor<br>\t(s_ID\t\t\tvarchar(5),<br>\t i_ID\t\t\tvarchar(5),<br>\t primary key (s_ID),<br>\t foreign key (i_ID) references instructor (ID)<br>\t\ton delete set null,<br>\t foreign key (s_ID) references student (ID)<br>\t\ton delete cascade<br>\t)</td>\n",
       "    </tr>\n",
       "    <tr>\n",
       "        <td>index</td>\n",
       "        <td>sqlite_autoindex_advisor_1</td>\n",
       "        <td>advisor</td>\n",
       "        <td>19</td>\n",
       "        <td>None</td>\n",
       "    </tr>\n",
       "    <tr>\n",
       "        <td>table</td>\n",
       "        <td>time_slot</td>\n",
       "        <td>time_slot</td>\n",
       "        <td>20</td>\n",
       "        <td>CREATE TABLE time_slot<br>\t(time_slot_id\t\tvarchar(4),<br>\t day\t\t\tvarchar(1),<br>\t start_hr\t\tnumeric(2) check (start_hr &gt;= 0 and start_hr &lt; 24),<br>\t start_min\t\tnumeric(2) check (start_min &gt;= 0 and start_min &lt; 60),<br>\t end_hr\t\t\tnumeric(2) check (end_hr &gt;= 0 and end_hr &lt; 24),<br>\t end_min\t\tnumeric(2) check (end_min &gt;= 0 and end_min &lt; 60),<br>\t primary key (time_slot_id, day, start_hr, start_min)<br>\t)</td>\n",
       "    </tr>\n",
       "    <tr>\n",
       "        <td>index</td>\n",
       "        <td>sqlite_autoindex_time_slot_1</td>\n",
       "        <td>time_slot</td>\n",
       "        <td>21</td>\n",
       "        <td>None</td>\n",
       "    </tr>\n",
       "    <tr>\n",
       "        <td>table</td>\n",
       "        <td>prereq</td>\n",
       "        <td>prereq</td>\n",
       "        <td>22</td>\n",
       "        <td>CREATE TABLE prereq<br>\t(course_id\t\tvarchar(8), <br>\t prereq_id\t\tvarchar(8),<br>\t primary key (course_id, prereq_id),<br>\t foreign key (course_id) references course (course_id)<br>\t\ton delete cascade,<br>\t foreign key (prereq_id) references course (course_id)<br>\t)</td>\n",
       "    </tr>\n",
       "    <tr>\n",
       "        <td>index</td>\n",
       "        <td>sqlite_autoindex_prereq_1</td>\n",
       "        <td>prereq</td>\n",
       "        <td>23</td>\n",
       "        <td>None</td>\n",
       "    </tr>\n",
       "</table>"
      ],
      "text/plain": [
       "[('table', 'classroom', 'classroom', 2, 'CREATE TABLE classroom\\n\\t(building\\t\\tvarchar(15),\\n\\t room_number\\t\\tvarchar(7),\\n\\t capacity\\t\\tnumeric(4,0),\\n\\t primary key (building, room_number)\\n\\t)'),\n",
       " ('index', 'sqlite_autoindex_classroom_1', 'classroom', 3, None),\n",
       " ('table', 'department', 'department', 4, 'CREATE TABLE department\\n\\t(dept_name\\t\\tvarchar(20), \\n\\t building\\t\\tvarchar(15), \\n\\t budget\\t\\t        numeric(12,2) check (budget > 0),\\n\\t primary key (dept_name)\\n\\t)'),\n",
       " ('index', 'sqlite_autoindex_department_1', 'department', 5, None),\n",
       " ('table', 'course', 'course', 6, 'CREATE TABLE course\\n\\t(course_id\\t\\tvarchar(8), \\n\\t title\\t\\t\\tvarchar(50), \\n\\t dept_name\\t\\tvarchar(20),\\n\\t credits\\t\\tnumeric(2,0) check (credits > 0),\\n\\t primary key (course_id),\\n\\t foreign key (dept_name) references department (dept_name)\\n\\t\\ton delete set null\\n\\t)'),\n",
       " ('index', 'sqlite_autoindex_course_1', 'course', 7, None),\n",
       " ('table', 'instructor', 'instructor', 8, 'CREATE TABLE instructor\\n\\t(ID\\t\\t\\tvarchar(5), \\n\\t name\\t\\t\\tvarchar(20) not null, \\n\\t dept_name\\t\\tvarchar(20), \\n\\t salary\\t\\t\\tnumeric(8,2) check (salary > 29000),\\n\\t primary key (ID),\\n\\t foreign key (dept_name) references department (dept_name)\\n\\t\\ton delete set null\\n\\t)'),\n",
       " ('index', 'sqlite_autoindex_instructor_1', 'instructor', 9, None),\n",
       " ('table', 'section', 'section', 10, \"CREATE TABLE section\\n\\t(course_id\\t\\tvarchar(8), \\n         sec_id\\t\\t\\tvarchar(8),\\n\\t semester\\t\\tvarchar(6)\\n\\t\\tcheck (semester in ('Fall', 'Win ... (285 characters truncated) ... (course_id)\\n\\t\\ton delete cascade,\\n\\t foreign key (building, room_number) references classroom (building, room_number)\\n\\t\\ton delete set null\\n\\t)\"),\n",
       " ('index', 'sqlite_autoindex_section_1', 'section', 11, None),\n",
       " ('table', 'teaches', 'teaches', 12, 'CREATE TABLE teaches\\n\\t(ID\\t\\t\\tvarchar(5), \\n\\t course_id\\t\\tvarchar(8),\\n\\t sec_id\\t\\t\\tvarchar(8), \\n\\t semester\\t\\tvarchar(6),\\n\\t year\\t\\t\\tnum ... (125 characters truncated) ... ences section (course_id, sec_id, semester, year)\\n\\t\\ton delete cascade,\\n\\t foreign key (ID) references instructor (ID)\\n\\t\\ton delete cascade\\n\\t)'),\n",
       " ('index', 'sqlite_autoindex_teaches_1', 'teaches', 13, None),\n",
       " ('table', 'student', 'student', 14, 'CREATE TABLE student\\n\\t(ID\\t\\t\\tvarchar(5), \\n\\t name\\t\\t\\tvarchar(20) not null, \\n\\t dept_name\\t\\tvarchar(20), \\n\\t tot_cred\\t\\tnumeric(3,0) check (tot_cred >= 0),\\n\\t primary key (ID),\\n\\t foreign key (dept_name) references department (dept_name)\\n\\t\\ton delete set null\\n\\t)'),\n",
       " ('index', 'sqlite_autoindex_student_1', 'student', 15, None),\n",
       " ('table', 'takes', 'takes', 16, 'CREATE TABLE takes\\n\\t(ID\\t\\t\\tvarchar(5), \\n\\t course_id\\t\\tvarchar(8),\\n\\t sec_id\\t\\t\\tvarchar(8), \\n\\t semester\\t\\tvarchar(6),\\n\\t year\\t\\t\\tnumer ... (153 characters truncated) ... ferences section (course_id, sec_id, semester, year)\\n\\t\\ton delete cascade,\\n\\t foreign key (ID) references student (ID)\\n\\t\\ton delete cascade\\n\\t)'),\n",
       " ('index', 'sqlite_autoindex_takes_1', 'takes', 17, None),\n",
       " ('table', 'advisor', 'advisor', 18, 'CREATE TABLE advisor\\n\\t(s_ID\\t\\t\\tvarchar(5),\\n\\t i_ID\\t\\t\\tvarchar(5),\\n\\t primary key (s_ID),\\n\\t foreign key (i_ID) references instructor (ID)\\n\\t\\ton delete set null,\\n\\t foreign key (s_ID) references student (ID)\\n\\t\\ton delete cascade\\n\\t)'),\n",
       " ('index', 'sqlite_autoindex_advisor_1', 'advisor', 19, None),\n",
       " ('table', 'time_slot', 'time_slot', 20, 'CREATE TABLE time_slot\\n\\t(time_slot_id\\t\\tvarchar(4),\\n\\t day\\t\\t\\tvarchar(1),\\n\\t start_hr\\t\\tnumeric(2) check (start_hr >= 0 and start_hr < 24),\\n ... (111 characters truncated) ... >= 0 and end_hr < 24),\\n\\t end_min\\t\\tnumeric(2) check (end_min >= 0 and end_min < 60),\\n\\t primary key (time_slot_id, day, start_hr, start_min)\\n\\t)'),\n",
       " ('index', 'sqlite_autoindex_time_slot_1', 'time_slot', 21, None),\n",
       " ('table', 'prereq', 'prereq', 22, 'CREATE TABLE prereq\\n\\t(course_id\\t\\tvarchar(8), \\n\\t prereq_id\\t\\tvarchar(8),\\n\\t primary key (course_id, prereq_id),\\n\\t foreign key (course_id) references course (course_id)\\n\\t\\ton delete cascade,\\n\\t foreign key (prereq_id) references course (course_id)\\n\\t)'),\n",
       " ('index', 'sqlite_autoindex_prereq_1', 'prereq', 23, None)]"
      ]
     },
     "execution_count": 13,
     "metadata": {},
     "output_type": "execute_result"
    }
   ],
   "source": [
    "%%sql select *\n",
    "from sqlite_master;"
   ]
  },
  {
   "cell_type": "code",
   "execution_count": 14,
   "metadata": {},
   "outputs": [
    {
     "name": "stdout",
     "output_type": "stream",
     "text": [
      " * sqlite:///db_univ7_new.db\n",
      "Done.\n"
     ]
    },
    {
     "data": {
      "text/html": [
       "<table>\n",
       "    <tr>\n",
       "        <th>dept_name</th>\n",
       "    </tr>\n",
       "    <tr>\n",
       "        <td>Comp. Sci.</td>\n",
       "    </tr>\n",
       "    <tr>\n",
       "        <td>Finance</td>\n",
       "    </tr>\n",
       "    <tr>\n",
       "        <td>Music</td>\n",
       "    </tr>\n",
       "    <tr>\n",
       "        <td>Physics</td>\n",
       "    </tr>\n",
       "    <tr>\n",
       "        <td>History</td>\n",
       "    </tr>\n",
       "    <tr>\n",
       "        <td>Physics</td>\n",
       "    </tr>\n",
       "    <tr>\n",
       "        <td>Comp. Sci.</td>\n",
       "    </tr>\n",
       "    <tr>\n",
       "        <td>History</td>\n",
       "    </tr>\n",
       "    <tr>\n",
       "        <td>Finance</td>\n",
       "    </tr>\n",
       "    <tr>\n",
       "        <td>Biology</td>\n",
       "    </tr>\n",
       "    <tr>\n",
       "        <td>Comp. Sci.</td>\n",
       "    </tr>\n",
       "    <tr>\n",
       "        <td>Elec. Eng.</td>\n",
       "    </tr>\n",
       "</table>"
      ],
      "text/plain": [
       "[('Comp. Sci.',),\n",
       " ('Finance',),\n",
       " ('Music',),\n",
       " ('Physics',),\n",
       " ('History',),\n",
       " ('Physics',),\n",
       " ('Comp. Sci.',),\n",
       " ('History',),\n",
       " ('Finance',),\n",
       " ('Biology',),\n",
       " ('Comp. Sci.',),\n",
       " ('Elec. Eng.',)]"
      ]
     },
     "execution_count": 14,
     "metadata": {},
     "output_type": "execute_result"
    }
   ],
   "source": [
    "%%sql select dept_name\n",
    "from instructor"
   ]
  },
  {
   "cell_type": "markdown",
   "metadata": {},
   "source": [
    "- 1st: from\n",
    "- 2nd: select"
   ]
  },
  {
   "cell_type": "code",
   "execution_count": 15,
   "metadata": {},
   "outputs": [
    {
     "name": "stdout",
     "output_type": "stream",
     "text": [
      " * sqlite:///db_univ7_new.db\n",
      "Done.\n"
     ]
    },
    {
     "data": {
      "text/html": [
       "<table>\n",
       "    <tr>\n",
       "        <th>ID</th>\n",
       "        <th>name</th>\n",
       "        <th>dept_name</th>\n",
       "        <th>salary</th>\n",
       "        <th>ID_1</th>\n",
       "        <th>name_1</th>\n",
       "        <th>dept_name_1</th>\n",
       "        <th>salary_1</th>\n",
       "    </tr>\n",
       "    <tr>\n",
       "        <td>10101</td>\n",
       "        <td>Srinivasan</td>\n",
       "        <td>Comp. Sci.</td>\n",
       "        <td>65000</td>\n",
       "        <td>10101</td>\n",
       "        <td>Srinivasan</td>\n",
       "        <td>Comp. Sci.</td>\n",
       "        <td>65000</td>\n",
       "    </tr>\n",
       "    <tr>\n",
       "        <td>10101</td>\n",
       "        <td>Srinivasan</td>\n",
       "        <td>Comp. Sci.</td>\n",
       "        <td>65000</td>\n",
       "        <td>12121</td>\n",
       "        <td>Wu</td>\n",
       "        <td>Finance</td>\n",
       "        <td>90000</td>\n",
       "    </tr>\n",
       "    <tr>\n",
       "        <td>10101</td>\n",
       "        <td>Srinivasan</td>\n",
       "        <td>Comp. Sci.</td>\n",
       "        <td>65000</td>\n",
       "        <td>15151</td>\n",
       "        <td>Mozart</td>\n",
       "        <td>Music</td>\n",
       "        <td>40000</td>\n",
       "    </tr>\n",
       "    <tr>\n",
       "        <td>10101</td>\n",
       "        <td>Srinivasan</td>\n",
       "        <td>Comp. Sci.</td>\n",
       "        <td>65000</td>\n",
       "        <td>22222</td>\n",
       "        <td>Einstein</td>\n",
       "        <td>Physics</td>\n",
       "        <td>95000</td>\n",
       "    </tr>\n",
       "    <tr>\n",
       "        <td>10101</td>\n",
       "        <td>Srinivasan</td>\n",
       "        <td>Comp. Sci.</td>\n",
       "        <td>65000</td>\n",
       "        <td>32343</td>\n",
       "        <td>El Said</td>\n",
       "        <td>History</td>\n",
       "        <td>60000</td>\n",
       "    </tr>\n",
       "    <tr>\n",
       "        <td>10101</td>\n",
       "        <td>Srinivasan</td>\n",
       "        <td>Comp. Sci.</td>\n",
       "        <td>65000</td>\n",
       "        <td>33456</td>\n",
       "        <td>Gold</td>\n",
       "        <td>Physics</td>\n",
       "        <td>87000</td>\n",
       "    </tr>\n",
       "    <tr>\n",
       "        <td>10101</td>\n",
       "        <td>Srinivasan</td>\n",
       "        <td>Comp. Sci.</td>\n",
       "        <td>65000</td>\n",
       "        <td>45565</td>\n",
       "        <td>Katz</td>\n",
       "        <td>Comp. Sci.</td>\n",
       "        <td>75000</td>\n",
       "    </tr>\n",
       "    <tr>\n",
       "        <td>10101</td>\n",
       "        <td>Srinivasan</td>\n",
       "        <td>Comp. Sci.</td>\n",
       "        <td>65000</td>\n",
       "        <td>58583</td>\n",
       "        <td>Califieri</td>\n",
       "        <td>History</td>\n",
       "        <td>62000</td>\n",
       "    </tr>\n",
       "    <tr>\n",
       "        <td>10101</td>\n",
       "        <td>Srinivasan</td>\n",
       "        <td>Comp. Sci.</td>\n",
       "        <td>65000</td>\n",
       "        <td>76543</td>\n",
       "        <td>Singh</td>\n",
       "        <td>Finance</td>\n",
       "        <td>80000</td>\n",
       "    </tr>\n",
       "    <tr>\n",
       "        <td>10101</td>\n",
       "        <td>Srinivasan</td>\n",
       "        <td>Comp. Sci.</td>\n",
       "        <td>65000</td>\n",
       "        <td>76766</td>\n",
       "        <td>Crick</td>\n",
       "        <td>Biology</td>\n",
       "        <td>72000</td>\n",
       "    </tr>\n",
       "    <tr>\n",
       "        <td>10101</td>\n",
       "        <td>Srinivasan</td>\n",
       "        <td>Comp. Sci.</td>\n",
       "        <td>65000</td>\n",
       "        <td>83821</td>\n",
       "        <td>Brandt</td>\n",
       "        <td>Comp. Sci.</td>\n",
       "        <td>92000</td>\n",
       "    </tr>\n",
       "    <tr>\n",
       "        <td>10101</td>\n",
       "        <td>Srinivasan</td>\n",
       "        <td>Comp. Sci.</td>\n",
       "        <td>65000</td>\n",
       "        <td>98345</td>\n",
       "        <td>Kim</td>\n",
       "        <td>Elec. Eng.</td>\n",
       "        <td>80000</td>\n",
       "    </tr>\n",
       "    <tr>\n",
       "        <td>12121</td>\n",
       "        <td>Wu</td>\n",
       "        <td>Finance</td>\n",
       "        <td>90000</td>\n",
       "        <td>10101</td>\n",
       "        <td>Srinivasan</td>\n",
       "        <td>Comp. Sci.</td>\n",
       "        <td>65000</td>\n",
       "    </tr>\n",
       "    <tr>\n",
       "        <td>12121</td>\n",
       "        <td>Wu</td>\n",
       "        <td>Finance</td>\n",
       "        <td>90000</td>\n",
       "        <td>12121</td>\n",
       "        <td>Wu</td>\n",
       "        <td>Finance</td>\n",
       "        <td>90000</td>\n",
       "    </tr>\n",
       "    <tr>\n",
       "        <td>12121</td>\n",
       "        <td>Wu</td>\n",
       "        <td>Finance</td>\n",
       "        <td>90000</td>\n",
       "        <td>15151</td>\n",
       "        <td>Mozart</td>\n",
       "        <td>Music</td>\n",
       "        <td>40000</td>\n",
       "    </tr>\n",
       "    <tr>\n",
       "        <td>12121</td>\n",
       "        <td>Wu</td>\n",
       "        <td>Finance</td>\n",
       "        <td>90000</td>\n",
       "        <td>22222</td>\n",
       "        <td>Einstein</td>\n",
       "        <td>Physics</td>\n",
       "        <td>95000</td>\n",
       "    </tr>\n",
       "    <tr>\n",
       "        <td>12121</td>\n",
       "        <td>Wu</td>\n",
       "        <td>Finance</td>\n",
       "        <td>90000</td>\n",
       "        <td>32343</td>\n",
       "        <td>El Said</td>\n",
       "        <td>History</td>\n",
       "        <td>60000</td>\n",
       "    </tr>\n",
       "    <tr>\n",
       "        <td>12121</td>\n",
       "        <td>Wu</td>\n",
       "        <td>Finance</td>\n",
       "        <td>90000</td>\n",
       "        <td>33456</td>\n",
       "        <td>Gold</td>\n",
       "        <td>Physics</td>\n",
       "        <td>87000</td>\n",
       "    </tr>\n",
       "    <tr>\n",
       "        <td>12121</td>\n",
       "        <td>Wu</td>\n",
       "        <td>Finance</td>\n",
       "        <td>90000</td>\n",
       "        <td>45565</td>\n",
       "        <td>Katz</td>\n",
       "        <td>Comp. Sci.</td>\n",
       "        <td>75000</td>\n",
       "    </tr>\n",
       "    <tr>\n",
       "        <td>12121</td>\n",
       "        <td>Wu</td>\n",
       "        <td>Finance</td>\n",
       "        <td>90000</td>\n",
       "        <td>58583</td>\n",
       "        <td>Califieri</td>\n",
       "        <td>History</td>\n",
       "        <td>62000</td>\n",
       "    </tr>\n",
       "    <tr>\n",
       "        <td>12121</td>\n",
       "        <td>Wu</td>\n",
       "        <td>Finance</td>\n",
       "        <td>90000</td>\n",
       "        <td>76543</td>\n",
       "        <td>Singh</td>\n",
       "        <td>Finance</td>\n",
       "        <td>80000</td>\n",
       "    </tr>\n",
       "    <tr>\n",
       "        <td>12121</td>\n",
       "        <td>Wu</td>\n",
       "        <td>Finance</td>\n",
       "        <td>90000</td>\n",
       "        <td>76766</td>\n",
       "        <td>Crick</td>\n",
       "        <td>Biology</td>\n",
       "        <td>72000</td>\n",
       "    </tr>\n",
       "    <tr>\n",
       "        <td>12121</td>\n",
       "        <td>Wu</td>\n",
       "        <td>Finance</td>\n",
       "        <td>90000</td>\n",
       "        <td>83821</td>\n",
       "        <td>Brandt</td>\n",
       "        <td>Comp. Sci.</td>\n",
       "        <td>92000</td>\n",
       "    </tr>\n",
       "    <tr>\n",
       "        <td>12121</td>\n",
       "        <td>Wu</td>\n",
       "        <td>Finance</td>\n",
       "        <td>90000</td>\n",
       "        <td>98345</td>\n",
       "        <td>Kim</td>\n",
       "        <td>Elec. Eng.</td>\n",
       "        <td>80000</td>\n",
       "    </tr>\n",
       "    <tr>\n",
       "        <td>15151</td>\n",
       "        <td>Mozart</td>\n",
       "        <td>Music</td>\n",
       "        <td>40000</td>\n",
       "        <td>10101</td>\n",
       "        <td>Srinivasan</td>\n",
       "        <td>Comp. Sci.</td>\n",
       "        <td>65000</td>\n",
       "    </tr>\n",
       "    <tr>\n",
       "        <td>15151</td>\n",
       "        <td>Mozart</td>\n",
       "        <td>Music</td>\n",
       "        <td>40000</td>\n",
       "        <td>12121</td>\n",
       "        <td>Wu</td>\n",
       "        <td>Finance</td>\n",
       "        <td>90000</td>\n",
       "    </tr>\n",
       "    <tr>\n",
       "        <td>15151</td>\n",
       "        <td>Mozart</td>\n",
       "        <td>Music</td>\n",
       "        <td>40000</td>\n",
       "        <td>15151</td>\n",
       "        <td>Mozart</td>\n",
       "        <td>Music</td>\n",
       "        <td>40000</td>\n",
       "    </tr>\n",
       "    <tr>\n",
       "        <td>15151</td>\n",
       "        <td>Mozart</td>\n",
       "        <td>Music</td>\n",
       "        <td>40000</td>\n",
       "        <td>22222</td>\n",
       "        <td>Einstein</td>\n",
       "        <td>Physics</td>\n",
       "        <td>95000</td>\n",
       "    </tr>\n",
       "    <tr>\n",
       "        <td>15151</td>\n",
       "        <td>Mozart</td>\n",
       "        <td>Music</td>\n",
       "        <td>40000</td>\n",
       "        <td>32343</td>\n",
       "        <td>El Said</td>\n",
       "        <td>History</td>\n",
       "        <td>60000</td>\n",
       "    </tr>\n",
       "    <tr>\n",
       "        <td>15151</td>\n",
       "        <td>Mozart</td>\n",
       "        <td>Music</td>\n",
       "        <td>40000</td>\n",
       "        <td>33456</td>\n",
       "        <td>Gold</td>\n",
       "        <td>Physics</td>\n",
       "        <td>87000</td>\n",
       "    </tr>\n",
       "    <tr>\n",
       "        <td>15151</td>\n",
       "        <td>Mozart</td>\n",
       "        <td>Music</td>\n",
       "        <td>40000</td>\n",
       "        <td>45565</td>\n",
       "        <td>Katz</td>\n",
       "        <td>Comp. Sci.</td>\n",
       "        <td>75000</td>\n",
       "    </tr>\n",
       "    <tr>\n",
       "        <td>15151</td>\n",
       "        <td>Mozart</td>\n",
       "        <td>Music</td>\n",
       "        <td>40000</td>\n",
       "        <td>58583</td>\n",
       "        <td>Califieri</td>\n",
       "        <td>History</td>\n",
       "        <td>62000</td>\n",
       "    </tr>\n",
       "    <tr>\n",
       "        <td>15151</td>\n",
       "        <td>Mozart</td>\n",
       "        <td>Music</td>\n",
       "        <td>40000</td>\n",
       "        <td>76543</td>\n",
       "        <td>Singh</td>\n",
       "        <td>Finance</td>\n",
       "        <td>80000</td>\n",
       "    </tr>\n",
       "    <tr>\n",
       "        <td>15151</td>\n",
       "        <td>Mozart</td>\n",
       "        <td>Music</td>\n",
       "        <td>40000</td>\n",
       "        <td>76766</td>\n",
       "        <td>Crick</td>\n",
       "        <td>Biology</td>\n",
       "        <td>72000</td>\n",
       "    </tr>\n",
       "    <tr>\n",
       "        <td>15151</td>\n",
       "        <td>Mozart</td>\n",
       "        <td>Music</td>\n",
       "        <td>40000</td>\n",
       "        <td>83821</td>\n",
       "        <td>Brandt</td>\n",
       "        <td>Comp. Sci.</td>\n",
       "        <td>92000</td>\n",
       "    </tr>\n",
       "    <tr>\n",
       "        <td>15151</td>\n",
       "        <td>Mozart</td>\n",
       "        <td>Music</td>\n",
       "        <td>40000</td>\n",
       "        <td>98345</td>\n",
       "        <td>Kim</td>\n",
       "        <td>Elec. Eng.</td>\n",
       "        <td>80000</td>\n",
       "    </tr>\n",
       "    <tr>\n",
       "        <td>22222</td>\n",
       "        <td>Einstein</td>\n",
       "        <td>Physics</td>\n",
       "        <td>95000</td>\n",
       "        <td>10101</td>\n",
       "        <td>Srinivasan</td>\n",
       "        <td>Comp. Sci.</td>\n",
       "        <td>65000</td>\n",
       "    </tr>\n",
       "    <tr>\n",
       "        <td>22222</td>\n",
       "        <td>Einstein</td>\n",
       "        <td>Physics</td>\n",
       "        <td>95000</td>\n",
       "        <td>12121</td>\n",
       "        <td>Wu</td>\n",
       "        <td>Finance</td>\n",
       "        <td>90000</td>\n",
       "    </tr>\n",
       "    <tr>\n",
       "        <td>22222</td>\n",
       "        <td>Einstein</td>\n",
       "        <td>Physics</td>\n",
       "        <td>95000</td>\n",
       "        <td>15151</td>\n",
       "        <td>Mozart</td>\n",
       "        <td>Music</td>\n",
       "        <td>40000</td>\n",
       "    </tr>\n",
       "    <tr>\n",
       "        <td>22222</td>\n",
       "        <td>Einstein</td>\n",
       "        <td>Physics</td>\n",
       "        <td>95000</td>\n",
       "        <td>22222</td>\n",
       "        <td>Einstein</td>\n",
       "        <td>Physics</td>\n",
       "        <td>95000</td>\n",
       "    </tr>\n",
       "    <tr>\n",
       "        <td>22222</td>\n",
       "        <td>Einstein</td>\n",
       "        <td>Physics</td>\n",
       "        <td>95000</td>\n",
       "        <td>32343</td>\n",
       "        <td>El Said</td>\n",
       "        <td>History</td>\n",
       "        <td>60000</td>\n",
       "    </tr>\n",
       "    <tr>\n",
       "        <td>22222</td>\n",
       "        <td>Einstein</td>\n",
       "        <td>Physics</td>\n",
       "        <td>95000</td>\n",
       "        <td>33456</td>\n",
       "        <td>Gold</td>\n",
       "        <td>Physics</td>\n",
       "        <td>87000</td>\n",
       "    </tr>\n",
       "    <tr>\n",
       "        <td>22222</td>\n",
       "        <td>Einstein</td>\n",
       "        <td>Physics</td>\n",
       "        <td>95000</td>\n",
       "        <td>45565</td>\n",
       "        <td>Katz</td>\n",
       "        <td>Comp. Sci.</td>\n",
       "        <td>75000</td>\n",
       "    </tr>\n",
       "    <tr>\n",
       "        <td>22222</td>\n",
       "        <td>Einstein</td>\n",
       "        <td>Physics</td>\n",
       "        <td>95000</td>\n",
       "        <td>58583</td>\n",
       "        <td>Califieri</td>\n",
       "        <td>History</td>\n",
       "        <td>62000</td>\n",
       "    </tr>\n",
       "    <tr>\n",
       "        <td>22222</td>\n",
       "        <td>Einstein</td>\n",
       "        <td>Physics</td>\n",
       "        <td>95000</td>\n",
       "        <td>76543</td>\n",
       "        <td>Singh</td>\n",
       "        <td>Finance</td>\n",
       "        <td>80000</td>\n",
       "    </tr>\n",
       "    <tr>\n",
       "        <td>22222</td>\n",
       "        <td>Einstein</td>\n",
       "        <td>Physics</td>\n",
       "        <td>95000</td>\n",
       "        <td>76766</td>\n",
       "        <td>Crick</td>\n",
       "        <td>Biology</td>\n",
       "        <td>72000</td>\n",
       "    </tr>\n",
       "    <tr>\n",
       "        <td>22222</td>\n",
       "        <td>Einstein</td>\n",
       "        <td>Physics</td>\n",
       "        <td>95000</td>\n",
       "        <td>83821</td>\n",
       "        <td>Brandt</td>\n",
       "        <td>Comp. Sci.</td>\n",
       "        <td>92000</td>\n",
       "    </tr>\n",
       "    <tr>\n",
       "        <td>22222</td>\n",
       "        <td>Einstein</td>\n",
       "        <td>Physics</td>\n",
       "        <td>95000</td>\n",
       "        <td>98345</td>\n",
       "        <td>Kim</td>\n",
       "        <td>Elec. Eng.</td>\n",
       "        <td>80000</td>\n",
       "    </tr>\n",
       "    <tr>\n",
       "        <td>32343</td>\n",
       "        <td>El Said</td>\n",
       "        <td>History</td>\n",
       "        <td>60000</td>\n",
       "        <td>10101</td>\n",
       "        <td>Srinivasan</td>\n",
       "        <td>Comp. Sci.</td>\n",
       "        <td>65000</td>\n",
       "    </tr>\n",
       "    <tr>\n",
       "        <td>32343</td>\n",
       "        <td>El Said</td>\n",
       "        <td>History</td>\n",
       "        <td>60000</td>\n",
       "        <td>12121</td>\n",
       "        <td>Wu</td>\n",
       "        <td>Finance</td>\n",
       "        <td>90000</td>\n",
       "    </tr>\n",
       "    <tr>\n",
       "        <td>32343</td>\n",
       "        <td>El Said</td>\n",
       "        <td>History</td>\n",
       "        <td>60000</td>\n",
       "        <td>15151</td>\n",
       "        <td>Mozart</td>\n",
       "        <td>Music</td>\n",
       "        <td>40000</td>\n",
       "    </tr>\n",
       "    <tr>\n",
       "        <td>32343</td>\n",
       "        <td>El Said</td>\n",
       "        <td>History</td>\n",
       "        <td>60000</td>\n",
       "        <td>22222</td>\n",
       "        <td>Einstein</td>\n",
       "        <td>Physics</td>\n",
       "        <td>95000</td>\n",
       "    </tr>\n",
       "    <tr>\n",
       "        <td>32343</td>\n",
       "        <td>El Said</td>\n",
       "        <td>History</td>\n",
       "        <td>60000</td>\n",
       "        <td>32343</td>\n",
       "        <td>El Said</td>\n",
       "        <td>History</td>\n",
       "        <td>60000</td>\n",
       "    </tr>\n",
       "    <tr>\n",
       "        <td>32343</td>\n",
       "        <td>El Said</td>\n",
       "        <td>History</td>\n",
       "        <td>60000</td>\n",
       "        <td>33456</td>\n",
       "        <td>Gold</td>\n",
       "        <td>Physics</td>\n",
       "        <td>87000</td>\n",
       "    </tr>\n",
       "    <tr>\n",
       "        <td>32343</td>\n",
       "        <td>El Said</td>\n",
       "        <td>History</td>\n",
       "        <td>60000</td>\n",
       "        <td>45565</td>\n",
       "        <td>Katz</td>\n",
       "        <td>Comp. Sci.</td>\n",
       "        <td>75000</td>\n",
       "    </tr>\n",
       "    <tr>\n",
       "        <td>32343</td>\n",
       "        <td>El Said</td>\n",
       "        <td>History</td>\n",
       "        <td>60000</td>\n",
       "        <td>58583</td>\n",
       "        <td>Califieri</td>\n",
       "        <td>History</td>\n",
       "        <td>62000</td>\n",
       "    </tr>\n",
       "    <tr>\n",
       "        <td>32343</td>\n",
       "        <td>El Said</td>\n",
       "        <td>History</td>\n",
       "        <td>60000</td>\n",
       "        <td>76543</td>\n",
       "        <td>Singh</td>\n",
       "        <td>Finance</td>\n",
       "        <td>80000</td>\n",
       "    </tr>\n",
       "    <tr>\n",
       "        <td>32343</td>\n",
       "        <td>El Said</td>\n",
       "        <td>History</td>\n",
       "        <td>60000</td>\n",
       "        <td>76766</td>\n",
       "        <td>Crick</td>\n",
       "        <td>Biology</td>\n",
       "        <td>72000</td>\n",
       "    </tr>\n",
       "    <tr>\n",
       "        <td>32343</td>\n",
       "        <td>El Said</td>\n",
       "        <td>History</td>\n",
       "        <td>60000</td>\n",
       "        <td>83821</td>\n",
       "        <td>Brandt</td>\n",
       "        <td>Comp. Sci.</td>\n",
       "        <td>92000</td>\n",
       "    </tr>\n",
       "    <tr>\n",
       "        <td>32343</td>\n",
       "        <td>El Said</td>\n",
       "        <td>History</td>\n",
       "        <td>60000</td>\n",
       "        <td>98345</td>\n",
       "        <td>Kim</td>\n",
       "        <td>Elec. Eng.</td>\n",
       "        <td>80000</td>\n",
       "    </tr>\n",
       "    <tr>\n",
       "        <td>33456</td>\n",
       "        <td>Gold</td>\n",
       "        <td>Physics</td>\n",
       "        <td>87000</td>\n",
       "        <td>10101</td>\n",
       "        <td>Srinivasan</td>\n",
       "        <td>Comp. Sci.</td>\n",
       "        <td>65000</td>\n",
       "    </tr>\n",
       "    <tr>\n",
       "        <td>33456</td>\n",
       "        <td>Gold</td>\n",
       "        <td>Physics</td>\n",
       "        <td>87000</td>\n",
       "        <td>12121</td>\n",
       "        <td>Wu</td>\n",
       "        <td>Finance</td>\n",
       "        <td>90000</td>\n",
       "    </tr>\n",
       "    <tr>\n",
       "        <td>33456</td>\n",
       "        <td>Gold</td>\n",
       "        <td>Physics</td>\n",
       "        <td>87000</td>\n",
       "        <td>15151</td>\n",
       "        <td>Mozart</td>\n",
       "        <td>Music</td>\n",
       "        <td>40000</td>\n",
       "    </tr>\n",
       "    <tr>\n",
       "        <td>33456</td>\n",
       "        <td>Gold</td>\n",
       "        <td>Physics</td>\n",
       "        <td>87000</td>\n",
       "        <td>22222</td>\n",
       "        <td>Einstein</td>\n",
       "        <td>Physics</td>\n",
       "        <td>95000</td>\n",
       "    </tr>\n",
       "    <tr>\n",
       "        <td>33456</td>\n",
       "        <td>Gold</td>\n",
       "        <td>Physics</td>\n",
       "        <td>87000</td>\n",
       "        <td>32343</td>\n",
       "        <td>El Said</td>\n",
       "        <td>History</td>\n",
       "        <td>60000</td>\n",
       "    </tr>\n",
       "    <tr>\n",
       "        <td>33456</td>\n",
       "        <td>Gold</td>\n",
       "        <td>Physics</td>\n",
       "        <td>87000</td>\n",
       "        <td>33456</td>\n",
       "        <td>Gold</td>\n",
       "        <td>Physics</td>\n",
       "        <td>87000</td>\n",
       "    </tr>\n",
       "    <tr>\n",
       "        <td>33456</td>\n",
       "        <td>Gold</td>\n",
       "        <td>Physics</td>\n",
       "        <td>87000</td>\n",
       "        <td>45565</td>\n",
       "        <td>Katz</td>\n",
       "        <td>Comp. Sci.</td>\n",
       "        <td>75000</td>\n",
       "    </tr>\n",
       "    <tr>\n",
       "        <td>33456</td>\n",
       "        <td>Gold</td>\n",
       "        <td>Physics</td>\n",
       "        <td>87000</td>\n",
       "        <td>58583</td>\n",
       "        <td>Califieri</td>\n",
       "        <td>History</td>\n",
       "        <td>62000</td>\n",
       "    </tr>\n",
       "    <tr>\n",
       "        <td>33456</td>\n",
       "        <td>Gold</td>\n",
       "        <td>Physics</td>\n",
       "        <td>87000</td>\n",
       "        <td>76543</td>\n",
       "        <td>Singh</td>\n",
       "        <td>Finance</td>\n",
       "        <td>80000</td>\n",
       "    </tr>\n",
       "    <tr>\n",
       "        <td>33456</td>\n",
       "        <td>Gold</td>\n",
       "        <td>Physics</td>\n",
       "        <td>87000</td>\n",
       "        <td>76766</td>\n",
       "        <td>Crick</td>\n",
       "        <td>Biology</td>\n",
       "        <td>72000</td>\n",
       "    </tr>\n",
       "    <tr>\n",
       "        <td>33456</td>\n",
       "        <td>Gold</td>\n",
       "        <td>Physics</td>\n",
       "        <td>87000</td>\n",
       "        <td>83821</td>\n",
       "        <td>Brandt</td>\n",
       "        <td>Comp. Sci.</td>\n",
       "        <td>92000</td>\n",
       "    </tr>\n",
       "    <tr>\n",
       "        <td>33456</td>\n",
       "        <td>Gold</td>\n",
       "        <td>Physics</td>\n",
       "        <td>87000</td>\n",
       "        <td>98345</td>\n",
       "        <td>Kim</td>\n",
       "        <td>Elec. Eng.</td>\n",
       "        <td>80000</td>\n",
       "    </tr>\n",
       "    <tr>\n",
       "        <td>45565</td>\n",
       "        <td>Katz</td>\n",
       "        <td>Comp. Sci.</td>\n",
       "        <td>75000</td>\n",
       "        <td>10101</td>\n",
       "        <td>Srinivasan</td>\n",
       "        <td>Comp. Sci.</td>\n",
       "        <td>65000</td>\n",
       "    </tr>\n",
       "    <tr>\n",
       "        <td>45565</td>\n",
       "        <td>Katz</td>\n",
       "        <td>Comp. Sci.</td>\n",
       "        <td>75000</td>\n",
       "        <td>12121</td>\n",
       "        <td>Wu</td>\n",
       "        <td>Finance</td>\n",
       "        <td>90000</td>\n",
       "    </tr>\n",
       "    <tr>\n",
       "        <td>45565</td>\n",
       "        <td>Katz</td>\n",
       "        <td>Comp. Sci.</td>\n",
       "        <td>75000</td>\n",
       "        <td>15151</td>\n",
       "        <td>Mozart</td>\n",
       "        <td>Music</td>\n",
       "        <td>40000</td>\n",
       "    </tr>\n",
       "    <tr>\n",
       "        <td>45565</td>\n",
       "        <td>Katz</td>\n",
       "        <td>Comp. Sci.</td>\n",
       "        <td>75000</td>\n",
       "        <td>22222</td>\n",
       "        <td>Einstein</td>\n",
       "        <td>Physics</td>\n",
       "        <td>95000</td>\n",
       "    </tr>\n",
       "    <tr>\n",
       "        <td>45565</td>\n",
       "        <td>Katz</td>\n",
       "        <td>Comp. Sci.</td>\n",
       "        <td>75000</td>\n",
       "        <td>32343</td>\n",
       "        <td>El Said</td>\n",
       "        <td>History</td>\n",
       "        <td>60000</td>\n",
       "    </tr>\n",
       "    <tr>\n",
       "        <td>45565</td>\n",
       "        <td>Katz</td>\n",
       "        <td>Comp. Sci.</td>\n",
       "        <td>75000</td>\n",
       "        <td>33456</td>\n",
       "        <td>Gold</td>\n",
       "        <td>Physics</td>\n",
       "        <td>87000</td>\n",
       "    </tr>\n",
       "    <tr>\n",
       "        <td>45565</td>\n",
       "        <td>Katz</td>\n",
       "        <td>Comp. Sci.</td>\n",
       "        <td>75000</td>\n",
       "        <td>45565</td>\n",
       "        <td>Katz</td>\n",
       "        <td>Comp. Sci.</td>\n",
       "        <td>75000</td>\n",
       "    </tr>\n",
       "    <tr>\n",
       "        <td>45565</td>\n",
       "        <td>Katz</td>\n",
       "        <td>Comp. Sci.</td>\n",
       "        <td>75000</td>\n",
       "        <td>58583</td>\n",
       "        <td>Califieri</td>\n",
       "        <td>History</td>\n",
       "        <td>62000</td>\n",
       "    </tr>\n",
       "    <tr>\n",
       "        <td>45565</td>\n",
       "        <td>Katz</td>\n",
       "        <td>Comp. Sci.</td>\n",
       "        <td>75000</td>\n",
       "        <td>76543</td>\n",
       "        <td>Singh</td>\n",
       "        <td>Finance</td>\n",
       "        <td>80000</td>\n",
       "    </tr>\n",
       "    <tr>\n",
       "        <td>45565</td>\n",
       "        <td>Katz</td>\n",
       "        <td>Comp. Sci.</td>\n",
       "        <td>75000</td>\n",
       "        <td>76766</td>\n",
       "        <td>Crick</td>\n",
       "        <td>Biology</td>\n",
       "        <td>72000</td>\n",
       "    </tr>\n",
       "    <tr>\n",
       "        <td>45565</td>\n",
       "        <td>Katz</td>\n",
       "        <td>Comp. Sci.</td>\n",
       "        <td>75000</td>\n",
       "        <td>83821</td>\n",
       "        <td>Brandt</td>\n",
       "        <td>Comp. Sci.</td>\n",
       "        <td>92000</td>\n",
       "    </tr>\n",
       "    <tr>\n",
       "        <td>45565</td>\n",
       "        <td>Katz</td>\n",
       "        <td>Comp. Sci.</td>\n",
       "        <td>75000</td>\n",
       "        <td>98345</td>\n",
       "        <td>Kim</td>\n",
       "        <td>Elec. Eng.</td>\n",
       "        <td>80000</td>\n",
       "    </tr>\n",
       "    <tr>\n",
       "        <td>58583</td>\n",
       "        <td>Califieri</td>\n",
       "        <td>History</td>\n",
       "        <td>62000</td>\n",
       "        <td>10101</td>\n",
       "        <td>Srinivasan</td>\n",
       "        <td>Comp. Sci.</td>\n",
       "        <td>65000</td>\n",
       "    </tr>\n",
       "    <tr>\n",
       "        <td>58583</td>\n",
       "        <td>Califieri</td>\n",
       "        <td>History</td>\n",
       "        <td>62000</td>\n",
       "        <td>12121</td>\n",
       "        <td>Wu</td>\n",
       "        <td>Finance</td>\n",
       "        <td>90000</td>\n",
       "    </tr>\n",
       "    <tr>\n",
       "        <td>58583</td>\n",
       "        <td>Califieri</td>\n",
       "        <td>History</td>\n",
       "        <td>62000</td>\n",
       "        <td>15151</td>\n",
       "        <td>Mozart</td>\n",
       "        <td>Music</td>\n",
       "        <td>40000</td>\n",
       "    </tr>\n",
       "    <tr>\n",
       "        <td>58583</td>\n",
       "        <td>Califieri</td>\n",
       "        <td>History</td>\n",
       "        <td>62000</td>\n",
       "        <td>22222</td>\n",
       "        <td>Einstein</td>\n",
       "        <td>Physics</td>\n",
       "        <td>95000</td>\n",
       "    </tr>\n",
       "    <tr>\n",
       "        <td>58583</td>\n",
       "        <td>Califieri</td>\n",
       "        <td>History</td>\n",
       "        <td>62000</td>\n",
       "        <td>32343</td>\n",
       "        <td>El Said</td>\n",
       "        <td>History</td>\n",
       "        <td>60000</td>\n",
       "    </tr>\n",
       "    <tr>\n",
       "        <td>58583</td>\n",
       "        <td>Califieri</td>\n",
       "        <td>History</td>\n",
       "        <td>62000</td>\n",
       "        <td>33456</td>\n",
       "        <td>Gold</td>\n",
       "        <td>Physics</td>\n",
       "        <td>87000</td>\n",
       "    </tr>\n",
       "    <tr>\n",
       "        <td>58583</td>\n",
       "        <td>Califieri</td>\n",
       "        <td>History</td>\n",
       "        <td>62000</td>\n",
       "        <td>45565</td>\n",
       "        <td>Katz</td>\n",
       "        <td>Comp. Sci.</td>\n",
       "        <td>75000</td>\n",
       "    </tr>\n",
       "    <tr>\n",
       "        <td>58583</td>\n",
       "        <td>Califieri</td>\n",
       "        <td>History</td>\n",
       "        <td>62000</td>\n",
       "        <td>58583</td>\n",
       "        <td>Califieri</td>\n",
       "        <td>History</td>\n",
       "        <td>62000</td>\n",
       "    </tr>\n",
       "    <tr>\n",
       "        <td>58583</td>\n",
       "        <td>Califieri</td>\n",
       "        <td>History</td>\n",
       "        <td>62000</td>\n",
       "        <td>76543</td>\n",
       "        <td>Singh</td>\n",
       "        <td>Finance</td>\n",
       "        <td>80000</td>\n",
       "    </tr>\n",
       "    <tr>\n",
       "        <td>58583</td>\n",
       "        <td>Califieri</td>\n",
       "        <td>History</td>\n",
       "        <td>62000</td>\n",
       "        <td>76766</td>\n",
       "        <td>Crick</td>\n",
       "        <td>Biology</td>\n",
       "        <td>72000</td>\n",
       "    </tr>\n",
       "    <tr>\n",
       "        <td>58583</td>\n",
       "        <td>Califieri</td>\n",
       "        <td>History</td>\n",
       "        <td>62000</td>\n",
       "        <td>83821</td>\n",
       "        <td>Brandt</td>\n",
       "        <td>Comp. Sci.</td>\n",
       "        <td>92000</td>\n",
       "    </tr>\n",
       "    <tr>\n",
       "        <td>58583</td>\n",
       "        <td>Califieri</td>\n",
       "        <td>History</td>\n",
       "        <td>62000</td>\n",
       "        <td>98345</td>\n",
       "        <td>Kim</td>\n",
       "        <td>Elec. Eng.</td>\n",
       "        <td>80000</td>\n",
       "    </tr>\n",
       "    <tr>\n",
       "        <td>76543</td>\n",
       "        <td>Singh</td>\n",
       "        <td>Finance</td>\n",
       "        <td>80000</td>\n",
       "        <td>10101</td>\n",
       "        <td>Srinivasan</td>\n",
       "        <td>Comp. Sci.</td>\n",
       "        <td>65000</td>\n",
       "    </tr>\n",
       "    <tr>\n",
       "        <td>76543</td>\n",
       "        <td>Singh</td>\n",
       "        <td>Finance</td>\n",
       "        <td>80000</td>\n",
       "        <td>12121</td>\n",
       "        <td>Wu</td>\n",
       "        <td>Finance</td>\n",
       "        <td>90000</td>\n",
       "    </tr>\n",
       "    <tr>\n",
       "        <td>76543</td>\n",
       "        <td>Singh</td>\n",
       "        <td>Finance</td>\n",
       "        <td>80000</td>\n",
       "        <td>15151</td>\n",
       "        <td>Mozart</td>\n",
       "        <td>Music</td>\n",
       "        <td>40000</td>\n",
       "    </tr>\n",
       "    <tr>\n",
       "        <td>76543</td>\n",
       "        <td>Singh</td>\n",
       "        <td>Finance</td>\n",
       "        <td>80000</td>\n",
       "        <td>22222</td>\n",
       "        <td>Einstein</td>\n",
       "        <td>Physics</td>\n",
       "        <td>95000</td>\n",
       "    </tr>\n",
       "    <tr>\n",
       "        <td>76543</td>\n",
       "        <td>Singh</td>\n",
       "        <td>Finance</td>\n",
       "        <td>80000</td>\n",
       "        <td>32343</td>\n",
       "        <td>El Said</td>\n",
       "        <td>History</td>\n",
       "        <td>60000</td>\n",
       "    </tr>\n",
       "    <tr>\n",
       "        <td>76543</td>\n",
       "        <td>Singh</td>\n",
       "        <td>Finance</td>\n",
       "        <td>80000</td>\n",
       "        <td>33456</td>\n",
       "        <td>Gold</td>\n",
       "        <td>Physics</td>\n",
       "        <td>87000</td>\n",
       "    </tr>\n",
       "    <tr>\n",
       "        <td>76543</td>\n",
       "        <td>Singh</td>\n",
       "        <td>Finance</td>\n",
       "        <td>80000</td>\n",
       "        <td>45565</td>\n",
       "        <td>Katz</td>\n",
       "        <td>Comp. Sci.</td>\n",
       "        <td>75000</td>\n",
       "    </tr>\n",
       "    <tr>\n",
       "        <td>76543</td>\n",
       "        <td>Singh</td>\n",
       "        <td>Finance</td>\n",
       "        <td>80000</td>\n",
       "        <td>58583</td>\n",
       "        <td>Califieri</td>\n",
       "        <td>History</td>\n",
       "        <td>62000</td>\n",
       "    </tr>\n",
       "    <tr>\n",
       "        <td>76543</td>\n",
       "        <td>Singh</td>\n",
       "        <td>Finance</td>\n",
       "        <td>80000</td>\n",
       "        <td>76543</td>\n",
       "        <td>Singh</td>\n",
       "        <td>Finance</td>\n",
       "        <td>80000</td>\n",
       "    </tr>\n",
       "    <tr>\n",
       "        <td>76543</td>\n",
       "        <td>Singh</td>\n",
       "        <td>Finance</td>\n",
       "        <td>80000</td>\n",
       "        <td>76766</td>\n",
       "        <td>Crick</td>\n",
       "        <td>Biology</td>\n",
       "        <td>72000</td>\n",
       "    </tr>\n",
       "    <tr>\n",
       "        <td>76543</td>\n",
       "        <td>Singh</td>\n",
       "        <td>Finance</td>\n",
       "        <td>80000</td>\n",
       "        <td>83821</td>\n",
       "        <td>Brandt</td>\n",
       "        <td>Comp. Sci.</td>\n",
       "        <td>92000</td>\n",
       "    </tr>\n",
       "    <tr>\n",
       "        <td>76543</td>\n",
       "        <td>Singh</td>\n",
       "        <td>Finance</td>\n",
       "        <td>80000</td>\n",
       "        <td>98345</td>\n",
       "        <td>Kim</td>\n",
       "        <td>Elec. Eng.</td>\n",
       "        <td>80000</td>\n",
       "    </tr>\n",
       "    <tr>\n",
       "        <td>76766</td>\n",
       "        <td>Crick</td>\n",
       "        <td>Biology</td>\n",
       "        <td>72000</td>\n",
       "        <td>10101</td>\n",
       "        <td>Srinivasan</td>\n",
       "        <td>Comp. Sci.</td>\n",
       "        <td>65000</td>\n",
       "    </tr>\n",
       "    <tr>\n",
       "        <td>76766</td>\n",
       "        <td>Crick</td>\n",
       "        <td>Biology</td>\n",
       "        <td>72000</td>\n",
       "        <td>12121</td>\n",
       "        <td>Wu</td>\n",
       "        <td>Finance</td>\n",
       "        <td>90000</td>\n",
       "    </tr>\n",
       "    <tr>\n",
       "        <td>76766</td>\n",
       "        <td>Crick</td>\n",
       "        <td>Biology</td>\n",
       "        <td>72000</td>\n",
       "        <td>15151</td>\n",
       "        <td>Mozart</td>\n",
       "        <td>Music</td>\n",
       "        <td>40000</td>\n",
       "    </tr>\n",
       "    <tr>\n",
       "        <td>76766</td>\n",
       "        <td>Crick</td>\n",
       "        <td>Biology</td>\n",
       "        <td>72000</td>\n",
       "        <td>22222</td>\n",
       "        <td>Einstein</td>\n",
       "        <td>Physics</td>\n",
       "        <td>95000</td>\n",
       "    </tr>\n",
       "    <tr>\n",
       "        <td>76766</td>\n",
       "        <td>Crick</td>\n",
       "        <td>Biology</td>\n",
       "        <td>72000</td>\n",
       "        <td>32343</td>\n",
       "        <td>El Said</td>\n",
       "        <td>History</td>\n",
       "        <td>60000</td>\n",
       "    </tr>\n",
       "    <tr>\n",
       "        <td>76766</td>\n",
       "        <td>Crick</td>\n",
       "        <td>Biology</td>\n",
       "        <td>72000</td>\n",
       "        <td>33456</td>\n",
       "        <td>Gold</td>\n",
       "        <td>Physics</td>\n",
       "        <td>87000</td>\n",
       "    </tr>\n",
       "    <tr>\n",
       "        <td>76766</td>\n",
       "        <td>Crick</td>\n",
       "        <td>Biology</td>\n",
       "        <td>72000</td>\n",
       "        <td>45565</td>\n",
       "        <td>Katz</td>\n",
       "        <td>Comp. Sci.</td>\n",
       "        <td>75000</td>\n",
       "    </tr>\n",
       "    <tr>\n",
       "        <td>76766</td>\n",
       "        <td>Crick</td>\n",
       "        <td>Biology</td>\n",
       "        <td>72000</td>\n",
       "        <td>58583</td>\n",
       "        <td>Califieri</td>\n",
       "        <td>History</td>\n",
       "        <td>62000</td>\n",
       "    </tr>\n",
       "    <tr>\n",
       "        <td>76766</td>\n",
       "        <td>Crick</td>\n",
       "        <td>Biology</td>\n",
       "        <td>72000</td>\n",
       "        <td>76543</td>\n",
       "        <td>Singh</td>\n",
       "        <td>Finance</td>\n",
       "        <td>80000</td>\n",
       "    </tr>\n",
       "    <tr>\n",
       "        <td>76766</td>\n",
       "        <td>Crick</td>\n",
       "        <td>Biology</td>\n",
       "        <td>72000</td>\n",
       "        <td>76766</td>\n",
       "        <td>Crick</td>\n",
       "        <td>Biology</td>\n",
       "        <td>72000</td>\n",
       "    </tr>\n",
       "    <tr>\n",
       "        <td>76766</td>\n",
       "        <td>Crick</td>\n",
       "        <td>Biology</td>\n",
       "        <td>72000</td>\n",
       "        <td>83821</td>\n",
       "        <td>Brandt</td>\n",
       "        <td>Comp. Sci.</td>\n",
       "        <td>92000</td>\n",
       "    </tr>\n",
       "    <tr>\n",
       "        <td>76766</td>\n",
       "        <td>Crick</td>\n",
       "        <td>Biology</td>\n",
       "        <td>72000</td>\n",
       "        <td>98345</td>\n",
       "        <td>Kim</td>\n",
       "        <td>Elec. Eng.</td>\n",
       "        <td>80000</td>\n",
       "    </tr>\n",
       "    <tr>\n",
       "        <td>83821</td>\n",
       "        <td>Brandt</td>\n",
       "        <td>Comp. Sci.</td>\n",
       "        <td>92000</td>\n",
       "        <td>10101</td>\n",
       "        <td>Srinivasan</td>\n",
       "        <td>Comp. Sci.</td>\n",
       "        <td>65000</td>\n",
       "    </tr>\n",
       "    <tr>\n",
       "        <td>83821</td>\n",
       "        <td>Brandt</td>\n",
       "        <td>Comp. Sci.</td>\n",
       "        <td>92000</td>\n",
       "        <td>12121</td>\n",
       "        <td>Wu</td>\n",
       "        <td>Finance</td>\n",
       "        <td>90000</td>\n",
       "    </tr>\n",
       "    <tr>\n",
       "        <td>83821</td>\n",
       "        <td>Brandt</td>\n",
       "        <td>Comp. Sci.</td>\n",
       "        <td>92000</td>\n",
       "        <td>15151</td>\n",
       "        <td>Mozart</td>\n",
       "        <td>Music</td>\n",
       "        <td>40000</td>\n",
       "    </tr>\n",
       "    <tr>\n",
       "        <td>83821</td>\n",
       "        <td>Brandt</td>\n",
       "        <td>Comp. Sci.</td>\n",
       "        <td>92000</td>\n",
       "        <td>22222</td>\n",
       "        <td>Einstein</td>\n",
       "        <td>Physics</td>\n",
       "        <td>95000</td>\n",
       "    </tr>\n",
       "    <tr>\n",
       "        <td>83821</td>\n",
       "        <td>Brandt</td>\n",
       "        <td>Comp. Sci.</td>\n",
       "        <td>92000</td>\n",
       "        <td>32343</td>\n",
       "        <td>El Said</td>\n",
       "        <td>History</td>\n",
       "        <td>60000</td>\n",
       "    </tr>\n",
       "    <tr>\n",
       "        <td>83821</td>\n",
       "        <td>Brandt</td>\n",
       "        <td>Comp. Sci.</td>\n",
       "        <td>92000</td>\n",
       "        <td>33456</td>\n",
       "        <td>Gold</td>\n",
       "        <td>Physics</td>\n",
       "        <td>87000</td>\n",
       "    </tr>\n",
       "    <tr>\n",
       "        <td>83821</td>\n",
       "        <td>Brandt</td>\n",
       "        <td>Comp. Sci.</td>\n",
       "        <td>92000</td>\n",
       "        <td>45565</td>\n",
       "        <td>Katz</td>\n",
       "        <td>Comp. Sci.</td>\n",
       "        <td>75000</td>\n",
       "    </tr>\n",
       "    <tr>\n",
       "        <td>83821</td>\n",
       "        <td>Brandt</td>\n",
       "        <td>Comp. Sci.</td>\n",
       "        <td>92000</td>\n",
       "        <td>58583</td>\n",
       "        <td>Califieri</td>\n",
       "        <td>History</td>\n",
       "        <td>62000</td>\n",
       "    </tr>\n",
       "    <tr>\n",
       "        <td>83821</td>\n",
       "        <td>Brandt</td>\n",
       "        <td>Comp. Sci.</td>\n",
       "        <td>92000</td>\n",
       "        <td>76543</td>\n",
       "        <td>Singh</td>\n",
       "        <td>Finance</td>\n",
       "        <td>80000</td>\n",
       "    </tr>\n",
       "    <tr>\n",
       "        <td>83821</td>\n",
       "        <td>Brandt</td>\n",
       "        <td>Comp. Sci.</td>\n",
       "        <td>92000</td>\n",
       "        <td>76766</td>\n",
       "        <td>Crick</td>\n",
       "        <td>Biology</td>\n",
       "        <td>72000</td>\n",
       "    </tr>\n",
       "    <tr>\n",
       "        <td>83821</td>\n",
       "        <td>Brandt</td>\n",
       "        <td>Comp. Sci.</td>\n",
       "        <td>92000</td>\n",
       "        <td>83821</td>\n",
       "        <td>Brandt</td>\n",
       "        <td>Comp. Sci.</td>\n",
       "        <td>92000</td>\n",
       "    </tr>\n",
       "    <tr>\n",
       "        <td>83821</td>\n",
       "        <td>Brandt</td>\n",
       "        <td>Comp. Sci.</td>\n",
       "        <td>92000</td>\n",
       "        <td>98345</td>\n",
       "        <td>Kim</td>\n",
       "        <td>Elec. Eng.</td>\n",
       "        <td>80000</td>\n",
       "    </tr>\n",
       "    <tr>\n",
       "        <td>98345</td>\n",
       "        <td>Kim</td>\n",
       "        <td>Elec. Eng.</td>\n",
       "        <td>80000</td>\n",
       "        <td>10101</td>\n",
       "        <td>Srinivasan</td>\n",
       "        <td>Comp. Sci.</td>\n",
       "        <td>65000</td>\n",
       "    </tr>\n",
       "    <tr>\n",
       "        <td>98345</td>\n",
       "        <td>Kim</td>\n",
       "        <td>Elec. Eng.</td>\n",
       "        <td>80000</td>\n",
       "        <td>12121</td>\n",
       "        <td>Wu</td>\n",
       "        <td>Finance</td>\n",
       "        <td>90000</td>\n",
       "    </tr>\n",
       "    <tr>\n",
       "        <td>98345</td>\n",
       "        <td>Kim</td>\n",
       "        <td>Elec. Eng.</td>\n",
       "        <td>80000</td>\n",
       "        <td>15151</td>\n",
       "        <td>Mozart</td>\n",
       "        <td>Music</td>\n",
       "        <td>40000</td>\n",
       "    </tr>\n",
       "    <tr>\n",
       "        <td>98345</td>\n",
       "        <td>Kim</td>\n",
       "        <td>Elec. Eng.</td>\n",
       "        <td>80000</td>\n",
       "        <td>22222</td>\n",
       "        <td>Einstein</td>\n",
       "        <td>Physics</td>\n",
       "        <td>95000</td>\n",
       "    </tr>\n",
       "    <tr>\n",
       "        <td>98345</td>\n",
       "        <td>Kim</td>\n",
       "        <td>Elec. Eng.</td>\n",
       "        <td>80000</td>\n",
       "        <td>32343</td>\n",
       "        <td>El Said</td>\n",
       "        <td>History</td>\n",
       "        <td>60000</td>\n",
       "    </tr>\n",
       "    <tr>\n",
       "        <td>98345</td>\n",
       "        <td>Kim</td>\n",
       "        <td>Elec. Eng.</td>\n",
       "        <td>80000</td>\n",
       "        <td>33456</td>\n",
       "        <td>Gold</td>\n",
       "        <td>Physics</td>\n",
       "        <td>87000</td>\n",
       "    </tr>\n",
       "    <tr>\n",
       "        <td>98345</td>\n",
       "        <td>Kim</td>\n",
       "        <td>Elec. Eng.</td>\n",
       "        <td>80000</td>\n",
       "        <td>45565</td>\n",
       "        <td>Katz</td>\n",
       "        <td>Comp. Sci.</td>\n",
       "        <td>75000</td>\n",
       "    </tr>\n",
       "    <tr>\n",
       "        <td>98345</td>\n",
       "        <td>Kim</td>\n",
       "        <td>Elec. Eng.</td>\n",
       "        <td>80000</td>\n",
       "        <td>58583</td>\n",
       "        <td>Califieri</td>\n",
       "        <td>History</td>\n",
       "        <td>62000</td>\n",
       "    </tr>\n",
       "    <tr>\n",
       "        <td>98345</td>\n",
       "        <td>Kim</td>\n",
       "        <td>Elec. Eng.</td>\n",
       "        <td>80000</td>\n",
       "        <td>76543</td>\n",
       "        <td>Singh</td>\n",
       "        <td>Finance</td>\n",
       "        <td>80000</td>\n",
       "    </tr>\n",
       "    <tr>\n",
       "        <td>98345</td>\n",
       "        <td>Kim</td>\n",
       "        <td>Elec. Eng.</td>\n",
       "        <td>80000</td>\n",
       "        <td>76766</td>\n",
       "        <td>Crick</td>\n",
       "        <td>Biology</td>\n",
       "        <td>72000</td>\n",
       "    </tr>\n",
       "    <tr>\n",
       "        <td>98345</td>\n",
       "        <td>Kim</td>\n",
       "        <td>Elec. Eng.</td>\n",
       "        <td>80000</td>\n",
       "        <td>83821</td>\n",
       "        <td>Brandt</td>\n",
       "        <td>Comp. Sci.</td>\n",
       "        <td>92000</td>\n",
       "    </tr>\n",
       "    <tr>\n",
       "        <td>98345</td>\n",
       "        <td>Kim</td>\n",
       "        <td>Elec. Eng.</td>\n",
       "        <td>80000</td>\n",
       "        <td>98345</td>\n",
       "        <td>Kim</td>\n",
       "        <td>Elec. Eng.</td>\n",
       "        <td>80000</td>\n",
       "    </tr>\n",
       "</table>"
      ],
      "text/plain": [
       "[('10101', 'Srinivasan', 'Comp. Sci.', 65000, '10101', 'Srinivasan', 'Comp. Sci.', 65000),\n",
       " ('10101', 'Srinivasan', 'Comp. Sci.', 65000, '12121', 'Wu', 'Finance', 90000),\n",
       " ('10101', 'Srinivasan', 'Comp. Sci.', 65000, '15151', 'Mozart', 'Music', 40000),\n",
       " ('10101', 'Srinivasan', 'Comp. Sci.', 65000, '22222', 'Einstein', 'Physics', 95000),\n",
       " ('10101', 'Srinivasan', 'Comp. Sci.', 65000, '32343', 'El Said', 'History', 60000),\n",
       " ('10101', 'Srinivasan', 'Comp. Sci.', 65000, '33456', 'Gold', 'Physics', 87000),\n",
       " ('10101', 'Srinivasan', 'Comp. Sci.', 65000, '45565', 'Katz', 'Comp. Sci.', 75000),\n",
       " ('10101', 'Srinivasan', 'Comp. Sci.', 65000, '58583', 'Califieri', 'History', 62000),\n",
       " ('10101', 'Srinivasan', 'Comp. Sci.', 65000, '76543', 'Singh', 'Finance', 80000),\n",
       " ('10101', 'Srinivasan', 'Comp. Sci.', 65000, '76766', 'Crick', 'Biology', 72000),\n",
       " ('10101', 'Srinivasan', 'Comp. Sci.', 65000, '83821', 'Brandt', 'Comp. Sci.', 92000),\n",
       " ('10101', 'Srinivasan', 'Comp. Sci.', 65000, '98345', 'Kim', 'Elec. Eng.', 80000),\n",
       " ('12121', 'Wu', 'Finance', 90000, '10101', 'Srinivasan', 'Comp. Sci.', 65000),\n",
       " ('12121', 'Wu', 'Finance', 90000, '12121', 'Wu', 'Finance', 90000),\n",
       " ('12121', 'Wu', 'Finance', 90000, '15151', 'Mozart', 'Music', 40000),\n",
       " ('12121', 'Wu', 'Finance', 90000, '22222', 'Einstein', 'Physics', 95000),\n",
       " ('12121', 'Wu', 'Finance', 90000, '32343', 'El Said', 'History', 60000),\n",
       " ('12121', 'Wu', 'Finance', 90000, '33456', 'Gold', 'Physics', 87000),\n",
       " ('12121', 'Wu', 'Finance', 90000, '45565', 'Katz', 'Comp. Sci.', 75000),\n",
       " ('12121', 'Wu', 'Finance', 90000, '58583', 'Califieri', 'History', 62000),\n",
       " ('12121', 'Wu', 'Finance', 90000, '76543', 'Singh', 'Finance', 80000),\n",
       " ('12121', 'Wu', 'Finance', 90000, '76766', 'Crick', 'Biology', 72000),\n",
       " ('12121', 'Wu', 'Finance', 90000, '83821', 'Brandt', 'Comp. Sci.', 92000),\n",
       " ('12121', 'Wu', 'Finance', 90000, '98345', 'Kim', 'Elec. Eng.', 80000),\n",
       " ('15151', 'Mozart', 'Music', 40000, '10101', 'Srinivasan', 'Comp. Sci.', 65000),\n",
       " ('15151', 'Mozart', 'Music', 40000, '12121', 'Wu', 'Finance', 90000),\n",
       " ('15151', 'Mozart', 'Music', 40000, '15151', 'Mozart', 'Music', 40000),\n",
       " ('15151', 'Mozart', 'Music', 40000, '22222', 'Einstein', 'Physics', 95000),\n",
       " ('15151', 'Mozart', 'Music', 40000, '32343', 'El Said', 'History', 60000),\n",
       " ('15151', 'Mozart', 'Music', 40000, '33456', 'Gold', 'Physics', 87000),\n",
       " ('15151', 'Mozart', 'Music', 40000, '45565', 'Katz', 'Comp. Sci.', 75000),\n",
       " ('15151', 'Mozart', 'Music', 40000, '58583', 'Califieri', 'History', 62000),\n",
       " ('15151', 'Mozart', 'Music', 40000, '76543', 'Singh', 'Finance', 80000),\n",
       " ('15151', 'Mozart', 'Music', 40000, '76766', 'Crick', 'Biology', 72000),\n",
       " ('15151', 'Mozart', 'Music', 40000, '83821', 'Brandt', 'Comp. Sci.', 92000),\n",
       " ('15151', 'Mozart', 'Music', 40000, '98345', 'Kim', 'Elec. Eng.', 80000),\n",
       " ('22222', 'Einstein', 'Physics', 95000, '10101', 'Srinivasan', 'Comp. Sci.', 65000),\n",
       " ('22222', 'Einstein', 'Physics', 95000, '12121', 'Wu', 'Finance', 90000),\n",
       " ('22222', 'Einstein', 'Physics', 95000, '15151', 'Mozart', 'Music', 40000),\n",
       " ('22222', 'Einstein', 'Physics', 95000, '22222', 'Einstein', 'Physics', 95000),\n",
       " ('22222', 'Einstein', 'Physics', 95000, '32343', 'El Said', 'History', 60000),\n",
       " ('22222', 'Einstein', 'Physics', 95000, '33456', 'Gold', 'Physics', 87000),\n",
       " ('22222', 'Einstein', 'Physics', 95000, '45565', 'Katz', 'Comp. Sci.', 75000),\n",
       " ('22222', 'Einstein', 'Physics', 95000, '58583', 'Califieri', 'History', 62000),\n",
       " ('22222', 'Einstein', 'Physics', 95000, '76543', 'Singh', 'Finance', 80000),\n",
       " ('22222', 'Einstein', 'Physics', 95000, '76766', 'Crick', 'Biology', 72000),\n",
       " ('22222', 'Einstein', 'Physics', 95000, '83821', 'Brandt', 'Comp. Sci.', 92000),\n",
       " ('22222', 'Einstein', 'Physics', 95000, '98345', 'Kim', 'Elec. Eng.', 80000),\n",
       " ('32343', 'El Said', 'History', 60000, '10101', 'Srinivasan', 'Comp. Sci.', 65000),\n",
       " ('32343', 'El Said', 'History', 60000, '12121', 'Wu', 'Finance', 90000),\n",
       " ('32343', 'El Said', 'History', 60000, '15151', 'Mozart', 'Music', 40000),\n",
       " ('32343', 'El Said', 'History', 60000, '22222', 'Einstein', 'Physics', 95000),\n",
       " ('32343', 'El Said', 'History', 60000, '32343', 'El Said', 'History', 60000),\n",
       " ('32343', 'El Said', 'History', 60000, '33456', 'Gold', 'Physics', 87000),\n",
       " ('32343', 'El Said', 'History', 60000, '45565', 'Katz', 'Comp. Sci.', 75000),\n",
       " ('32343', 'El Said', 'History', 60000, '58583', 'Califieri', 'History', 62000),\n",
       " ('32343', 'El Said', 'History', 60000, '76543', 'Singh', 'Finance', 80000),\n",
       " ('32343', 'El Said', 'History', 60000, '76766', 'Crick', 'Biology', 72000),\n",
       " ('32343', 'El Said', 'History', 60000, '83821', 'Brandt', 'Comp. Sci.', 92000),\n",
       " ('32343', 'El Said', 'History', 60000, '98345', 'Kim', 'Elec. Eng.', 80000),\n",
       " ('33456', 'Gold', 'Physics', 87000, '10101', 'Srinivasan', 'Comp. Sci.', 65000),\n",
       " ('33456', 'Gold', 'Physics', 87000, '12121', 'Wu', 'Finance', 90000),\n",
       " ('33456', 'Gold', 'Physics', 87000, '15151', 'Mozart', 'Music', 40000),\n",
       " ('33456', 'Gold', 'Physics', 87000, '22222', 'Einstein', 'Physics', 95000),\n",
       " ('33456', 'Gold', 'Physics', 87000, '32343', 'El Said', 'History', 60000),\n",
       " ('33456', 'Gold', 'Physics', 87000, '33456', 'Gold', 'Physics', 87000),\n",
       " ('33456', 'Gold', 'Physics', 87000, '45565', 'Katz', 'Comp. Sci.', 75000),\n",
       " ('33456', 'Gold', 'Physics', 87000, '58583', 'Califieri', 'History', 62000),\n",
       " ('33456', 'Gold', 'Physics', 87000, '76543', 'Singh', 'Finance', 80000),\n",
       " ('33456', 'Gold', 'Physics', 87000, '76766', 'Crick', 'Biology', 72000),\n",
       " ('33456', 'Gold', 'Physics', 87000, '83821', 'Brandt', 'Comp. Sci.', 92000),\n",
       " ('33456', 'Gold', 'Physics', 87000, '98345', 'Kim', 'Elec. Eng.', 80000),\n",
       " ('45565', 'Katz', 'Comp. Sci.', 75000, '10101', 'Srinivasan', 'Comp. Sci.', 65000),\n",
       " ('45565', 'Katz', 'Comp. Sci.', 75000, '12121', 'Wu', 'Finance', 90000),\n",
       " ('45565', 'Katz', 'Comp. Sci.', 75000, '15151', 'Mozart', 'Music', 40000),\n",
       " ('45565', 'Katz', 'Comp. Sci.', 75000, '22222', 'Einstein', 'Physics', 95000),\n",
       " ('45565', 'Katz', 'Comp. Sci.', 75000, '32343', 'El Said', 'History', 60000),\n",
       " ('45565', 'Katz', 'Comp. Sci.', 75000, '33456', 'Gold', 'Physics', 87000),\n",
       " ('45565', 'Katz', 'Comp. Sci.', 75000, '45565', 'Katz', 'Comp. Sci.', 75000),\n",
       " ('45565', 'Katz', 'Comp. Sci.', 75000, '58583', 'Califieri', 'History', 62000),\n",
       " ('45565', 'Katz', 'Comp. Sci.', 75000, '76543', 'Singh', 'Finance', 80000),\n",
       " ('45565', 'Katz', 'Comp. Sci.', 75000, '76766', 'Crick', 'Biology', 72000),\n",
       " ('45565', 'Katz', 'Comp. Sci.', 75000, '83821', 'Brandt', 'Comp. Sci.', 92000),\n",
       " ('45565', 'Katz', 'Comp. Sci.', 75000, '98345', 'Kim', 'Elec. Eng.', 80000),\n",
       " ('58583', 'Califieri', 'History', 62000, '10101', 'Srinivasan', 'Comp. Sci.', 65000),\n",
       " ('58583', 'Califieri', 'History', 62000, '12121', 'Wu', 'Finance', 90000),\n",
       " ('58583', 'Califieri', 'History', 62000, '15151', 'Mozart', 'Music', 40000),\n",
       " ('58583', 'Califieri', 'History', 62000, '22222', 'Einstein', 'Physics', 95000),\n",
       " ('58583', 'Califieri', 'History', 62000, '32343', 'El Said', 'History', 60000),\n",
       " ('58583', 'Califieri', 'History', 62000, '33456', 'Gold', 'Physics', 87000),\n",
       " ('58583', 'Califieri', 'History', 62000, '45565', 'Katz', 'Comp. Sci.', 75000),\n",
       " ('58583', 'Califieri', 'History', 62000, '58583', 'Califieri', 'History', 62000),\n",
       " ('58583', 'Califieri', 'History', 62000, '76543', 'Singh', 'Finance', 80000),\n",
       " ('58583', 'Califieri', 'History', 62000, '76766', 'Crick', 'Biology', 72000),\n",
       " ('58583', 'Califieri', 'History', 62000, '83821', 'Brandt', 'Comp. Sci.', 92000),\n",
       " ('58583', 'Califieri', 'History', 62000, '98345', 'Kim', 'Elec. Eng.', 80000),\n",
       " ('76543', 'Singh', 'Finance', 80000, '10101', 'Srinivasan', 'Comp. Sci.', 65000),\n",
       " ('76543', 'Singh', 'Finance', 80000, '12121', 'Wu', 'Finance', 90000),\n",
       " ('76543', 'Singh', 'Finance', 80000, '15151', 'Mozart', 'Music', 40000),\n",
       " ('76543', 'Singh', 'Finance', 80000, '22222', 'Einstein', 'Physics', 95000),\n",
       " ('76543', 'Singh', 'Finance', 80000, '32343', 'El Said', 'History', 60000),\n",
       " ('76543', 'Singh', 'Finance', 80000, '33456', 'Gold', 'Physics', 87000),\n",
       " ('76543', 'Singh', 'Finance', 80000, '45565', 'Katz', 'Comp. Sci.', 75000),\n",
       " ('76543', 'Singh', 'Finance', 80000, '58583', 'Califieri', 'History', 62000),\n",
       " ('76543', 'Singh', 'Finance', 80000, '76543', 'Singh', 'Finance', 80000),\n",
       " ('76543', 'Singh', 'Finance', 80000, '76766', 'Crick', 'Biology', 72000),\n",
       " ('76543', 'Singh', 'Finance', 80000, '83821', 'Brandt', 'Comp. Sci.', 92000),\n",
       " ('76543', 'Singh', 'Finance', 80000, '98345', 'Kim', 'Elec. Eng.', 80000),\n",
       " ('76766', 'Crick', 'Biology', 72000, '10101', 'Srinivasan', 'Comp. Sci.', 65000),\n",
       " ('76766', 'Crick', 'Biology', 72000, '12121', 'Wu', 'Finance', 90000),\n",
       " ('76766', 'Crick', 'Biology', 72000, '15151', 'Mozart', 'Music', 40000),\n",
       " ('76766', 'Crick', 'Biology', 72000, '22222', 'Einstein', 'Physics', 95000),\n",
       " ('76766', 'Crick', 'Biology', 72000, '32343', 'El Said', 'History', 60000),\n",
       " ('76766', 'Crick', 'Biology', 72000, '33456', 'Gold', 'Physics', 87000),\n",
       " ('76766', 'Crick', 'Biology', 72000, '45565', 'Katz', 'Comp. Sci.', 75000),\n",
       " ('76766', 'Crick', 'Biology', 72000, '58583', 'Califieri', 'History', 62000),\n",
       " ('76766', 'Crick', 'Biology', 72000, '76543', 'Singh', 'Finance', 80000),\n",
       " ('76766', 'Crick', 'Biology', 72000, '76766', 'Crick', 'Biology', 72000),\n",
       " ('76766', 'Crick', 'Biology', 72000, '83821', 'Brandt', 'Comp. Sci.', 92000),\n",
       " ('76766', 'Crick', 'Biology', 72000, '98345', 'Kim', 'Elec. Eng.', 80000),\n",
       " ('83821', 'Brandt', 'Comp. Sci.', 92000, '10101', 'Srinivasan', 'Comp. Sci.', 65000),\n",
       " ('83821', 'Brandt', 'Comp. Sci.', 92000, '12121', 'Wu', 'Finance', 90000),\n",
       " ('83821', 'Brandt', 'Comp. Sci.', 92000, '15151', 'Mozart', 'Music', 40000),\n",
       " ('83821', 'Brandt', 'Comp. Sci.', 92000, '22222', 'Einstein', 'Physics', 95000),\n",
       " ('83821', 'Brandt', 'Comp. Sci.', 92000, '32343', 'El Said', 'History', 60000),\n",
       " ('83821', 'Brandt', 'Comp. Sci.', 92000, '33456', 'Gold', 'Physics', 87000),\n",
       " ('83821', 'Brandt', 'Comp. Sci.', 92000, '45565', 'Katz', 'Comp. Sci.', 75000),\n",
       " ('83821', 'Brandt', 'Comp. Sci.', 92000, '58583', 'Califieri', 'History', 62000),\n",
       " ('83821', 'Brandt', 'Comp. Sci.', 92000, '76543', 'Singh', 'Finance', 80000),\n",
       " ('83821', 'Brandt', 'Comp. Sci.', 92000, '76766', 'Crick', 'Biology', 72000),\n",
       " ('83821', 'Brandt', 'Comp. Sci.', 92000, '83821', 'Brandt', 'Comp. Sci.', 92000),\n",
       " ('83821', 'Brandt', 'Comp. Sci.', 92000, '98345', 'Kim', 'Elec. Eng.', 80000),\n",
       " ('98345', 'Kim', 'Elec. Eng.', 80000, '10101', 'Srinivasan', 'Comp. Sci.', 65000),\n",
       " ('98345', 'Kim', 'Elec. Eng.', 80000, '12121', 'Wu', 'Finance', 90000),\n",
       " ('98345', 'Kim', 'Elec. Eng.', 80000, '15151', 'Mozart', 'Music', 40000),\n",
       " ('98345', 'Kim', 'Elec. Eng.', 80000, '22222', 'Einstein', 'Physics', 95000),\n",
       " ('98345', 'Kim', 'Elec. Eng.', 80000, '32343', 'El Said', 'History', 60000),\n",
       " ('98345', 'Kim', 'Elec. Eng.', 80000, '33456', 'Gold', 'Physics', 87000),\n",
       " ('98345', 'Kim', 'Elec. Eng.', 80000, '45565', 'Katz', 'Comp. Sci.', 75000),\n",
       " ('98345', 'Kim', 'Elec. Eng.', 80000, '58583', 'Califieri', 'History', 62000),\n",
       " ('98345', 'Kim', 'Elec. Eng.', 80000, '76543', 'Singh', 'Finance', 80000),\n",
       " ('98345', 'Kim', 'Elec. Eng.', 80000, '76766', 'Crick', 'Biology', 72000),\n",
       " ('98345', 'Kim', 'Elec. Eng.', 80000, '83821', 'Brandt', 'Comp. Sci.', 92000),\n",
       " ('98345', 'Kim', 'Elec. Eng.', 80000, '98345', 'Kim', 'Elec. Eng.', 80000)]"
      ]
     },
     "execution_count": 15,
     "metadata": {},
     "output_type": "execute_result"
    }
   ],
   "source": [
    "%%sql select *\n",
    "from instructor as T, instructor as S"
   ]
  },
  {
   "cell_type": "code",
   "execution_count": 16,
   "metadata": {},
   "outputs": [
    {
     "name": "stdout",
     "output_type": "stream",
     "text": [
      " * sqlite:///db_univ7_new.db\n",
      "Done.\n"
     ]
    },
    {
     "data": {
      "text/html": [
       "<table>\n",
       "    <tr>\n",
       "        <th>name</th>\n",
       "    </tr>\n",
       "    <tr>\n",
       "        <td>Wu</td>\n",
       "    </tr>\n",
       "    <tr>\n",
       "        <td>Einstein</td>\n",
       "    </tr>\n",
       "    <tr>\n",
       "        <td>Gold</td>\n",
       "    </tr>\n",
       "    <tr>\n",
       "        <td>Katz</td>\n",
       "    </tr>\n",
       "    <tr>\n",
       "        <td>Singh</td>\n",
       "    </tr>\n",
       "    <tr>\n",
       "        <td>Crick</td>\n",
       "    </tr>\n",
       "    <tr>\n",
       "        <td>Brandt</td>\n",
       "    </tr>\n",
       "    <tr>\n",
       "        <td>Kim</td>\n",
       "    </tr>\n",
       "</table>"
      ],
      "text/plain": [
       "[('Wu',),\n",
       " ('Einstein',),\n",
       " ('Gold',),\n",
       " ('Katz',),\n",
       " ('Singh',),\n",
       " ('Crick',),\n",
       " ('Brandt',),\n",
       " ('Kim',)]"
      ]
     },
     "execution_count": 16,
     "metadata": {},
     "output_type": "execute_result"
    }
   ],
   "source": [
    "%%sql select distinct T. name\n",
    "from instructor as T, instructor as S\n",
    "where T.salary > S.salary and S.dept_name = 'Comp. Sci.'"
   ]
  },
  {
   "cell_type": "markdown",
   "metadata": {},
   "source": [
    "## string operations\n",
    "- %: matches any string\n",
    "- _: 정확히 같은 수의 문자만 올 수 있음\n",
    "    - ex) '%Comp%' -> ~Comp~\n",
    "    - ex) '___%' -> 3개 이상"
   ]
  },
  {
   "cell_type": "code",
   "execution_count": 17,
   "metadata": {},
   "outputs": [
    {
     "name": "stdout",
     "output_type": "stream",
     "text": [
      " * sqlite:///db_univ7_new.db\n",
      "Done.\n"
     ]
    },
    {
     "data": {
      "text/html": [
       "<table>\n",
       "    <tr>\n",
       "        <th>name</th>\n",
       "    </tr>\n",
       "    <tr>\n",
       "        <td>Brandt</td>\n",
       "    </tr>\n",
       "</table>"
      ],
      "text/plain": [
       "[('Brandt',)]"
      ]
     },
     "execution_count": 17,
     "metadata": {},
     "output_type": "execute_result"
    }
   ],
   "source": [
    "%%sql\n",
    "select name\n",
    "from instructor\n",
    "where name like '%ran%'"
   ]
  },
  {
   "cell_type": "code",
   "execution_count": 18,
   "metadata": {},
   "outputs": [
    {
     "name": "stdout",
     "output_type": "stream",
     "text": [
      " * sqlite:///db_univ7_new.db\n",
      "1 rows affected.\n"
     ]
    },
    {
     "data": {
      "text/plain": [
       "[]"
      ]
     },
     "execution_count": 18,
     "metadata": {},
     "output_type": "execute_result"
    }
   ],
   "source": [
    "%%sql\n",
    "insert into instructor\n",
    "values ('99998','Lee%','Biology',90000)"
   ]
  },
  {
   "cell_type": "code",
   "execution_count": 19,
   "metadata": {},
   "outputs": [
    {
     "name": "stdout",
     "output_type": "stream",
     "text": [
      " * sqlite:///db_univ7_new.db\n",
      "1 rows affected.\n"
     ]
    },
    {
     "data": {
      "text/plain": [
       "[]"
      ]
     },
     "execution_count": 19,
     "metadata": {},
     "output_type": "execute_result"
    }
   ],
   "source": [
    "%sql insert into instructor values ('99999','Lee2','Biology',90000)"
   ]
  },
  {
   "cell_type": "code",
   "execution_count": 20,
   "metadata": {},
   "outputs": [
    {
     "name": "stdout",
     "output_type": "stream",
     "text": [
      " * sqlite:///db_univ7_new.db\n",
      "Done.\n"
     ]
    },
    {
     "data": {
      "text/html": [
       "<table>\n",
       "    <tr>\n",
       "        <th>ID</th>\n",
       "        <th>name</th>\n",
       "        <th>dept_name</th>\n",
       "        <th>salary</th>\n",
       "    </tr>\n",
       "    <tr>\n",
       "        <td>10101</td>\n",
       "        <td>Srinivasan</td>\n",
       "        <td>Comp. Sci.</td>\n",
       "        <td>65000</td>\n",
       "    </tr>\n",
       "    <tr>\n",
       "        <td>12121</td>\n",
       "        <td>Wu</td>\n",
       "        <td>Finance</td>\n",
       "        <td>90000</td>\n",
       "    </tr>\n",
       "    <tr>\n",
       "        <td>15151</td>\n",
       "        <td>Mozart</td>\n",
       "        <td>Music</td>\n",
       "        <td>40000</td>\n",
       "    </tr>\n",
       "    <tr>\n",
       "        <td>22222</td>\n",
       "        <td>Einstein</td>\n",
       "        <td>Physics</td>\n",
       "        <td>95000</td>\n",
       "    </tr>\n",
       "    <tr>\n",
       "        <td>32343</td>\n",
       "        <td>El Said</td>\n",
       "        <td>History</td>\n",
       "        <td>60000</td>\n",
       "    </tr>\n",
       "    <tr>\n",
       "        <td>33456</td>\n",
       "        <td>Gold</td>\n",
       "        <td>Physics</td>\n",
       "        <td>87000</td>\n",
       "    </tr>\n",
       "    <tr>\n",
       "        <td>45565</td>\n",
       "        <td>Katz</td>\n",
       "        <td>Comp. Sci.</td>\n",
       "        <td>75000</td>\n",
       "    </tr>\n",
       "    <tr>\n",
       "        <td>58583</td>\n",
       "        <td>Califieri</td>\n",
       "        <td>History</td>\n",
       "        <td>62000</td>\n",
       "    </tr>\n",
       "    <tr>\n",
       "        <td>76543</td>\n",
       "        <td>Singh</td>\n",
       "        <td>Finance</td>\n",
       "        <td>80000</td>\n",
       "    </tr>\n",
       "    <tr>\n",
       "        <td>76766</td>\n",
       "        <td>Crick</td>\n",
       "        <td>Biology</td>\n",
       "        <td>72000</td>\n",
       "    </tr>\n",
       "    <tr>\n",
       "        <td>83821</td>\n",
       "        <td>Brandt</td>\n",
       "        <td>Comp. Sci.</td>\n",
       "        <td>92000</td>\n",
       "    </tr>\n",
       "    <tr>\n",
       "        <td>98345</td>\n",
       "        <td>Kim</td>\n",
       "        <td>Elec. Eng.</td>\n",
       "        <td>80000</td>\n",
       "    </tr>\n",
       "    <tr>\n",
       "        <td>99998</td>\n",
       "        <td>Lee%</td>\n",
       "        <td>Biology</td>\n",
       "        <td>90000</td>\n",
       "    </tr>\n",
       "    <tr>\n",
       "        <td>99999</td>\n",
       "        <td>Lee2</td>\n",
       "        <td>Biology</td>\n",
       "        <td>90000</td>\n",
       "    </tr>\n",
       "</table>"
      ],
      "text/plain": [
       "[('10101', 'Srinivasan', 'Comp. Sci.', 65000),\n",
       " ('12121', 'Wu', 'Finance', 90000),\n",
       " ('15151', 'Mozart', 'Music', 40000),\n",
       " ('22222', 'Einstein', 'Physics', 95000),\n",
       " ('32343', 'El Said', 'History', 60000),\n",
       " ('33456', 'Gold', 'Physics', 87000),\n",
       " ('45565', 'Katz', 'Comp. Sci.', 75000),\n",
       " ('58583', 'Califieri', 'History', 62000),\n",
       " ('76543', 'Singh', 'Finance', 80000),\n",
       " ('76766', 'Crick', 'Biology', 72000),\n",
       " ('83821', 'Brandt', 'Comp. Sci.', 92000),\n",
       " ('98345', 'Kim', 'Elec. Eng.', 80000),\n",
       " ('99998', 'Lee%', 'Biology', 90000),\n",
       " ('99999', 'Lee2', 'Biology', 90000)]"
      ]
     },
     "execution_count": 20,
     "metadata": {},
     "output_type": "execute_result"
    }
   ],
   "source": [
    "%sql select * from instructor"
   ]
  },
  {
   "cell_type": "code",
   "execution_count": 21,
   "metadata": {},
   "outputs": [
    {
     "name": "stdout",
     "output_type": "stream",
     "text": [
      " * sqlite:///db_univ7_new.db\n",
      "Done.\n"
     ]
    },
    {
     "data": {
      "text/html": [
       "<table>\n",
       "    <tr>\n",
       "        <th>name</th>\n",
       "    </tr>\n",
       "    <tr>\n",
       "        <td>Lee%</td>\n",
       "    </tr>\n",
       "    <tr>\n",
       "        <td>Lee2</td>\n",
       "    </tr>\n",
       "</table>"
      ],
      "text/plain": [
       "[('Lee%',), ('Lee2',)]"
      ]
     },
     "execution_count": 21,
     "metadata": {},
     "output_type": "execute_result"
    }
   ],
   "source": [
    "%sql select name from instructor where name like 'Lee%'"
   ]
  },
  {
   "cell_type": "markdown",
   "metadata": {},
   "source": [
    "### escape\n",
    "- ex)  \"100%\"를 찾으려면 <- like '100\\%' escape '\\ '"
   ]
  },
  {
   "cell_type": "code",
   "execution_count": 22,
   "metadata": {},
   "outputs": [
    {
     "name": "stdout",
     "output_type": "stream",
     "text": [
      " * sqlite:///db_univ7_new.db\n",
      "Done.\n"
     ]
    },
    {
     "data": {
      "text/html": [
       "<table>\n",
       "    <tr>\n",
       "        <th>name</th>\n",
       "    </tr>\n",
       "    <tr>\n",
       "        <td>Lee%</td>\n",
       "    </tr>\n",
       "</table>"
      ],
      "text/plain": [
       "[('Lee%',)]"
      ]
     },
     "execution_count": 22,
     "metadata": {},
     "output_type": "execute_result"
    }
   ],
   "source": [
    "%sql select name from instructor where name like 'Lee\\%' escape '\\'"
   ]
  },
  {
   "cell_type": "code",
   "execution_count": 23,
   "metadata": {},
   "outputs": [
    {
     "name": "stdout",
     "output_type": "stream",
     "text": [
      " * sqlite:///db_univ7_new.db\n",
      "2 rows affected.\n"
     ]
    },
    {
     "data": {
      "text/plain": [
       "[]"
      ]
     },
     "execution_count": 23,
     "metadata": {},
     "output_type": "execute_result"
    }
   ],
   "source": [
    "%sql delete from instructor where name like 'Lee%'"
   ]
  },
  {
   "cell_type": "code",
   "execution_count": 24,
   "metadata": {},
   "outputs": [
    {
     "name": "stdout",
     "output_type": "stream",
     "text": [
      " * sqlite:///db_univ7_new.db\n",
      "Done.\n"
     ]
    },
    {
     "data": {
      "text/html": [
       "<table>\n",
       "    <tr>\n",
       "        <th>ID</th>\n",
       "        <th>name</th>\n",
       "        <th>dept_name</th>\n",
       "        <th>salary</th>\n",
       "    </tr>\n",
       "    <tr>\n",
       "        <td>10101</td>\n",
       "        <td>Srinivasan</td>\n",
       "        <td>Comp. Sci.</td>\n",
       "        <td>65000</td>\n",
       "    </tr>\n",
       "    <tr>\n",
       "        <td>12121</td>\n",
       "        <td>Wu</td>\n",
       "        <td>Finance</td>\n",
       "        <td>90000</td>\n",
       "    </tr>\n",
       "    <tr>\n",
       "        <td>15151</td>\n",
       "        <td>Mozart</td>\n",
       "        <td>Music</td>\n",
       "        <td>40000</td>\n",
       "    </tr>\n",
       "    <tr>\n",
       "        <td>22222</td>\n",
       "        <td>Einstein</td>\n",
       "        <td>Physics</td>\n",
       "        <td>95000</td>\n",
       "    </tr>\n",
       "    <tr>\n",
       "        <td>32343</td>\n",
       "        <td>El Said</td>\n",
       "        <td>History</td>\n",
       "        <td>60000</td>\n",
       "    </tr>\n",
       "    <tr>\n",
       "        <td>33456</td>\n",
       "        <td>Gold</td>\n",
       "        <td>Physics</td>\n",
       "        <td>87000</td>\n",
       "    </tr>\n",
       "    <tr>\n",
       "        <td>45565</td>\n",
       "        <td>Katz</td>\n",
       "        <td>Comp. Sci.</td>\n",
       "        <td>75000</td>\n",
       "    </tr>\n",
       "    <tr>\n",
       "        <td>58583</td>\n",
       "        <td>Califieri</td>\n",
       "        <td>History</td>\n",
       "        <td>62000</td>\n",
       "    </tr>\n",
       "    <tr>\n",
       "        <td>76543</td>\n",
       "        <td>Singh</td>\n",
       "        <td>Finance</td>\n",
       "        <td>80000</td>\n",
       "    </tr>\n",
       "    <tr>\n",
       "        <td>76766</td>\n",
       "        <td>Crick</td>\n",
       "        <td>Biology</td>\n",
       "        <td>72000</td>\n",
       "    </tr>\n",
       "    <tr>\n",
       "        <td>83821</td>\n",
       "        <td>Brandt</td>\n",
       "        <td>Comp. Sci.</td>\n",
       "        <td>92000</td>\n",
       "    </tr>\n",
       "    <tr>\n",
       "        <td>98345</td>\n",
       "        <td>Kim</td>\n",
       "        <td>Elec. Eng.</td>\n",
       "        <td>80000</td>\n",
       "    </tr>\n",
       "</table>"
      ],
      "text/plain": [
       "[('10101', 'Srinivasan', 'Comp. Sci.', 65000),\n",
       " ('12121', 'Wu', 'Finance', 90000),\n",
       " ('15151', 'Mozart', 'Music', 40000),\n",
       " ('22222', 'Einstein', 'Physics', 95000),\n",
       " ('32343', 'El Said', 'History', 60000),\n",
       " ('33456', 'Gold', 'Physics', 87000),\n",
       " ('45565', 'Katz', 'Comp. Sci.', 75000),\n",
       " ('58583', 'Califieri', 'History', 62000),\n",
       " ('76543', 'Singh', 'Finance', 80000),\n",
       " ('76766', 'Crick', 'Biology', 72000),\n",
       " ('83821', 'Brandt', 'Comp. Sci.', 92000),\n",
       " ('98345', 'Kim', 'Elec. Eng.', 80000)]"
      ]
     },
     "execution_count": 24,
     "metadata": {},
     "output_type": "execute_result"
    }
   ],
   "source": [
    "%sql select * from instructor"
   ]
  },
  {
   "cell_type": "code",
   "execution_count": 25,
   "metadata": {},
   "outputs": [
    {
     "name": "stdout",
     "output_type": "stream",
     "text": [
      " * sqlite:///db_univ7_new.db\n",
      "Done.\n"
     ]
    },
    {
     "data": {
      "text/html": [
       "<table>\n",
       "    <tr>\n",
       "        <th>name</th>\n",
       "    </tr>\n",
       "    <tr>\n",
       "        <td>Kim</td>\n",
       "    </tr>\n",
       "</table>"
      ],
      "text/plain": [
       "[('Kim',)]"
      ]
     },
     "execution_count": 25,
     "metadata": {},
     "output_type": "execute_result"
    }
   ],
   "source": [
    "%sql select name from instructor where name like '___' "
   ]
  },
  {
   "cell_type": "code",
   "execution_count": 26,
   "metadata": {},
   "outputs": [
    {
     "name": "stdout",
     "output_type": "stream",
     "text": [
      " * sqlite:///db_univ7_new.db\n",
      "Done.\n"
     ]
    },
    {
     "data": {
      "text/html": [
       "<table>\n",
       "    <tr>\n",
       "        <th>name</th>\n",
       "    </tr>\n",
       "    <tr>\n",
       "        <td>Srinivasan</td>\n",
       "    </tr>\n",
       "    <tr>\n",
       "        <td>Mozart</td>\n",
       "    </tr>\n",
       "    <tr>\n",
       "        <td>Einstein</td>\n",
       "    </tr>\n",
       "    <tr>\n",
       "        <td>El Said</td>\n",
       "    </tr>\n",
       "    <tr>\n",
       "        <td>Califieri</td>\n",
       "    </tr>\n",
       "    <tr>\n",
       "        <td>Singh</td>\n",
       "    </tr>\n",
       "    <tr>\n",
       "        <td>Crick</td>\n",
       "    </tr>\n",
       "    <tr>\n",
       "        <td>Brandt</td>\n",
       "    </tr>\n",
       "</table>"
      ],
      "text/plain": [
       "[('Srinivasan',),\n",
       " ('Mozart',),\n",
       " ('Einstein',),\n",
       " ('El Said',),\n",
       " ('Califieri',),\n",
       " ('Singh',),\n",
       " ('Crick',),\n",
       " ('Brandt',)]"
      ]
     },
     "execution_count": 26,
     "metadata": {},
     "output_type": "execute_result"
    }
   ],
   "source": [
    "%sql select name from instructor where name like '_____%' "
   ]
  },
  {
   "cell_type": "markdown",
   "metadata": {},
   "source": [
    "## ordering\n",
    "- order by [attribute] (decs)"
   ]
  },
  {
   "cell_type": "code",
   "execution_count": 27,
   "metadata": {},
   "outputs": [
    {
     "name": "stdout",
     "output_type": "stream",
     "text": [
      " * sqlite:///db_univ7_new.db\n",
      "Done.\n"
     ]
    },
    {
     "data": {
      "text/html": [
       "<table>\n",
       "    <tr>\n",
       "        <th>name</th>\n",
       "    </tr>\n",
       "    <tr>\n",
       "        <td>Brandt</td>\n",
       "    </tr>\n",
       "    <tr>\n",
       "        <td>Califieri</td>\n",
       "    </tr>\n",
       "    <tr>\n",
       "        <td>Crick</td>\n",
       "    </tr>\n",
       "    <tr>\n",
       "        <td>Einstein</td>\n",
       "    </tr>\n",
       "    <tr>\n",
       "        <td>El Said</td>\n",
       "    </tr>\n",
       "    <tr>\n",
       "        <td>Gold</td>\n",
       "    </tr>\n",
       "    <tr>\n",
       "        <td>Katz</td>\n",
       "    </tr>\n",
       "    <tr>\n",
       "        <td>Kim</td>\n",
       "    </tr>\n",
       "    <tr>\n",
       "        <td>Mozart</td>\n",
       "    </tr>\n",
       "    <tr>\n",
       "        <td>Singh</td>\n",
       "    </tr>\n",
       "    <tr>\n",
       "        <td>Srinivasan</td>\n",
       "    </tr>\n",
       "    <tr>\n",
       "        <td>Wu</td>\n",
       "    </tr>\n",
       "</table>"
      ],
      "text/plain": [
       "[('Brandt',),\n",
       " ('Califieri',),\n",
       " ('Crick',),\n",
       " ('Einstein',),\n",
       " ('El Said',),\n",
       " ('Gold',),\n",
       " ('Katz',),\n",
       " ('Kim',),\n",
       " ('Mozart',),\n",
       " ('Singh',),\n",
       " ('Srinivasan',),\n",
       " ('Wu',)]"
      ]
     },
     "execution_count": 27,
     "metadata": {},
     "output_type": "execute_result"
    }
   ],
   "source": [
    "%%sql\n",
    "select distinct name\n",
    "from instructor order by name"
   ]
  },
  {
   "cell_type": "code",
   "execution_count": 28,
   "metadata": {},
   "outputs": [
    {
     "name": "stdout",
     "output_type": "stream",
     "text": [
      " * sqlite:///db_univ7_new.db\n",
      "Done.\n"
     ]
    },
    {
     "data": {
      "text/html": [
       "<table>\n",
       "    <tr>\n",
       "        <th>name</th>\n",
       "    </tr>\n",
       "    <tr>\n",
       "        <td>Wu</td>\n",
       "    </tr>\n",
       "    <tr>\n",
       "        <td>Srinivasan</td>\n",
       "    </tr>\n",
       "    <tr>\n",
       "        <td>Singh</td>\n",
       "    </tr>\n",
       "    <tr>\n",
       "        <td>Mozart</td>\n",
       "    </tr>\n",
       "    <tr>\n",
       "        <td>Kim</td>\n",
       "    </tr>\n",
       "    <tr>\n",
       "        <td>Katz</td>\n",
       "    </tr>\n",
       "    <tr>\n",
       "        <td>Gold</td>\n",
       "    </tr>\n",
       "    <tr>\n",
       "        <td>El Said</td>\n",
       "    </tr>\n",
       "    <tr>\n",
       "        <td>Einstein</td>\n",
       "    </tr>\n",
       "    <tr>\n",
       "        <td>Crick</td>\n",
       "    </tr>\n",
       "    <tr>\n",
       "        <td>Califieri</td>\n",
       "    </tr>\n",
       "    <tr>\n",
       "        <td>Brandt</td>\n",
       "    </tr>\n",
       "</table>"
      ],
      "text/plain": [
       "[('Wu',),\n",
       " ('Srinivasan',),\n",
       " ('Singh',),\n",
       " ('Mozart',),\n",
       " ('Kim',),\n",
       " ('Katz',),\n",
       " ('Gold',),\n",
       " ('El Said',),\n",
       " ('Einstein',),\n",
       " ('Crick',),\n",
       " ('Califieri',),\n",
       " ('Brandt',)]"
      ]
     },
     "execution_count": 28,
     "metadata": {},
     "output_type": "execute_result"
    }
   ],
   "source": [
    "%sql select distinct name from instructor order by name desc"
   ]
  },
  {
   "cell_type": "code",
   "execution_count": 29,
   "metadata": {},
   "outputs": [
    {
     "name": "stdout",
     "output_type": "stream",
     "text": [
      " * sqlite:///db_univ7_new.db\n",
      "Done.\n"
     ]
    },
    {
     "data": {
      "text/html": [
       "<table>\n",
       "    <tr>\n",
       "        <th>dept_name</th>\n",
       "        <th>name</th>\n",
       "    </tr>\n",
       "    <tr>\n",
       "        <td>Biology</td>\n",
       "        <td>Crick</td>\n",
       "    </tr>\n",
       "    <tr>\n",
       "        <td>Comp. Sci.</td>\n",
       "        <td>Srinivasan</td>\n",
       "    </tr>\n",
       "    <tr>\n",
       "        <td>Comp. Sci.</td>\n",
       "        <td>Katz</td>\n",
       "    </tr>\n",
       "    <tr>\n",
       "        <td>Comp. Sci.</td>\n",
       "        <td>Brandt</td>\n",
       "    </tr>\n",
       "    <tr>\n",
       "        <td>Elec. Eng.</td>\n",
       "        <td>Kim</td>\n",
       "    </tr>\n",
       "    <tr>\n",
       "        <td>Finance</td>\n",
       "        <td>Wu</td>\n",
       "    </tr>\n",
       "    <tr>\n",
       "        <td>Finance</td>\n",
       "        <td>Singh</td>\n",
       "    </tr>\n",
       "    <tr>\n",
       "        <td>History</td>\n",
       "        <td>El Said</td>\n",
       "    </tr>\n",
       "    <tr>\n",
       "        <td>History</td>\n",
       "        <td>Califieri</td>\n",
       "    </tr>\n",
       "    <tr>\n",
       "        <td>Music</td>\n",
       "        <td>Mozart</td>\n",
       "    </tr>\n",
       "    <tr>\n",
       "        <td>Physics</td>\n",
       "        <td>Gold</td>\n",
       "    </tr>\n",
       "    <tr>\n",
       "        <td>Physics</td>\n",
       "        <td>Einstein</td>\n",
       "    </tr>\n",
       "</table>"
      ],
      "text/plain": [
       "[('Biology', 'Crick'),\n",
       " ('Comp. Sci.', 'Srinivasan'),\n",
       " ('Comp. Sci.', 'Katz'),\n",
       " ('Comp. Sci.', 'Brandt'),\n",
       " ('Elec. Eng.', 'Kim'),\n",
       " ('Finance', 'Wu'),\n",
       " ('Finance', 'Singh'),\n",
       " ('History', 'El Said'),\n",
       " ('History', 'Califieri'),\n",
       " ('Music', 'Mozart'),\n",
       " ('Physics', 'Gold'),\n",
       " ('Physics', 'Einstein')]"
      ]
     },
     "execution_count": 29,
     "metadata": {},
     "output_type": "execute_result"
    }
   ],
   "source": [
    "%sql select distinct dept_name, name from instructor order by dept_name, name desc"
   ]
  },
  {
   "cell_type": "markdown",
   "metadata": {},
   "source": [
    "## between\n",
    "- where [attribute] between [value] and [value]"
   ]
  },
  {
   "cell_type": "code",
   "execution_count": 30,
   "metadata": {},
   "outputs": [
    {
     "name": "stdout",
     "output_type": "stream",
     "text": [
      " * sqlite:///db_univ7_new.db\n",
      "Done.\n"
     ]
    },
    {
     "data": {
      "text/html": [
       "<table>\n",
       "    <tr>\n",
       "        <th>name</th>\n",
       "    </tr>\n",
       "    <tr>\n",
       "        <td>Wu</td>\n",
       "    </tr>\n",
       "    <tr>\n",
       "        <td>Einstein</td>\n",
       "    </tr>\n",
       "    <tr>\n",
       "        <td>Brandt</td>\n",
       "    </tr>\n",
       "</table>"
      ],
      "text/plain": [
       "[('Wu',), ('Einstein',), ('Brandt',)]"
      ]
     },
     "execution_count": 30,
     "metadata": {},
     "output_type": "execute_result"
    }
   ],
   "source": [
    "%sql select name  from instructor where salary between 90000 and 100000"
   ]
  },
  {
   "cell_type": "code",
   "execution_count": 31,
   "metadata": {},
   "outputs": [
    {
     "name": "stdout",
     "output_type": "stream",
     "text": [
      " * sqlite:///db_univ7_new.db\n",
      "Done.\n"
     ]
    },
    {
     "data": {
      "text/html": [
       "<table>\n",
       "    <tr>\n",
       "        <th>name</th>\n",
       "        <th>course_id</th>\n",
       "    </tr>\n",
       "    <tr>\n",
       "        <td>Crick</td>\n",
       "        <td>BIO-101</td>\n",
       "    </tr>\n",
       "    <tr>\n",
       "        <td>Crick</td>\n",
       "        <td>BIO-301</td>\n",
       "    </tr>\n",
       "</table>"
      ],
      "text/plain": [
       "[('Crick', 'BIO-101'), ('Crick', 'BIO-301')]"
      ]
     },
     "execution_count": 31,
     "metadata": {},
     "output_type": "execute_result"
    }
   ],
   "source": [
    "%sql select name, course_id from instructor, teaches where (instructor.ID, dept_name) = (teaches.ID, 'Biology')"
   ]
  },
  {
   "cell_type": "markdown",
   "metadata": {},
   "source": [
    "## set operations\n",
    "- duplicate 삭제가 default\n",
    "- duplicate 유지하려면 union/intersect/except **all**"
   ]
  },
  {
   "cell_type": "markdown",
   "metadata": {},
   "source": [
    "### union\n",
    "- [query] union [query]"
   ]
  },
  {
   "cell_type": "code",
   "execution_count": 32,
   "metadata": {},
   "outputs": [
    {
     "name": "stdout",
     "output_type": "stream",
     "text": [
      " * sqlite:///db_univ7_new.db\n",
      "Done.\n"
     ]
    },
    {
     "data": {
      "text/html": [
       "<table>\n",
       "    <tr>\n",
       "        <th>course_id</th>\n",
       "    </tr>\n",
       "    <tr>\n",
       "        <td>CS-101</td>\n",
       "    </tr>\n",
       "    <tr>\n",
       "        <td>CS-315</td>\n",
       "    </tr>\n",
       "    <tr>\n",
       "        <td>CS-319</td>\n",
       "    </tr>\n",
       "    <tr>\n",
       "        <td>CS-347</td>\n",
       "    </tr>\n",
       "    <tr>\n",
       "        <td>FIN-201</td>\n",
       "    </tr>\n",
       "    <tr>\n",
       "        <td>HIS-351</td>\n",
       "    </tr>\n",
       "    <tr>\n",
       "        <td>MU-199</td>\n",
       "    </tr>\n",
       "    <tr>\n",
       "        <td>PHY-101</td>\n",
       "    </tr>\n",
       "</table>"
      ],
      "text/plain": [
       "[('CS-101',),\n",
       " ('CS-315',),\n",
       " ('CS-319',),\n",
       " ('CS-347',),\n",
       " ('FIN-201',),\n",
       " ('HIS-351',),\n",
       " ('MU-199',),\n",
       " ('PHY-101',)]"
      ]
     },
     "execution_count": 32,
     "metadata": {},
     "output_type": "execute_result"
    }
   ],
   "source": [
    "%%sql select course_id from section where semester = 'Fall' and year = 2017\n",
    "union\n",
    "select course_id from section where semester = 'Spring' and year = 2018 "
   ]
  },
  {
   "cell_type": "markdown",
   "metadata": {},
   "source": [
    "### intersect\n",
    "- [query] intersect [query]"
   ]
  },
  {
   "cell_type": "code",
   "execution_count": 33,
   "metadata": {},
   "outputs": [
    {
     "name": "stdout",
     "output_type": "stream",
     "text": [
      " * sqlite:///db_univ7_new.db\n",
      "Done.\n"
     ]
    },
    {
     "data": {
      "text/html": [
       "<table>\n",
       "    <tr>\n",
       "        <th>course_id</th>\n",
       "    </tr>\n",
       "    <tr>\n",
       "        <td>CS-101</td>\n",
       "    </tr>\n",
       "</table>"
      ],
      "text/plain": [
       "[('CS-101',)]"
      ]
     },
     "execution_count": 33,
     "metadata": {},
     "output_type": "execute_result"
    }
   ],
   "source": [
    "%%sql select course_id from section where semester = 'Fall' and year = 2017\n",
    "intersect\n",
    "select course_id from section where semester = 'Spring' and year = 2018 "
   ]
  },
  {
   "cell_type": "markdown",
   "metadata": {},
   "source": [
    "### except\n",
    "- [query] except [query]"
   ]
  },
  {
   "cell_type": "code",
   "execution_count": 34,
   "metadata": {},
   "outputs": [
    {
     "name": "stdout",
     "output_type": "stream",
     "text": [
      " * sqlite:///db_univ7_new.db\n",
      "Done.\n"
     ]
    },
    {
     "data": {
      "text/html": [
       "<table>\n",
       "    <tr>\n",
       "        <th>course_id</th>\n",
       "    </tr>\n",
       "    <tr>\n",
       "        <td>CS-347</td>\n",
       "    </tr>\n",
       "    <tr>\n",
       "        <td>PHY-101</td>\n",
       "    </tr>\n",
       "</table>"
      ],
      "text/plain": [
       "[('CS-347',), ('PHY-101',)]"
      ]
     },
     "execution_count": 34,
     "metadata": {},
     "output_type": "execute_result"
    }
   ],
   "source": [
    "%%sql\n",
    "select course_id from section where semester = 'Fall' and year = 2017\n",
    "except\n",
    "select course_id from section where semester = 'Spring' and year = 2018 "
   ]
  },
  {
   "cell_type": "markdown",
   "metadata": {},
   "source": [
    "## null value\n",
    "- where [attribute] **is null**\n",
    "- ex) 5<null, null><null, null=null --> unknown\n",
    "- true -> unknown -> false\n",
    "    - ex) true and unknown --> unknown --> return nothing\n",
    "    - ex) true or unknown --> true"
   ]
  },
  {
   "cell_type": "code",
   "execution_count": 35,
   "metadata": {},
   "outputs": [
    {
     "name": "stdout",
     "output_type": "stream",
     "text": [
      " * sqlite:///db_univ7_new.db\n",
      "Done.\n"
     ]
    },
    {
     "data": {
      "text/html": [
       "<table>\n",
       "    <tr>\n",
       "        <th>name</th>\n",
       "    </tr>\n",
       "</table>"
      ],
      "text/plain": [
       "[]"
      ]
     },
     "execution_count": 35,
     "metadata": {},
     "output_type": "execute_result"
    }
   ],
   "source": [
    "%%sql\n",
    "select name\n",
    "from instructor\n",
    "where salary is null"
   ]
  },
  {
   "cell_type": "code",
   "execution_count": 36,
   "metadata": {},
   "outputs": [
    {
     "name": "stdout",
     "output_type": "stream",
     "text": [
      " * sqlite:///db_univ7_new.db\n",
      "Done.\n"
     ]
    },
    {
     "data": {
      "text/html": [
       "<table>\n",
       "    <tr>\n",
       "        <th>name</th>\n",
       "    </tr>\n",
       "</table>"
      ],
      "text/plain": [
       "[]"
      ]
     },
     "execution_count": 36,
     "metadata": {},
     "output_type": "execute_result"
    }
   ],
   "source": [
    "%sql select name from instructor where salary > null"
   ]
  },
  {
   "cell_type": "code",
   "execution_count": 37,
   "metadata": {
    "scrolled": true
   },
   "outputs": [
    {
     "name": "stdout",
     "output_type": "stream",
     "text": [
      " * sqlite:///db_univ7_new.db\n",
      "1 rows affected.\n"
     ]
    },
    {
     "data": {
      "text/plain": [
       "[]"
      ]
     },
     "execution_count": 37,
     "metadata": {},
     "output_type": "execute_result"
    }
   ],
   "source": [
    "%sql insert into instructor values ('88888','Choi','Biology', null)"
   ]
  },
  {
   "cell_type": "code",
   "execution_count": 38,
   "metadata": {},
   "outputs": [
    {
     "name": "stdout",
     "output_type": "stream",
     "text": [
      " * sqlite:///db_univ7_new.db\n",
      "Done.\n"
     ]
    },
    {
     "data": {
      "text/html": [
       "<table>\n",
       "    <tr>\n",
       "        <th>name</th>\n",
       "    </tr>\n",
       "    <tr>\n",
       "        <td>Choi</td>\n",
       "    </tr>\n",
       "</table>"
      ],
      "text/plain": [
       "[('Choi',)]"
      ]
     },
     "execution_count": 38,
     "metadata": {},
     "output_type": "execute_result"
    }
   ],
   "source": [
    "%sql select name from instructor where salary is null"
   ]
  },
  {
   "cell_type": "code",
   "execution_count": 39,
   "metadata": {},
   "outputs": [
    {
     "name": "stdout",
     "output_type": "stream",
     "text": [
      " * sqlite:///db_univ7_new.db\n",
      "1 rows affected.\n"
     ]
    },
    {
     "data": {
      "text/plain": [
       "[]"
      ]
     },
     "execution_count": 39,
     "metadata": {},
     "output_type": "execute_result"
    }
   ],
   "source": [
    "%sql delete from instructor where salary is null"
   ]
  },
  {
   "cell_type": "markdown",
   "metadata": {},
   "source": [
    "아래 예시에서는, **dept_name = 'Comp. Sci.' or salary > null** 중 **salary > null**가 unknown이기 때문에, 앞부분 조건만 적용된다."
   ]
  },
  {
   "cell_type": "code",
   "execution_count": 40,
   "metadata": {},
   "outputs": [
    {
     "name": "stdout",
     "output_type": "stream",
     "text": [
      " * sqlite:///db_univ7_new.db\n",
      "Done.\n"
     ]
    },
    {
     "data": {
      "text/html": [
       "<table>\n",
       "    <tr>\n",
       "        <th>ID</th>\n",
       "        <th>name</th>\n",
       "        <th>dept_name</th>\n",
       "        <th>salary</th>\n",
       "    </tr>\n",
       "    <tr>\n",
       "        <td>10101</td>\n",
       "        <td>Srinivasan</td>\n",
       "        <td>Comp. Sci.</td>\n",
       "        <td>65000</td>\n",
       "    </tr>\n",
       "    <tr>\n",
       "        <td>45565</td>\n",
       "        <td>Katz</td>\n",
       "        <td>Comp. Sci.</td>\n",
       "        <td>75000</td>\n",
       "    </tr>\n",
       "    <tr>\n",
       "        <td>83821</td>\n",
       "        <td>Brandt</td>\n",
       "        <td>Comp. Sci.</td>\n",
       "        <td>92000</td>\n",
       "    </tr>\n",
       "</table>"
      ],
      "text/plain": [
       "[('10101', 'Srinivasan', 'Comp. Sci.', 65000),\n",
       " ('45565', 'Katz', 'Comp. Sci.', 75000),\n",
       " ('83821', 'Brandt', 'Comp. Sci.', 92000)]"
      ]
     },
     "execution_count": 40,
     "metadata": {},
     "output_type": "execute_result"
    }
   ],
   "source": [
    "%sql select * from instructor where dept_name = 'Comp. Sci.' or salary > null"
   ]
  },
  {
   "cell_type": "code",
   "execution_count": 41,
   "metadata": {},
   "outputs": [
    {
     "name": "stdout",
     "output_type": "stream",
     "text": [
      " * sqlite:///db_univ7_new.db\n",
      "Done.\n"
     ]
    },
    {
     "data": {
      "text/html": [
       "<table>\n",
       "    <tr>\n",
       "        <th>ID</th>\n",
       "        <th>name</th>\n",
       "        <th>dept_name</th>\n",
       "        <th>salary</th>\n",
       "    </tr>\n",
       "    <tr>\n",
       "        <td>10101</td>\n",
       "        <td>Srinivasan</td>\n",
       "        <td>Comp. Sci.</td>\n",
       "        <td>65000</td>\n",
       "    </tr>\n",
       "    <tr>\n",
       "        <td>45565</td>\n",
       "        <td>Katz</td>\n",
       "        <td>Comp. Sci.</td>\n",
       "        <td>75000</td>\n",
       "    </tr>\n",
       "    <tr>\n",
       "        <td>83821</td>\n",
       "        <td>Brandt</td>\n",
       "        <td>Comp. Sci.</td>\n",
       "        <td>92000</td>\n",
       "    </tr>\n",
       "</table>"
      ],
      "text/plain": [
       "[('10101', 'Srinivasan', 'Comp. Sci.', 65000),\n",
       " ('45565', 'Katz', 'Comp. Sci.', 75000),\n",
       " ('83821', 'Brandt', 'Comp. Sci.', 92000)]"
      ]
     },
     "execution_count": 41,
     "metadata": {},
     "output_type": "execute_result"
    }
   ],
   "source": [
    "%sql select * from instructor where dept_name = 'Comp. Sci.'"
   ]
  },
  {
   "cell_type": "markdown",
   "metadata": {},
   "source": [
    "## aggregate funtions\n",
    "- avg\n",
    "- count\n",
    "- min, max\n",
    "- sum"
   ]
  },
  {
   "cell_type": "markdown",
   "metadata": {},
   "source": [
    "### avg([attribute])"
   ]
  },
  {
   "cell_type": "code",
   "execution_count": 42,
   "metadata": {},
   "outputs": [
    {
     "name": "stdout",
     "output_type": "stream",
     "text": [
      " * sqlite:///db_univ7_new.db\n",
      "Done.\n"
     ]
    },
    {
     "data": {
      "text/html": [
       "<table>\n",
       "    <tr>\n",
       "        <th>avg(salary)</th>\n",
       "    </tr>\n",
       "    <tr>\n",
       "        <td>77333.33333333333</td>\n",
       "    </tr>\n",
       "</table>"
      ],
      "text/plain": [
       "[(77333.33333333333,)]"
      ]
     },
     "execution_count": 42,
     "metadata": {},
     "output_type": "execute_result"
    }
   ],
   "source": [
    "%sql select avg(salary) from instructor where dept_name = 'Comp. Sci.'"
   ]
  },
  {
   "cell_type": "markdown",
   "metadata": {},
   "source": [
    "### count([attribute])"
   ]
  },
  {
   "cell_type": "code",
   "execution_count": 43,
   "metadata": {},
   "outputs": [
    {
     "name": "stdout",
     "output_type": "stream",
     "text": [
      " * sqlite:///db_univ7_new.db\n",
      "Done.\n"
     ]
    },
    {
     "data": {
      "text/html": [
       "<table>\n",
       "    <tr>\n",
       "        <th>count (distinct ID)</th>\n",
       "    </tr>\n",
       "    <tr>\n",
       "        <td>6</td>\n",
       "    </tr>\n",
       "</table>"
      ],
      "text/plain": [
       "[(6,)]"
      ]
     },
     "execution_count": 43,
     "metadata": {},
     "output_type": "execute_result"
    }
   ],
   "source": [
    "%sql select count (distinct ID) from teaches where semester = 'Spring' and year = 2018"
   ]
  },
  {
   "cell_type": "code",
   "execution_count": 44,
   "metadata": {},
   "outputs": [
    {
     "name": "stdout",
     "output_type": "stream",
     "text": [
      " * sqlite:///db_univ7_new.db\n",
      "Done.\n"
     ]
    },
    {
     "data": {
      "text/html": [
       "<table>\n",
       "    <tr>\n",
       "        <th>course_id</th>\n",
       "        <th>title</th>\n",
       "        <th>dept_name</th>\n",
       "        <th>credits</th>\n",
       "    </tr>\n",
       "    <tr>\n",
       "        <td>BIO-101</td>\n",
       "        <td>Intro. to Biology</td>\n",
       "        <td>Biology</td>\n",
       "        <td>4</td>\n",
       "    </tr>\n",
       "    <tr>\n",
       "        <td>BIO-301</td>\n",
       "        <td>Genetics</td>\n",
       "        <td>Biology</td>\n",
       "        <td>4</td>\n",
       "    </tr>\n",
       "    <tr>\n",
       "        <td>BIO-399</td>\n",
       "        <td>Computational Biology</td>\n",
       "        <td>Biology</td>\n",
       "        <td>3</td>\n",
       "    </tr>\n",
       "    <tr>\n",
       "        <td>CS-101</td>\n",
       "        <td>Intro. to Computer Science</td>\n",
       "        <td>Comp. Sci.</td>\n",
       "        <td>4</td>\n",
       "    </tr>\n",
       "    <tr>\n",
       "        <td>CS-190</td>\n",
       "        <td>Game Design</td>\n",
       "        <td>Comp. Sci.</td>\n",
       "        <td>4</td>\n",
       "    </tr>\n",
       "    <tr>\n",
       "        <td>CS-315</td>\n",
       "        <td>Robotics</td>\n",
       "        <td>Comp. Sci.</td>\n",
       "        <td>3</td>\n",
       "    </tr>\n",
       "    <tr>\n",
       "        <td>CS-319</td>\n",
       "        <td>Image Processing</td>\n",
       "        <td>Comp. Sci.</td>\n",
       "        <td>3</td>\n",
       "    </tr>\n",
       "    <tr>\n",
       "        <td>CS-347</td>\n",
       "        <td>Database System Concepts</td>\n",
       "        <td>Comp. Sci.</td>\n",
       "        <td>3</td>\n",
       "    </tr>\n",
       "    <tr>\n",
       "        <td>EE-181</td>\n",
       "        <td>Intro. to Digital Systems</td>\n",
       "        <td>Elec. Eng.</td>\n",
       "        <td>3</td>\n",
       "    </tr>\n",
       "    <tr>\n",
       "        <td>FIN-201</td>\n",
       "        <td>Investment Banking</td>\n",
       "        <td>Finance</td>\n",
       "        <td>3</td>\n",
       "    </tr>\n",
       "    <tr>\n",
       "        <td>HIS-351</td>\n",
       "        <td>World History</td>\n",
       "        <td>History</td>\n",
       "        <td>3</td>\n",
       "    </tr>\n",
       "    <tr>\n",
       "        <td>MU-199</td>\n",
       "        <td>Music Video Production</td>\n",
       "        <td>Music</td>\n",
       "        <td>3</td>\n",
       "    </tr>\n",
       "    <tr>\n",
       "        <td>PHY-101</td>\n",
       "        <td>Physical Principles</td>\n",
       "        <td>Physics</td>\n",
       "        <td>4</td>\n",
       "    </tr>\n",
       "</table>"
      ],
      "text/plain": [
       "[('BIO-101', 'Intro. to Biology', 'Biology', 4),\n",
       " ('BIO-301', 'Genetics', 'Biology', 4),\n",
       " ('BIO-399', 'Computational Biology', 'Biology', 3),\n",
       " ('CS-101', 'Intro. to Computer Science', 'Comp. Sci.', 4),\n",
       " ('CS-190', 'Game Design', 'Comp. Sci.', 4),\n",
       " ('CS-315', 'Robotics', 'Comp. Sci.', 3),\n",
       " ('CS-319', 'Image Processing', 'Comp. Sci.', 3),\n",
       " ('CS-347', 'Database System Concepts', 'Comp. Sci.', 3),\n",
       " ('EE-181', 'Intro. to Digital Systems', 'Elec. Eng.', 3),\n",
       " ('FIN-201', 'Investment Banking', 'Finance', 3),\n",
       " ('HIS-351', 'World History', 'History', 3),\n",
       " ('MU-199', 'Music Video Production', 'Music', 3),\n",
       " ('PHY-101', 'Physical Principles', 'Physics', 4)]"
      ]
     },
     "execution_count": 44,
     "metadata": {},
     "output_type": "execute_result"
    }
   ],
   "source": [
    "%sql select * from course"
   ]
  },
  {
   "cell_type": "code",
   "execution_count": 45,
   "metadata": {},
   "outputs": [
    {
     "name": "stdout",
     "output_type": "stream",
     "text": [
      " * sqlite:///db_univ7_new.db\n",
      "Done.\n"
     ]
    },
    {
     "data": {
      "text/html": [
       "<table>\n",
       "    <tr>\n",
       "        <th>count (*)</th>\n",
       "    </tr>\n",
       "    <tr>\n",
       "        <td>13</td>\n",
       "    </tr>\n",
       "</table>"
      ],
      "text/plain": [
       "[(13,)]"
      ]
     },
     "execution_count": 45,
     "metadata": {},
     "output_type": "execute_result"
    }
   ],
   "source": [
    "%sql select count (*) from course;"
   ]
  },
  {
   "cell_type": "markdown",
   "metadata": {},
   "source": [
    "### group by [attribute]"
   ]
  },
  {
   "cell_type": "code",
   "execution_count": 46,
   "metadata": {},
   "outputs": [
    {
     "name": "stdout",
     "output_type": "stream",
     "text": [
      " * sqlite:///db_univ7_new.db\n",
      "Done.\n"
     ]
    },
    {
     "data": {
      "text/html": [
       "<table>\n",
       "    <tr>\n",
       "        <th>dept_name</th>\n",
       "        <th>avg (salary)</th>\n",
       "    </tr>\n",
       "    <tr>\n",
       "        <td>Biology</td>\n",
       "        <td>72000.0</td>\n",
       "    </tr>\n",
       "    <tr>\n",
       "        <td>Comp. Sci.</td>\n",
       "        <td>77333.33333333333</td>\n",
       "    </tr>\n",
       "    <tr>\n",
       "        <td>Elec. Eng.</td>\n",
       "        <td>80000.0</td>\n",
       "    </tr>\n",
       "    <tr>\n",
       "        <td>Finance</td>\n",
       "        <td>85000.0</td>\n",
       "    </tr>\n",
       "    <tr>\n",
       "        <td>History</td>\n",
       "        <td>61000.0</td>\n",
       "    </tr>\n",
       "    <tr>\n",
       "        <td>Music</td>\n",
       "        <td>40000.0</td>\n",
       "    </tr>\n",
       "    <tr>\n",
       "        <td>Physics</td>\n",
       "        <td>91000.0</td>\n",
       "    </tr>\n",
       "</table>"
      ],
      "text/plain": [
       "[('Biology', 72000.0),\n",
       " ('Comp. Sci.', 77333.33333333333),\n",
       " ('Elec. Eng.', 80000.0),\n",
       " ('Finance', 85000.0),\n",
       " ('History', 61000.0),\n",
       " ('Music', 40000.0),\n",
       " ('Physics', 91000.0)]"
      ]
     },
     "execution_count": 46,
     "metadata": {},
     "output_type": "execute_result"
    }
   ],
   "source": [
    "%sql select dept_name, avg (salary) from instructor group by dept_name;"
   ]
  },
  {
   "cell_type": "markdown",
   "metadata": {},
   "source": [
    "- 아래 예시의 경우, **ID** 값은 아무거나 .. 랜덤으로 (중요한 값이 아님)"
   ]
  },
  {
   "cell_type": "code",
   "execution_count": 47,
   "metadata": {},
   "outputs": [
    {
     "name": "stdout",
     "output_type": "stream",
     "text": [
      " * sqlite:///db_univ7_new.db\n",
      "Done.\n"
     ]
    },
    {
     "data": {
      "text/html": [
       "<table>\n",
       "    <tr>\n",
       "        <th>dept_name</th>\n",
       "        <th>ID</th>\n",
       "        <th>avg (salary)</th>\n",
       "    </tr>\n",
       "    <tr>\n",
       "        <td>Biology</td>\n",
       "        <td>76766</td>\n",
       "        <td>72000.0</td>\n",
       "    </tr>\n",
       "    <tr>\n",
       "        <td>Comp. Sci.</td>\n",
       "        <td>10101</td>\n",
       "        <td>77333.33333333333</td>\n",
       "    </tr>\n",
       "    <tr>\n",
       "        <td>Elec. Eng.</td>\n",
       "        <td>98345</td>\n",
       "        <td>80000.0</td>\n",
       "    </tr>\n",
       "    <tr>\n",
       "        <td>Finance</td>\n",
       "        <td>12121</td>\n",
       "        <td>85000.0</td>\n",
       "    </tr>\n",
       "    <tr>\n",
       "        <td>History</td>\n",
       "        <td>32343</td>\n",
       "        <td>61000.0</td>\n",
       "    </tr>\n",
       "    <tr>\n",
       "        <td>Music</td>\n",
       "        <td>15151</td>\n",
       "        <td>40000.0</td>\n",
       "    </tr>\n",
       "    <tr>\n",
       "        <td>Physics</td>\n",
       "        <td>22222</td>\n",
       "        <td>91000.0</td>\n",
       "    </tr>\n",
       "</table>"
      ],
      "text/plain": [
       "[('Biology', '76766', 72000.0),\n",
       " ('Comp. Sci.', '10101', 77333.33333333333),\n",
       " ('Elec. Eng.', '98345', 80000.0),\n",
       " ('Finance', '12121', 85000.0),\n",
       " ('History', '32343', 61000.0),\n",
       " ('Music', '15151', 40000.0),\n",
       " ('Physics', '22222', 91000.0)]"
      ]
     },
     "execution_count": 47,
     "metadata": {},
     "output_type": "execute_result"
    }
   ],
   "source": [
    "%sql select dept_name, ID, avg (salary) from instructor group by dept_name;"
   ]
  },
  {
   "cell_type": "markdown",
   "metadata": {},
   "source": [
    "### having [조건]\n",
    "-> 그냥 where 하나 더 건 느낌\n",
    "- contingency table만을 위한 조건\n",
    "- where이 있었다면, **group by** 이전에 실행"
   ]
  },
  {
   "cell_type": "markdown",
   "metadata": {},
   "source": [
    "- 아래 쿼리의 순서\n",
    "1. from\n",
    "2. where\n",
    "3. group by\n",
    "4. having\n",
    "5. select"
   ]
  },
  {
   "cell_type": "code",
   "execution_count": 48,
   "metadata": {},
   "outputs": [
    {
     "name": "stdout",
     "output_type": "stream",
     "text": [
      " * sqlite:///db_univ7_new.db\n",
      "Done.\n"
     ]
    },
    {
     "data": {
      "text/html": [
       "<table>\n",
       "    <tr>\n",
       "        <th>dept_name</th>\n",
       "        <th>avg (salary)</th>\n",
       "    </tr>\n",
       "    <tr>\n",
       "        <td>Biology</td>\n",
       "        <td>72000.0</td>\n",
       "    </tr>\n",
       "    <tr>\n",
       "        <td>Comp. Sci.</td>\n",
       "        <td>77333.33333333333</td>\n",
       "    </tr>\n",
       "    <tr>\n",
       "        <td>Elec. Eng.</td>\n",
       "        <td>80000.0</td>\n",
       "    </tr>\n",
       "    <tr>\n",
       "        <td>Finance</td>\n",
       "        <td>85000.0</td>\n",
       "    </tr>\n",
       "    <tr>\n",
       "        <td>History</td>\n",
       "        <td>61000.0</td>\n",
       "    </tr>\n",
       "    <tr>\n",
       "        <td>Physics</td>\n",
       "        <td>91000.0</td>\n",
       "    </tr>\n",
       "</table>"
      ],
      "text/plain": [
       "[('Biology', 72000.0),\n",
       " ('Comp. Sci.', 77333.33333333333),\n",
       " ('Elec. Eng.', 80000.0),\n",
       " ('Finance', 85000.0),\n",
       " ('History', 61000.0),\n",
       " ('Physics', 91000.0)]"
      ]
     },
     "execution_count": 48,
     "metadata": {},
     "output_type": "execute_result"
    }
   ],
   "source": [
    "%%sql select dept_name, avg (salary)\n",
    "from instructor\n",
    "group by dept_name\n",
    "having avg (salary) > 42000;"
   ]
  },
  {
   "cell_type": "markdown",
   "metadata": {},
   "source": [
    "## nested subquery"
   ]
  },
  {
   "cell_type": "markdown",
   "metadata": {},
   "source": [
    "### set membership\n",
    "1. select -> subquery that single value\n",
    "2. from -> any valid subquery\n",
    "3. where -> [attribute] [operation] [subquery]"
   ]
  },
  {
   "cell_type": "markdown",
   "metadata": {},
   "source": [
    "- in"
   ]
  },
  {
   "cell_type": "code",
   "execution_count": 49,
   "metadata": {},
   "outputs": [
    {
     "name": "stdout",
     "output_type": "stream",
     "text": [
      " * sqlite:///db_univ7_new.db\n",
      "Done.\n"
     ]
    },
    {
     "data": {
      "text/html": [
       "<table>\n",
       "    <tr>\n",
       "        <th>course_id</th>\n",
       "    </tr>\n",
       "    <tr>\n",
       "        <td>CS-101</td>\n",
       "    </tr>\n",
       "</table>"
      ],
      "text/plain": [
       "[('CS-101',)]"
      ]
     },
     "execution_count": 49,
     "metadata": {},
     "output_type": "execute_result"
    }
   ],
   "source": [
    "%%sql\n",
    "select distinct course_id\n",
    "from section\n",
    "where semester = 'Fall'\n",
    "    and year= 2017 \n",
    "    and course_id\n",
    "        in (select course_id from section where semester = 'Spring' and year= 2018);"
   ]
  },
  {
   "cell_type": "code",
   "execution_count": 2,
   "metadata": {},
   "outputs": [
    {
     "name": "stderr",
     "output_type": "stream",
     "text": [
      "UsageError: Cell magic `%%sql` not found.\n"
     ]
    }
   ],
   "source": [
    "%%sql select course_id\n",
    "from section\n",
    "where semester = 'Spring' and year= 2018;"
   ]
  },
  {
   "cell_type": "markdown",
   "metadata": {},
   "source": [
    "- not in"
   ]
  },
  {
   "cell_type": "code",
   "execution_count": 3,
   "metadata": {},
   "outputs": [
    {
     "name": "stderr",
     "output_type": "stream",
     "text": [
      "UsageError: Cell magic `%%sql` not found.\n"
     ]
    }
   ],
   "source": [
    "%%sql select distinct course_id\n",
    "from section\n",
    "where semester = 'Fall' and year= 2017 \n",
    "    and course_id\n",
    "        not in(select course_id from section where semester = 'Spring' and year= 2018);"
   ]
  },
  {
   "cell_type": "code",
   "execution_count": 4,
   "metadata": {},
   "outputs": [
    {
     "name": "stderr",
     "output_type": "stream",
     "text": [
      "UsageError: Cell magic `%%sql` not found.\n"
     ]
    }
   ],
   "source": [
    "%%sql select count (distinct ID)\n",
    "from takes\n",
    "where (course_id, sec_id, semester, year) in (select course_id, sec_id, semester, year\n",
    "                                        from teaches\n",
    "                                         where teaches.ID= 10101);\n"
   ]
  },
  {
   "cell_type": "code",
   "execution_count": 5,
   "metadata": {},
   "outputs": [
    {
     "name": "stderr",
     "output_type": "stream",
     "text": [
      "UsageError: Cell magic `%%sql` not found.\n"
     ]
    }
   ],
   "source": [
    "%%sql select *\n",
    "from takes as S, teaches as T\n",
    "where S.course_id = T.course_id\n",
    "and S.sec_id = T.sec_id\n",
    "and S.semester = T.semester\n",
    "and S.year = T.year\n",
    "and T.ID= 10101;"
   ]
  },
  {
   "cell_type": "code",
   "execution_count": 6,
   "metadata": {},
   "outputs": [
    {
     "name": "stderr",
     "output_type": "stream",
     "text": [
      "UsageError: Cell magic `%%sql` not found.\n"
     ]
    }
   ],
   "source": [
    "%%sql select count(distinct S.ID)\n",
    "from takes as S, teaches as T\n",
    "where S.course_id = T.course_id\n",
    "and S.sec_id = T.sec_id\n",
    "and S.semester = T.semester\n",
    "and S.year = T.year\n",
    "and T.ID= 10101;"
   ]
  },
  {
   "cell_type": "markdown",
   "metadata": {},
   "source": [
    "## set comparison(SQLite에서는 지원 안됨 ㅠ)\n",
    "- some\n",
    "- all"
   ]
  },
  {
   "cell_type": "markdown",
   "metadata": {},
   "source": [
    "### some\n",
    "- ex) 5 < some[0,5,6] --> true"
   ]
  },
  {
   "cell_type": "code",
   "execution_count": 7,
   "metadata": {},
   "outputs": [
    {
     "name": "stderr",
     "output_type": "stream",
     "text": [
      "UsageError: Cell magic `%%sql` not found.\n"
     ]
    }
   ],
   "source": [
    "%%sql select name\n",
    "from instructor as T, instructor as S\n",
    "where T.salary > S.salary and S.dept_name = 'Biology';"
   ]
  },
  {
   "cell_type": "markdown",
   "metadata": {},
   "source": [
    "- 위랑 아래랑 똑같은데\n",
    "- 아래가 더 좋음"
   ]
  },
  {
   "cell_type": "code",
   "execution_count": 8,
   "metadata": {},
   "outputs": [
    {
     "name": "stderr",
     "output_type": "stream",
     "text": [
      "UsageError: Cell magic `%%sql` not found.\n"
     ]
    }
   ],
   "source": [
    "%%sql select name\n",
    "from instructor\n",
    "where salary > some (select salary\n",
    "                     from instructor\n",
    "                    where dept_name = 'Biology');"
   ]
  },
  {
   "cell_type": "code",
   "execution_count": 9,
   "metadata": {},
   "outputs": [
    {
     "name": "stderr",
     "output_type": "stream",
     "text": [
      "UsageError: Cell magic `%%sql` not found.\n"
     ]
    }
   ],
   "source": [
    "%%sql select name\n",
    "from instructor\n",
    "where salary > (select salary\n",
    "                     from instructor\n",
    "                    where dept_name = 'Biology');"
   ]
  },
  {
   "cell_type": "markdown",
   "metadata": {},
   "source": [
    "### all\n",
    "- ex) 5 < all[6,10] --> true"
   ]
  },
  {
   "cell_type": "code",
   "execution_count": 10,
   "metadata": {},
   "outputs": [
    {
     "name": "stderr",
     "output_type": "stream",
     "text": [
      "UsageError: Cell magic `%%sql` not found.\n"
     ]
    }
   ],
   "source": [
    "%%sql select name\n",
    "from instructor\n",
    "where salary > all (select salary\n",
    "                     from instructor\n",
    "                    where dept_name = 'Biology');"
   ]
  }
 ],
 "metadata": {
  "kernelspec": {
   "display_name": "Python 3.8.12 ('gist20205149')",
   "language": "python",
   "name": "python3"
  },
  "language_info": {
   "codemirror_mode": {
    "name": "ipython",
    "version": 3
   },
   "file_extension": ".py",
   "mimetype": "text/x-python",
   "name": "python",
   "nbconvert_exporter": "python",
   "pygments_lexer": "ipython3",
   "version": "3.8.12"
  },
  "vscode": {
   "interpreter": {
    "hash": "ba02f23ef6e070bdbb723ad4c7c7640c7db25ebc23c87a47c19da5eb76547fba"
   }
  }
 },
 "nbformat": 4,
 "nbformat_minor": 2
}
